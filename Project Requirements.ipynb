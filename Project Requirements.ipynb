{
 "cells": [
  {
   "cell_type": "markdown",
   "metadata": {},
   "source": [
    "# **DEVELOPMENT REQUIREMENTS**\n",
    "\n",
    "* Use at least one API\n",
    "* Use pandas to clean & format your datasets\n",
    "* Create a Jupyter NB describing the data exploration and cleanup process.\n",
    "* Creata a Jupyter NB illystratin the final data analysis.\n",
    "* Use Matplotlib to create visualizaitons of your data.\n",
    "    * Ideally, you should have between 6 - 8 visualitations.\n",
    "    * Save PNG images of your visualizatins to use in your presentaion.\n",
    "* Create a write-up summarizing your major findings. This should include a heading for each \"question\" you asked of your data and a short description of your findings and any relevant plots.\n",
    "\n",
    "---\n",
    "\n",
    "# **PRESENTATION REQUIREMENTS**\n",
    "\n",
    "* Questions you found interesting & what moticatied you to answer them.\n",
    "* Where and how you found the data you used to answer these questions. \n",
    "* The data exploration and cleanup process.\n",
    "* The analysis process.\n",
    "* Your conclusions including a numerical summary and visualizations of the summary.\n",
    "* The implications of your findings.\n",
    "    * What do your findings mean?"
   ]
  },
  {
   "cell_type": "code",
   "execution_count": null,
   "metadata": {},
   "outputs": [],
   "source": []
  }
 ],
 "metadata": {
  "kernelspec": {
   "display_name": "Python 3",
   "language": "python",
   "name": "python3"
  },
  "language_info": {
   "codemirror_mode": {
    "name": "ipython",
    "version": 3
   },
   "file_extension": ".py",
   "mimetype": "text/x-python",
   "name": "python",
   "nbconvert_exporter": "python",
   "pygments_lexer": "ipython3",
   "version": "3.8.5"
  }
 },
 "nbformat": 4,
 "nbformat_minor": 4
}
