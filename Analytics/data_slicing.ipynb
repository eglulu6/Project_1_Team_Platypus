{
 "cells": [
  {
   "cell_type": "code",
   "execution_count": 40,
   "metadata": {},
   "outputs": [],
   "source": [
    "# dependancies and setup\n",
    "# Dependencies and Setup\n",
    "import matplotlib.pyplot as plt\n",
    "import pandas as pd\n",
    "import scipy.stats as sts\n",
    "import numpy as np\n",
    "import datetime\n",
    "import calendar"
   ]
  },
  {
   "cell_type": "markdown",
   "metadata": {},
   "source": [
    "---\n",
    "# Breach Data\n",
    "---"
   ]
  },
  {
   "cell_type": "markdown",
   "metadata": {},
   "source": [
    "### Pull and format data for analysis"
   ]
  },
  {
   "cell_type": "code",
   "execution_count": 9,
   "metadata": {},
   "outputs": [
    {
     "data": {
      "text/html": [
       "<div>\n",
       "<style scoped>\n",
       "    .dataframe tbody tr th:only-of-type {\n",
       "        vertical-align: middle;\n",
       "    }\n",
       "\n",
       "    .dataframe tbody tr th {\n",
       "        vertical-align: top;\n",
       "    }\n",
       "\n",
       "    .dataframe thead th {\n",
       "        text-align: right;\n",
       "    }\n",
       "</style>\n",
       "<table border=\"1\" class=\"dataframe\">\n",
       "  <thead>\n",
       "    <tr style=\"text-align: right;\">\n",
       "      <th></th>\n",
       "      <th>Unnamed: 0</th>\n",
       "      <th>Breach ID</th>\n",
       "      <th>State</th>\n",
       "      <th>Year</th>\n",
       "      <th>Full Date</th>\n",
       "    </tr>\n",
       "  </thead>\n",
       "  <tbody>\n",
       "    <tr>\n",
       "      <th>0</th>\n",
       "      <td>1054</td>\n",
       "      <td>725</td>\n",
       "      <td>TX</td>\n",
       "      <td>2012</td>\n",
       "      <td>2012-12-27</td>\n",
       "    </tr>\n",
       "    <tr>\n",
       "      <th>1</th>\n",
       "      <td>1053</td>\n",
       "      <td>438</td>\n",
       "      <td>CA</td>\n",
       "      <td>2011</td>\n",
       "      <td>2011-12-22</td>\n",
       "    </tr>\n",
       "    <tr>\n",
       "      <th>2</th>\n",
       "      <td>1052</td>\n",
       "      <td>818</td>\n",
       "      <td>MO</td>\n",
       "      <td>2009</td>\n",
       "      <td>2009-12-21</td>\n",
       "    </tr>\n",
       "    <tr>\n",
       "      <th>3</th>\n",
       "      <td>1050</td>\n",
       "      <td>676</td>\n",
       "      <td>MA</td>\n",
       "      <td>2012</td>\n",
       "      <td>2012-12-15</td>\n",
       "    </tr>\n",
       "    <tr>\n",
       "      <th>4</th>\n",
       "      <td>1049</td>\n",
       "      <td>638</td>\n",
       "      <td>CA</td>\n",
       "      <td>2012</td>\n",
       "      <td>2012-12-10</td>\n",
       "    </tr>\n",
       "  </tbody>\n",
       "</table>\n",
       "</div>"
      ],
      "text/plain": [
       "   Unnamed: 0  Breach ID State  Year   Full Date\n",
       "0        1054        725    TX  2012  2012-12-27\n",
       "1        1053        438    CA  2011  2011-12-22\n",
       "2        1052        818    MO  2009  2009-12-21\n",
       "3        1050        676    MA  2012  2012-12-15\n",
       "4        1049        638    CA  2012  2012-12-10"
      ]
     },
     "execution_count": 9,
     "metadata": {},
     "output_type": "execute_result"
    }
   ],
   "source": [
    "# import csv\n",
    "cyber_data = pd.read_csv('source_data/cyber_data_clean.csv')\n",
    "cyber_data.head()"
   ]
  },
  {
   "cell_type": "code",
   "execution_count": 44,
   "metadata": {},
   "outputs": [
    {
     "data": {
      "text/html": [
       "<div>\n",
       "<style scoped>\n",
       "    .dataframe tbody tr th:only-of-type {\n",
       "        vertical-align: middle;\n",
       "    }\n",
       "\n",
       "    .dataframe tbody tr th {\n",
       "        vertical-align: top;\n",
       "    }\n",
       "\n",
       "    .dataframe thead th {\n",
       "        text-align: right;\n",
       "    }\n",
       "</style>\n",
       "<table border=\"1\" class=\"dataframe\">\n",
       "  <thead>\n",
       "    <tr style=\"text-align: right;\">\n",
       "      <th></th>\n",
       "      <th>Unnamed: 0</th>\n",
       "      <th>Breach ID</th>\n",
       "      <th>State</th>\n",
       "      <th>Year</th>\n",
       "      <th>Full Date</th>\n",
       "      <th>Month</th>\n",
       "    </tr>\n",
       "  </thead>\n",
       "  <tbody>\n",
       "    <tr>\n",
       "      <th>0</th>\n",
       "      <td>1054</td>\n",
       "      <td>725</td>\n",
       "      <td>TX</td>\n",
       "      <td>2012</td>\n",
       "      <td>2012-12-27</td>\n",
       "      <td>Dec</td>\n",
       "    </tr>\n",
       "    <tr>\n",
       "      <th>1</th>\n",
       "      <td>1053</td>\n",
       "      <td>438</td>\n",
       "      <td>CA</td>\n",
       "      <td>2011</td>\n",
       "      <td>2011-12-22</td>\n",
       "      <td>Dec</td>\n",
       "    </tr>\n",
       "    <tr>\n",
       "      <th>2</th>\n",
       "      <td>1052</td>\n",
       "      <td>818</td>\n",
       "      <td>MO</td>\n",
       "      <td>2009</td>\n",
       "      <td>2009-12-21</td>\n",
       "      <td>Dec</td>\n",
       "    </tr>\n",
       "    <tr>\n",
       "      <th>3</th>\n",
       "      <td>1050</td>\n",
       "      <td>676</td>\n",
       "      <td>MA</td>\n",
       "      <td>2012</td>\n",
       "      <td>2012-12-15</td>\n",
       "      <td>Dec</td>\n",
       "    </tr>\n",
       "    <tr>\n",
       "      <th>4</th>\n",
       "      <td>1049</td>\n",
       "      <td>638</td>\n",
       "      <td>CA</td>\n",
       "      <td>2012</td>\n",
       "      <td>2012-12-10</td>\n",
       "      <td>Dec</td>\n",
       "    </tr>\n",
       "  </tbody>\n",
       "</table>\n",
       "</div>"
      ],
      "text/plain": [
       "   Unnamed: 0  Breach ID State  Year   Full Date Month\n",
       "0        1054        725    TX  2012  2012-12-27   Dec\n",
       "1        1053        438    CA  2011  2011-12-22   Dec\n",
       "2        1052        818    MO  2009  2009-12-21   Dec\n",
       "3        1050        676    MA  2012  2012-12-15   Dec\n",
       "4        1049        638    CA  2012  2012-12-10   Dec"
      ]
     },
     "execution_count": 44,
     "metadata": {},
     "output_type": "execute_result"
    }
   ],
   "source": [
    "# drop unneeded column\n",
<<<<<<< HEAD
    "# cyber_data = cyber_data.drop(['Unnamed: 0'], axis=1)\n",
=======
    "#cyber_data = cyber_data.drop(['Unnamed: 0'], axis=1)\n",
>>>>>>> EM_branch1
    "\n",
    "# add month column\n",
    "cyber_data['Month'] = pd.DatetimeIndex(cyber_data['Full Date']).month\n",
    "cyber_data['Month'] = cyber_data['Month'].apply(lambda x: calendar.month_abbr[x])\n",
    "cyber_data.head()"
   ]
  },
  {
   "cell_type": "markdown",
   "metadata": {},
   "source": [
    "---\n",
    "### Get a sense of the data by running inital analysis"
   ]
  },
  {
   "cell_type": "code",
   "execution_count": null,
   "metadata": {},
   "outputs": [],
   "source": [
    "# look at overall data distribution\n",
    "len_brch = len(cyber_data['State'])\n",
    "plt.figure(figsize=(15,15))\n",
    "plt.hist(cyber_data['State'], bins=10, edgecolor='black')\n",
    "plt.xticks(rotation=90, size=15)\n",
    "plt.xlabel('State', size=15)\n",
    "plt.ylabel('? Frequency of what ?', size=15)\n",
    "plt.show()\n",
    "# looks very abnormal"
   ]
  },
  {
   "cell_type": "code",
   "execution_count": null,
   "metadata": {},
<<<<<<< HEAD
   "outputs": [],
=======
   "outputs": [
    {
     "data": {
      "text/html": [
       "<div>\n",
       "<style scoped>\n",
       "    .dataframe tbody tr th:only-of-type {\n",
       "        vertical-align: middle;\n",
       "    }\n",
       "\n",
       "    .dataframe tbody tr th {\n",
       "        vertical-align: top;\n",
       "    }\n",
       "\n",
       "    .dataframe thead th {\n",
       "        text-align: right;\n",
       "    }\n",
       "</style>\n",
       "<table border=\"1\" class=\"dataframe\">\n",
       "  <thead>\n",
       "    <tr style=\"text-align: right;\">\n",
       "      <th></th>\n",
       "      <th>Unnamed: 0</th>\n",
       "      <th>Breach ID</th>\n",
       "      <th>Year</th>\n",
       "    </tr>\n",
       "  </thead>\n",
       "  <tbody>\n",
       "    <tr>\n",
       "      <th>count</th>\n",
       "      <td>1018.000000</td>\n",
       "      <td>1018.000000</td>\n",
       "      <td>1018.000000</td>\n",
       "    </tr>\n",
       "    <tr>\n",
       "      <th>mean</th>\n",
       "      <td>530.166012</td>\n",
       "      <td>527.172888</td>\n",
       "      <td>2011.454813</td>\n",
       "    </tr>\n",
       "    <tr>\n",
       "      <th>std</th>\n",
       "      <td>305.344094</td>\n",
       "      <td>303.984328</td>\n",
       "      <td>1.587321</td>\n",
       "    </tr>\n",
       "    <tr>\n",
       "      <th>min</th>\n",
       "      <td>0.000000</td>\n",
       "      <td>0.000000</td>\n",
       "      <td>1997.000000</td>\n",
       "    </tr>\n",
       "    <tr>\n",
       "      <th>25%</th>\n",
       "      <td>265.250000</td>\n",
       "      <td>263.250000</td>\n",
       "      <td>2010.000000</td>\n",
       "    </tr>\n",
       "    <tr>\n",
       "      <th>50%</th>\n",
       "      <td>533.500000</td>\n",
       "      <td>532.500000</td>\n",
       "      <td>2012.000000</td>\n",
       "    </tr>\n",
       "    <tr>\n",
       "      <th>75%</th>\n",
       "      <td>797.750000</td>\n",
       "      <td>787.750000</td>\n",
       "      <td>2013.000000</td>\n",
       "    </tr>\n",
       "    <tr>\n",
       "      <th>max</th>\n",
       "      <td>1054.000000</td>\n",
       "      <td>1054.000000</td>\n",
       "      <td>2014.000000</td>\n",
       "    </tr>\n",
       "  </tbody>\n",
       "</table>\n",
       "</div>"
      ],
      "text/plain": [
       "        Unnamed: 0    Breach ID         Year\n",
       "count  1018.000000  1018.000000  1018.000000\n",
       "mean    530.166012   527.172888  2011.454813\n",
       "std     305.344094   303.984328     1.587321\n",
       "min       0.000000     0.000000  1997.000000\n",
       "25%     265.250000   263.250000  2010.000000\n",
       "50%     533.500000   532.500000  2012.000000\n",
       "75%     797.750000   787.750000  2013.000000\n",
       "max    1054.000000  1054.000000  2014.000000"
      ]
     },
     "execution_count": 5,
     "metadata": {},
     "output_type": "execute_result"
    }
   ],
>>>>>>> EM_branch1
   "source": [
    "cyber_data.describe()"
   ]
  },
  {
   "cell_type": "markdown",
   "metadata": {},
   "source": [
    "### Find the States with the most and least data breaches"
   ]
  },
  {
   "cell_type": "code",
   "execution_count": null,
   "metadata": {},
   "outputs": [],
   "source": [
    "# group data and count breach occurances\n",
    "# sort values so that the max is at the top and min is last\n",
    "top_breach_States = pd.DataFrame(cyber_data.groupby(['State'])['Breach ID'].count().sort_values(ascending=False))\n",
    "\n",
    "# use describe to identify min/max values for boolean then convert to int\n",
    "st_breach_max = int(top_breach_States.describe().max()) \n",
    "st_breach_min = int(top_breach_States.describe().min())\n",
    "\n",
    "#isolate the min State\n",
    "top_breach_States[top_breach_States['Breach ID']==st_breach_min]\n",
    "# isolate the max State\n",
    "top_breach_States[top_breach_States['Breach ID']==st_breach_max]"
   ]
  },
  {
   "cell_type": "markdown",
   "metadata": {},
   "source": [
    "## BARCHART OF StateS & BRAECH COUNT"
   ]
  },
  {
   "cell_type": "markdown",
   "metadata": {},
   "source": [
    "### Look for trends over the Years"
   ]
  },
  {
   "cell_type": "code",
   "execution_count": null,
   "metadata": {},
   "outputs": [],
   "source": [
    "# DF of breach counts by YR \n",
    "# remove Years with very little data\n",
    "cyber_data = cyber_data[cyber_data['Year']>2007]\n",
    "yr_breach_count = pd.DataFrame(cyber_data.groupby(['Year'])['Breach ID'].count())                              \n",
    "yr_breach_count = yr_breach_count.rename(columns={'Breach ID': 'Breach Count'}) \n",
    "yr_breach_count.reset_index().sort_values('Breach Count',ascending=True).head()\n",
    "yr_breach_count"
   ]
  },
  {
   "cell_type": "markdown",
   "metadata": {},
   "source": [
    "# BARCHART CHART HERE Year AND BREACH COUNT"
   ]
  },
  {
   "cell_type": "markdown",
   "metadata": {},
   "source": [
    "---"
   ]
  },
  {
   "cell_type": "markdown",
   "metadata": {},
   "source": [
    "## Isolate data to most occurances of data breaches"
   ]
  },
  {
   "cell_type": "code",
   "execution_count": null,
   "metadata": {},
   "outputs": [],
   "source": [
    "# pull only the data points that are in tX & CA\n",
    "tx_breaches = cyber_data.loc[(cyber_data['State']=='TX')]\n",
    "ca_breaches = cyber_data.loc[(cyber_data['State']=='CA')]"
   ]
  },
  {
   "cell_type": "markdown",
   "metadata": {},
   "source": [
    "## Look at all breaches for all Years over the dataset "
   ]
  },
  {
   "cell_type": "markdown",
   "metadata": {},
   "source": [
    "----\n",
    "# **Fire Data** "
   ]
  },
  {
   "cell_type": "markdown",
   "metadata": {},
   "source": [
    "---\n",
    "### Pull and format data for analysis"
   ]
  },
  {
   "cell_type": "code",
<<<<<<< HEAD
   "execution_count": 35,
=======
   "execution_count": 9,
>>>>>>> EM_branch1
   "metadata": {},
   "outputs": [
    {
     "data": {
      "text/html": [
       "<div>\n",
       "<style scoped>\n",
       "    .dataframe tbody tr th:only-of-type {\n",
       "        vertical-align: middle;\n",
       "    }\n",
       "\n",
       "    .dataframe tbody tr th {\n",
       "        vertical-align: top;\n",
       "    }\n",
       "\n",
       "    .dataframe thead th {\n",
       "        text-align: right;\n",
       "    }\n",
       "</style>\n",
       "<table border=\"1\" class=\"dataframe\">\n",
       "  <thead>\n",
       "    <tr style=\"text-align: right;\">\n",
       "      <th></th>\n",
       "      <th>Unnamed: 0</th>\n",
       "      <th>dis_id</th>\n",
       "      <th>date</th>\n",
       "      <th>state</th>\n",
       "      <th>type</th>\n",
       "    </tr>\n",
       "  </thead>\n",
       "  <tbody>\n",
       "    <tr>\n",
       "      <th>0</th>\n",
       "      <td>1743</td>\n",
       "      <td>5f7b2c0831a8c6681cfd7421</td>\n",
       "      <td>2008-02-08</td>\n",
       "      <td>TX</td>\n",
       "      <td>Fire</td>\n",
       "    </tr>\n",
       "    <tr>\n",
       "      <th>1</th>\n",
       "      <td>1744</td>\n",
       "      <td>5f7b2c0831a8c6681cfd7423</td>\n",
       "      <td>2008-02-13</td>\n",
       "      <td>TX</td>\n",
       "      <td>Fire</td>\n",
       "    </tr>\n",
       "    <tr>\n",
       "      <th>2</th>\n",
       "      <td>1745</td>\n",
       "      <td>5f7b2c0831a8c6681cfd7426</td>\n",
       "      <td>2008-02-23</td>\n",
       "      <td>TX</td>\n",
       "      <td>Fire</td>\n",
       "    </tr>\n",
       "    <tr>\n",
       "      <th>3</th>\n",
       "      <td>1746</td>\n",
       "      <td>5f7b2c0831a8c6681cfd742a</td>\n",
       "      <td>2008-02-25</td>\n",
       "      <td>TX</td>\n",
       "      <td>Fire</td>\n",
       "    </tr>\n",
       "    <tr>\n",
       "      <th>4</th>\n",
       "      <td>1747</td>\n",
       "      <td>5f7b2c0831a8c6681cfd742e</td>\n",
       "      <td>2008-02-25</td>\n",
       "      <td>OK</td>\n",
       "      <td>Fire</td>\n",
       "    </tr>\n",
       "  </tbody>\n",
       "</table>\n",
       "</div>"
      ],
      "text/plain": [
       "   Unnamed: 0                    dis_id        date state  type\n",
       "0        1743  5f7b2c0831a8c6681cfd7421  2008-02-08    TX  Fire\n",
       "1        1744  5f7b2c0831a8c6681cfd7423  2008-02-13    TX  Fire\n",
       "2        1745  5f7b2c0831a8c6681cfd7426  2008-02-23    TX  Fire\n",
       "3        1746  5f7b2c0831a8c6681cfd742a  2008-02-25    TX  Fire\n",
       "4        1747  5f7b2c0831a8c6681cfd742e  2008-02-25    OK  Fire"
      ]
     },
<<<<<<< HEAD
     "execution_count": 35,
=======
     "execution_count": 9,
>>>>>>> EM_branch1
     "metadata": {},
     "output_type": "execute_result"
    }
   ],
   "source": [
    "# pull in fire data from API results\n",
    "firedf = pd.read_csv('source_data/disaster_data.csv')\n",
    "firedf.head()"
   ]
  },
  {
   "cell_type": "code",
<<<<<<< HEAD
   "execution_count": 36,
=======
   "execution_count": 10,
>>>>>>> EM_branch1
   "metadata": {},
   "outputs": [],
   "source": [
    "# add month and yr columns\n",
    "firedf['Month'] = pd.DatetimeIndex(firedf['date']).month\n",
    "firedf['Year'] = pd.DatetimeIndex(firedf['date']).year\n",
    "# change month # to month name\n",
    "firedf['Month'] = firedf['Month'].apply(lambda x: calendar.month_abbr[x])\n",
    "# drop unnamed column\n",
    "del firedf['Unnamed: 0']"
   ]
  },
  {
   "cell_type": "code",
<<<<<<< HEAD
   "execution_count": 18,
=======
   "execution_count": 11,
>>>>>>> EM_branch1
   "metadata": {},
   "outputs": [
    {
     "data": {
      "text/html": [
       "<div>\n",
       "<style scoped>\n",
       "    .dataframe tbody tr th:only-of-type {\n",
       "        vertical-align: middle;\n",
       "    }\n",
       "\n",
       "    .dataframe tbody tr th {\n",
       "        vertical-align: top;\n",
       "    }\n",
       "\n",
       "    .dataframe thead th {\n",
       "        text-align: right;\n",
       "    }\n",
       "</style>\n",
       "<table border=\"1\" class=\"dataframe\">\n",
       "  <thead>\n",
       "    <tr style=\"text-align: right;\">\n",
       "      <th></th>\n",
       "      <th>Fire ID</th>\n",
       "      <th>Full Date</th>\n",
       "      <th>State</th>\n",
       "      <th>Type</th>\n",
       "      <th>Month</th>\n",
       "      <th>Year</th>\n",
       "    </tr>\n",
       "  </thead>\n",
       "  <tbody>\n",
       "    <tr>\n",
       "      <th>0</th>\n",
       "      <td>5f7b2c0831a8c6681cfd7421</td>\n",
       "      <td>2008-02-08</td>\n",
       "      <td>TX</td>\n",
       "      <td>Fire</td>\n",
       "      <td>Feb</td>\n",
       "      <td>2008</td>\n",
       "    </tr>\n",
       "    <tr>\n",
       "      <th>1</th>\n",
       "      <td>5f7b2c0831a8c6681cfd7423</td>\n",
       "      <td>2008-02-13</td>\n",
       "      <td>TX</td>\n",
       "      <td>Fire</td>\n",
       "      <td>Feb</td>\n",
       "      <td>2008</td>\n",
       "    </tr>\n",
       "    <tr>\n",
       "      <th>2</th>\n",
       "      <td>5f7b2c0831a8c6681cfd7426</td>\n",
       "      <td>2008-02-23</td>\n",
       "      <td>TX</td>\n",
       "      <td>Fire</td>\n",
       "      <td>Feb</td>\n",
       "      <td>2008</td>\n",
       "    </tr>\n",
       "    <tr>\n",
       "      <th>3</th>\n",
       "      <td>5f7b2c0831a8c6681cfd742a</td>\n",
       "      <td>2008-02-25</td>\n",
       "      <td>TX</td>\n",
       "      <td>Fire</td>\n",
       "      <td>Feb</td>\n",
       "      <td>2008</td>\n",
       "    </tr>\n",
       "    <tr>\n",
       "      <th>4</th>\n",
       "      <td>5f7b2c0831a8c6681cfd742e</td>\n",
       "      <td>2008-02-25</td>\n",
       "      <td>OK</td>\n",
       "      <td>Fire</td>\n",
       "      <td>Feb</td>\n",
       "      <td>2008</td>\n",
       "    </tr>\n",
       "    <tr>\n",
       "      <th>...</th>\n",
       "      <td>...</td>\n",
       "      <td>...</td>\n",
       "      <td>...</td>\n",
       "      <td>...</td>\n",
       "      <td>...</td>\n",
       "      <td>...</td>\n",
       "    </tr>\n",
       "    <tr>\n",
       "      <th>861</th>\n",
       "      <td>5f7b2c3231a8c6681cfffc55</td>\n",
       "      <td>2014-09-13</td>\n",
       "      <td>CA</td>\n",
       "      <td>Fire</td>\n",
       "      <td>Sep</td>\n",
       "      <td>2014</td>\n",
       "    </tr>\n",
       "    <tr>\n",
       "      <th>862</th>\n",
       "      <td>5f7b2c3231a8c6681cfffc49</td>\n",
       "      <td>2014-09-14</td>\n",
       "      <td>CA</td>\n",
       "      <td>Fire</td>\n",
       "      <td>Sep</td>\n",
       "      <td>2014</td>\n",
       "    </tr>\n",
       "    <tr>\n",
       "      <th>863</th>\n",
       "      <td>5f7b2c3231a8c6681cfffc4b</td>\n",
       "      <td>2014-09-15</td>\n",
       "      <td>CA</td>\n",
       "      <td>Fire</td>\n",
       "      <td>Sep</td>\n",
       "      <td>2014</td>\n",
       "    </tr>\n",
       "    <tr>\n",
       "      <th>864</th>\n",
       "      <td>5f7b2c3231a8c6681cfffc4e</td>\n",
       "      <td>2014-09-15</td>\n",
       "      <td>OR</td>\n",
       "      <td>Fire</td>\n",
       "      <td>Sep</td>\n",
       "      <td>2014</td>\n",
       "    </tr>\n",
       "    <tr>\n",
       "      <th>865</th>\n",
       "      <td>5f7b2c3231a8c6681cfffca3</td>\n",
       "      <td>2014-10-08</td>\n",
       "      <td>CA</td>\n",
       "      <td>Fire</td>\n",
       "      <td>Oct</td>\n",
       "      <td>2014</td>\n",
       "    </tr>\n",
       "  </tbody>\n",
       "</table>\n",
       "<p>866 rows × 6 columns</p>\n",
       "</div>"
      ],
      "text/plain": [
       "                      Fire ID   Full Date State  Type Month  Year\n",
       "0    5f7b2c0831a8c6681cfd7421  2008-02-08    TX  Fire   Feb  2008\n",
       "1    5f7b2c0831a8c6681cfd7423  2008-02-13    TX  Fire   Feb  2008\n",
       "2    5f7b2c0831a8c6681cfd7426  2008-02-23    TX  Fire   Feb  2008\n",
       "3    5f7b2c0831a8c6681cfd742a  2008-02-25    TX  Fire   Feb  2008\n",
       "4    5f7b2c0831a8c6681cfd742e  2008-02-25    OK  Fire   Feb  2008\n",
       "..                        ...         ...   ...   ...   ...   ...\n",
       "861  5f7b2c3231a8c6681cfffc55  2014-09-13    CA  Fire   Sep  2014\n",
       "862  5f7b2c3231a8c6681cfffc49  2014-09-14    CA  Fire   Sep  2014\n",
       "863  5f7b2c3231a8c6681cfffc4b  2014-09-15    CA  Fire   Sep  2014\n",
       "864  5f7b2c3231a8c6681cfffc4e  2014-09-15    OR  Fire   Sep  2014\n",
       "865  5f7b2c3231a8c6681cfffca3  2014-10-08    CA  Fire   Oct  2014\n",
       "\n",
       "[866 rows x 6 columns]"
      ]
     },
<<<<<<< HEAD
     "execution_count": 18,
=======
     "execution_count": 11,
>>>>>>> EM_branch1
     "metadata": {},
     "output_type": "execute_result"
    }
   ],
   "source": [
    "# Change all column names to match data_df headers\n",
    "firedf = firedf.rename(columns={'dis_id':'Fire ID', 'date':'Full Date', 'state':'State', 'type':'Type'})\n",
    "firedf"
   ]
  },
  {
   "cell_type": "markdown",
   "metadata": {},
   "source": [
    "---\n",
    "### Get a sense of the data by running inital analysis"
   ]
  },
  {
   "cell_type": "code",
<<<<<<< HEAD
   "execution_count": 19,
   "metadata": {},
   "outputs": [
    {
     "data": {
      "image/png": "iVBORw0KGgoAAAANSUhEUgAAAYUAAAEGCAYAAACKB4k+AAAAOXRFWHRTb2Z0d2FyZQBNYXRwbG90bGliIHZlcnNpb24zLjMuMiwgaHR0cHM6Ly9tYXRwbG90bGliLm9yZy8vihELAAAACXBIWXMAAAsTAAALEwEAmpwYAAAfEElEQVR4nO3de/xUdb3v8ddbVNTUBEVFUNEiTctLolmaeSklu6CdLDy1I7dFtdmllpW07WjnHI7uXWlaWZFWZKnRRWVbVoShZhiikgpK4iUlSEkzLymEfs4f3+8sF/Obmd/68WNmgN/7+XjMY2Z9Z33X+qyZNesz33X5LkUEZmZmABt1OwAzM1t3OCmYmVnBScHMzApOCmZmVnBSMDOzwsbdDqA/tttuuxg1alS3wzAzW6/ceuutf42IYY3eW6+TwqhRo5g3b163wzAzW69I+lOz97z7yMzMCm1NCpK2kfRjSfdIulvS6yQNlTRT0r35eUhp/MmSFktaJOmYdsZmZmY9tbulcAHwi4jYE9gXuBs4A5gVEaOBWXkYSXsB44G9gbHARZIGtTk+MzMraVtSkLQ1cBhwCUBErIyIJ4BxwLQ82jTguPx6HHBFRKyIiAeAxcBB7YrPzMx6amdLYXdgOfAdSbdLuljSS4AdImIZQH7ePo8/Ani4VH9JLluNpImS5kmat3z58jaGb2Y28LQzKWwMvAb4ekTsDzxD3lXUhBqU9eitLyKmRsSYiBgzbFjDM6rMzGwNtTMpLAGWRMTv8/CPSUniEUnDAfLzo6Xxdy7VHwksbWN8ZmZWp21JISL+AjwsaY9cdBSwEJgBTMhlE4Cr8+sZwHhJgyXtBowG5rYrPjMz66ndF699DPiBpE2B+4GTSIlouqSTgYeAEwAiYoGk6aTEsQqYFBHPtzk+MzMraWtSiIj5wJgGbx3VZPwpwJR2xlQ26oyfdWpWq3nw3Ld2Zb5mZr3xFc1mZlZwUjAzs4KTgpmZFZwUzMys4KRgZmYFJwUzMys4KZiZWcFJwczMCk4KZmZWcFIwM7OCk4KZmRWcFMzMrOCkYGZmBScFMzMrOCmYmVnBScHMzApOCmZmVnBSMDOzgpOCmZkVnBTMzKzgpGBmZgUnBTMzKzgpmJlZwUnBzMwKTgpmZlZwUjAzs4KTgpmZFdqaFCQ9KOlOSfMlzctlQyXNlHRvfh5SGn+ypMWSFkk6pp2xmZlZT51oKRwREftFxJg8fAYwKyJGA7PyMJL2AsYDewNjgYskDepAfGZmlnVj99E4YFp+PQ04rlR+RUSsiIgHgMXAQZ0Pz8xs4Gp3UgjgV5JulTQxl+0QEcsA8vP2uXwE8HCp7pJcthpJEyXNkzRv+fLlbQzdzGzg2bjN0z8kIpZK2h6YKemeFuOqQVn0KIiYCkwFGDNmTI/3zcxszbW1pRARS/Pzo8CVpN1Bj0gaDpCfH82jLwF2LlUfCSxtZ3xmZra6tiUFSS+RtFXtNXA0cBcwA5iQR5sAXJ1fzwDGSxosaTdgNDC3XfGZmVlP7dx9tANwpaTafC6LiF9IugWYLulk4CHgBICIWCBpOrAQWAVMiojn2xifmZnVaVtSiIj7gX0blD8GHNWkzhRgSrtiMjOz1nxFs5mZFZwUzMys4KRgZmYFJwUzMys4KZiZWcFJwczMCk4KZmZWcFIwM7OCk4KZmRWcFMzMrNA0KUjaXdK3JF0oaZdOBmVmZt3RqqVwBXAL6Q5o10k6pDMhmZlZt7RKCptFxNSIuBB4F3ChpCckvVPSbzsUn5mZdVCrXlIfkbRPRNwREfOBA0rv/bS9YZmZWTe0Sgr/s5f3zcxsA9N0ox8RyzsZiJmZdZ9PSTUzs4KTgpmZFXpNCpIurVJmZmbrvyothb3LA5IGsfqZSGZmtoFodUXzZElPAftIejI/ngIeBa7uWIRmZtYxTZNCRJwTEVsBX4iIrfNjq4jYNiImdzBGMzPrkF6vQ4iIyZKGAKOBzUrlN7QzMDMz67xek4KkDwKnACOB+cDBwBzgyLZGZmZmHVflQPMpwIHAnyLiCGB/wBe2mZltgKokheci4jkASYMj4h5gj/aGZWZm3VAlKSyRtA1wFTBT0tXA0qozkDRI0u2SrsnDQyXNlHRvfh5SGneypMWSFkk6pm+LYmZm/dVrUoiI4yPiiYg4G/gccAlwXB/mcQpwd2n4DGBWRIwGZuVhJO0FjCddFzEWuChfE2FmZh1SqZuL/G9/J+AB0sHmHSvWGwm8Fbi4VDwOmJZfT+PFBDMOuCIiVkTEA6Sb+xxUZT5mZrZ2VDn76GPAWcAjwAu5OIB9Kkz/y8Cnga1KZTtExDKAiFgmaftcPgK4uTTeklxWH89EYCLALrv4LqFmZmtTlfslnALsERGP9WXCkt4GPBoRt0o6vEqVBmXRoyBiKjAVYMyYMT3eNzOzNVclKTwM/H0Npn0I8A5Jx5Iuetta0vdJd3QbnlsJw0ndZkBqGexcqj+SPhzQNjOz/muaFCR9Ir+8H5gt6WfAitr7EXFeqwnnrjAm52kdDpweEe+T9AVgAnBufq71ozQDuEzSecBOpCuo5/Z9kczMbE21ainUjgM8lB+b5kd/nQtMl3Rynu4JABGxQNJ0YCGwCpgUEc+vhfmZmVlFrW7H+XkASbtHxP39mUlEzAZm59ePAUc1GW8KMKU/8zIzszVX5ZjCdyWNAG4BbgBujIg72xuWmZl1Q5VeUg+TtCmp/6PDgZ9J2jIihrY7ODMz66wq1ykcCrwhP7YBrgFubG9YZmbWDVV2H10PzAPOAX4eESvbG5KZmXVLlaSwLemag8OAj0t6AZgTEZ9ra2RmZtZxVY4pPCHpftKFZSOB1wObtDswMzPrvCrHFO4DFpGOI3wDOMm7kMzMNkxVdh+NjogXeh/NzMzWd1Xup+CEYGY2QFS6n4KZmQ0MTZOCpFPy8yGdC8fMzLqpVUvhpPz8lU4EYmZm3dfqQPPdkh4Ehkm6o1QuICKiyp3XzMxsPdKql9QTJe0I/BJ4R+dCMjOzbml5SmpE/AXYN3eI94pcvCgi/tn2yMzMrOOqXLz2RuB7wIOkXUc7S5oQETe0OTYzM+uwKhevnQccHRGLACS9ArgcOKCdgZmZWedVuU5hk1pCAIiIP+K+j8zMNkhVWgrzJF0CXJqH3wvc2r6QzMysW6okhY8Ck4CPk44p3ABc1M6gzMysO6p0nb2CdFzhvPaHY2Zm3eS+j8zMrOCkYGZmhV6TgqRXdSIQMzPrviothW9Imivp3yRt0+6AzMyse6rcZOdQ0mmoO5NOT71M0pvbHpmZmXVcpWMKEXEvcCbwGeCNwIWS7pH0zmZ1JG2WWxh/kLRA0udz+VBJMyXdm5+HlOpMlrRY0iJJx/Rv0czMrK+qHFPYR9L5wN3AkcDbI+KV+fX5LaquAI6MiH2B/YCxkg4GzgBmRcRoYFYeRtJewHhgb2AscJGkQWu6YGZm1ndVWgpfBW4D9o2ISRFxG0BELCW1HhqK5Ok8uEl+BDAOmJbLpwHH5dfjgCsiYkVEPAAsBg7q2+KYmVl/VEkKxwKXRcSzAJI2krQFQERc2qqipEGS5gOPAjMj4vfADhGxLNdfBmyfRx8BPFyqviSX1U9zoqR5kuYtX768QvhmZlZVlaTwa2Dz0vAWuaxXEfF8ROwHjAQO6uX0VjWaRINpTo2IMRExZtiwYVXCMDOziqokhc1Ku4HIr7foy0wi4glgNulYwSOShgPk50fzaEtIZzjVjASW9mU+ZmbWP1WSwjOSXlMbkHQA8GxvlSQNq13XIGlz4E3APcAMYEIebQJwdX49AxgvabCk3YDRwNyKy2FmZmtBlV5STwV+JKn2r3048J4K9YYD0/IZRBsB0yPiGklzgOmSTgYeAk4AiIgFkqYDC4FVwKSIeL5PS2NmZv1SpZfUWyTtCexB2u9/T5V7NEfEHcD+DcofA45qUmcKMKW3aZuZWXtUaSkAHAiMyuPvL4mI+F7bojIzs67oNSlIuhR4GTAfqO3OCcBJwcxsA1OlpTAG2CsiepweamZmG5YqZx/dBezY7kDMzKz7qrQUtgMWSppL6s8IgIh4R9uiMjOzrqiSFM5udxBmZrZuqHJK6vWSdgVGR8Svc79H7r3UzGwDVKXr7A8BPwa+mYtGAFe1MSYzM+uSKgeaJwGHAE9CccOd7VvWMDOz9VKVpLAiIlbWBiRtTIPeS83MbP1XJSlcL+mzwOb53sw/Av67vWGZmVk3VEkKZwDLgTuBDwM/p8Ud18zMbP1V5eyjF4Bv5YeZmW3AqvR99ACN74C2e1siMjOzrqna91HNZqT7HwxtTzhmZtZNvR5TiIjHSo8/R8SXgSPbH5qZmXVald1HrykNbkRqOWzVtojMzKxrquw++lLp9SrgQeDdbYnGzMy6qsrZR0d0IhAzM+u+KruPPtHq/Yg4b+2FY2Zm3VT17KMDgRl5+O3ADcDD7QrKzMy6o+pNdl4TEU8BSDob+FFEfLCdgZmZWedV6eZiF2BlaXglMKot0ZiZWVdVaSlcCsyVdCXpyubjge+1NSozM+uKKmcfTZF0LfCGXHRSRNze3rDMzKwbquw+AtgCeDIiLgCWSNqtjTGZmVmXVLkd51nAZ4DJuWgT4PsV6u0s6TeS7pa0QNIpuXyopJmS7s3PQ0p1JktaLGmRpGPWbJHMzGxNVWkpHA+8A3gGICKWUq2bi1XAJyPilcDBwCRJe5HuzzArIkYDs/Iw+b3xwN7AWOAiSYP6tjhmZtYfVZLCyogIcvfZkl5SZcIRsSwibsuvnwLuBkYA44BpebRpwHH59TjgiohYEREPAIuBgyouh5mZrQVVksJ0Sd8EtpH0IeDX9PGGO5JGAfsDvwd2iIhlkBIHsH0ebQSrXxC3JJfVT2uipHmS5i1fvrwvYZiZWS9ann0kScAPgT2BJ4E9gP8VETOrzkDSlsBPgFMj4sk0ycajNihrdHOfqcBUgDFjxvR438zM1lzLpBARIemqiDgAqJwIaiRtQkoIP4iIn+biRyQNj4hlkoYDj+byJcDOpeojgaV9naeZma25KruPbpZ0YF8nnFsZlwB313WaNwOYkF9PAK4ulY+XNDif8joamNvX+ZqZ2ZqrckXzEcCHJf2JdAaSSI2IfXqpdwjwL8Cdkubnss8C55KOU5wMPES6vScRsUDSdGAh6cylSRHxfB+Xx8zM+qFpUpC0Wz4L6C1rMuGI+C2NjxMAHNWkzhRgyprMz8zM+q9VS+HHwAHAtyOi4UbczMw2LK2Swkb5auZXNLrRjm+uY2a24Wl1oHk88BwpcWzV4GFmZhuYpi2FiFgE/KekOyLi2g7GZGZmXdLrKalOCGZmA0fVrrPNzGwAcFIwM7NCq+sUhgIfIR1svjginuxYVGZm1hWtWgo/AbYk9UE0R9LunQnJzMy6pdV1CttGxGcB8l3Qrpf0BPBJ4IMR8e4OxGdmZh3UKik8JWlURDwYEb+UtAuwE/A34M7OhGdmZp3UKin8K7BpbSDffe3PefAf7QzKzMy6o7eL18zMbADxKalmZlZwUjAzs4KTgpmZFZwUzMys4KRgZmYFJwUzMys4KZiZWcFJwczMCk4KZmZWcFIwM7OCk4KZmRWcFMzMrOCkYGZmhbYlBUnflvSopLtKZUMlzZR0b34eUnpvsqTFkhblm/qYmVmHtbOl8F1gbF3ZGcCsiBgNzMrDSNoLGA/snetcJGlQG2MzM7MG2pYUIuIG4PG64nHAtPx6GnBcqfyKiFgREQ8Ai4GD2hWbmZk11uljCjtExDKA/Lx9Lh8BPFwab0kuMzOzDlpXDjSrQVk0HFGaKGmepHnLly9vc1hmZgNLp5PCI5KGA+TnR3P5EmDn0ngjgaWNJhARUyNiTESMGTZsWFuDNTMbaJreo7lNZgATgHPz89Wl8ssknQfsBIwG5nY4tg3eqDN+1rV5P3juW7s2bzOrrm1JQdLlwOHAdpKWAGeRksF0SScDDwEnAETEAknTgYXAKmBSRDzfrtjMzKyxtiWFiDixyVtHNRl/CjClXfGYmVnv1pUDzWZmtg5wUjAzs4KTgpmZFZwUzMys4KRgZmYFJwUzMys4KZiZWcFJwczMCk4KZmZWcFIwM7OCk4KZmRU63Uuq0d3eSgca9wxr1jduKZiZWcFJwczMCk4KZmZWcFIwM7OCk4KZmRWcFMzMrOCkYGZmBScFMzMrOCmYmVnBScHMzAru5sJsA+OuPaw/nBSsI9zfk9n6wbuPzMys4KRgZmYF7z4yM1tDG+Lxm3UuKUgaC1wADAIujohzuxyS2RoZiMdRBuIyb2jWqd1HkgYBXwPeAuwFnChpr+5GZWY2cKxTSQE4CFgcEfdHxErgCmBcl2MyMxsw1rXdRyOAh0vDS4DXlkeQNBGYmAeflrSoH/PbDvir667z8/Yyrx91uznv9bFuv+rrP/s1712bvbGuJQU1KIvVBiKmAlPXysykeRExxnXX7Xl7mdePut2c9/pYt9vzbmZd2320BNi5NDwSWNqlWMzMBpx1LSncAoyWtJukTYHxwIwux2RmNmCsU7uPImKVpH8Hfkk6JfXbEbGgjbPsz26ogVa3m/P2Mq8fdbs57/Wxbrfn3ZAiovexzMxsQFjXdh+ZmVkXOSmYmdmLImKDfgDbAvPz4y/An/Pr+4AHgKF5vCF5eNe6+iOBq4F7c50LgE2Bw4FrSuP9X9KxkMGlsh1JF+DdBywEfg68AtgbuA74Y57u58i78nK9AL5UGj4dODu/Pju///LS+6flsjG9zbs0/nPAS1t8bs+XPrf5wKj6ZW5Sr2nsefj9wF3AghzX6XX1j8/T2DMPT6qL4678/ivz++cDp5bq/5LUPUpt+EvAJ0jHz/4KnNMk7lbf89+B24F7gC82qf8feZnuyHG+FtgEODdP8y5gLvCWKp9Xnu+cunE3Bh4BhufhUcBddeOcDTyTY1gIPFv67N5VN99L66a9HLgGOKlUZyVwZ359bt28ni7F8Wz+jO7Oyzmhyec0GzimruxU4CJgGPBP4MMt1q8dgMuA+4FbgTnA8aX3LyD9xjdqUv/p0utj83ezC7BHjm1+XoapfVm38+de27bUHttQbf1cCby6VPZp4BsV1q/ZwKJcdg/wVWCbvm4jeyxnfyewPj3yF3d6afjTtS8f+CYwuW585RX8pDw8CLgE+AKlDWT+wn4DbF5Xdw7wkVLZfsAbSBudo3PZFsC1wKTSeM+REtR2TVa+O4AzS+PflFeYMb3NO7+eC9wIfKDFZ/V0g7JimVvUaxX7W4DbgJ3y8GbAh+rqT8+xnd1k+v8P+H5p+ARgen69EXlDUXp/Tv4BHZs/p/soJeA+fs+b5x/fIXX1X5fnMzgPbwfsREoI00rlOwDvrvJ55WV5GBhVGncsMKs0PIrGSeH0Zu+Xv1/SRnzz0nczv/77BR6sxdZsHamfD7B7ntZJDep8GPhOXdnNpN/Fv+XvfnaT+TVar3cFPlb6/h/K0zu8l5iPyuvCy/LwL4FxpfFe3aBub7/L0xvUqbJ+npWXW6QLeO8DhlRYv2bz4m9+U1KCub7V77PKY6DvPjofOFjSqcChpA+17EjguYj4DkBEPE/6l/2vpI05kj5J2uC8PSKeLdU9AvhnRHyjVhAR80kthZsi4le57B/AvwNnlOquIp1ZcFqTuK8id/8haXfSP9nlvc07Im6U9DJgS+BM4MQm0++PVrFPJv1wluaYnouIb9XelLQlcAhwMul05NVIOgx4N2njUXMT8Pr8em/SP/KnJA2RNBh4JWnjdyLpX+RDwMF1k+71e87ltX/dI+rqDwf+GhEr8nh/BZ4APkTaYNXKH4mI6XV1G35eEfEC8CPgPaXi8cDl9Z9LP1wL1LraPHFtTTsi7ie1zj7e4O0fA2/L3w2SRpE2cL/NMXwSGCmp/jOG9D2trFuv/xQRX8mDR5C+/6/TYt2W9AbgW8BbI+K+XDycdJ1Ubbp3Nqja2++ykSrr5znAMlIr+nxSovlbaRo91q/ab6gU70rSn9xdJO3bh/h6GNBJISL+CXyKF5t4K+tG2ZuU2ct1niRtWF5O2oB9hLRL4Om6uq+qr9timvcBW0raulT8NeC9kl7aYBpPAg9LehVp5f9hxXnDiz/+G4E9JG3fZLzNJc3PjyubjNNMs9hbxQVwHPCLiPgj8Lik19TekLQN8B3Sbokna+X5x7FK0i6kH98c4Pekf1djSK2qQaR/hteQlr1+g9Hb91yLYQgwGrihrv6vgJ0l/VHSRZLemOs9VI61hWaf1+Xk5Jg3IMcCP6kwvaquAMZL2gzYh/S5rS23AXvWF0bEY6RW2dhcNJ60/o4EdoyIuaTW4nvq65K+p9tazLO2bl9JSjybNBhnMGk34XERcU+p/HzgOknXSjotr2+NtPpdnlb6zfwGqq2febtzKjAFGBYRl9ZNt9H61UP+M/MHGnzufTGgk0L2FlKWflWD90RdNxt15Yvz66P7ML9m06Rcnjcm36Pxvy3IP2jShrQvG+3xwBX5n+hPSc3bRp6NiP3y4/g+TL9K7M2cSFou8nN54/110m6jmxrUq/0bq/3o5pSGfwe8DfhNbpX9BDg+98hb09v3/AZJd5COSV0TEX8pj5T/EBxA6pNrOWkjd3i1RW7+eUXELaQ/C3uQ1tOb6/5B9roe9TLfO0i7fk4kHXNamxp1WVNTJDtebP2MJyUD6PndN56B9DVJf5B0S77Y9Vjgqvx5/p7Gv8t/ktaJk8uFuZX4SlLr7HDg5lprpm68Vuv2+aXfzBGl8t7Wz1ryuI60ntfPs8f6JekDjT4TWn/ulQzopCBpP+DNpN0Jp0kaXjfKAlI2L9fZmtQVx32kg37HAudLOqJB3QMazLbRNHcn7et8qm7cL5NW3pc0mM5/A/9C43+jDectaR/SP92Zkh4k/RDbsQsJGsfe7DNB0rak3QMX59g+BbxHyQTSxuv/NJnX70g/sFeTmuc3k/6JvZ70gzwReFOe7q2kkw/K31dv3/ONEbFPnv5H83qzmoh4PiJmR8RZpN2Bbyc15bdqEnO9L9P4u64l/0a7jh4jnSBRNpS+dZI2A/hig2n31/6kA7aNXAUclVuCm0fEbaTv6AP5O5oB7CtpdF29BUDReoyISaQW4DBSy+OlwJ15GofSeN1+gbQL8kBJny2/ERFLI+LbETGOtKuo0R9FaP27bKS39bMc2wuNJtBg/fof9ePkPzqvpvnnXsmATQqSRMrKp0bEQ6SDil+sG20WsIWk9+c6g0jHHb4L/AMg7+p4J/D9uo3FdcBgSR8qzfNA0tkOh0p6Uy7bHLgQ+K/6GCPicdK/p5MbvPcs8BlSk7Nes3lfQNpfOSo/dgJGSNq10WfUH01iPwf4L0k75pgGS6r943oX8L2I2DXHtjPpoN5heRnfGxGrmszuJlJr4PH843mcdObH60jN6UOBXWrLTTqjqbzB6PV7zsv0x7wMnynPXNIedRuw/UhnhVwCXJj/xSJpuKT39eHzgrSxfh8pYc6oq/M0sEzSUXn6Q0kbx982mkcT3wb+d5N96GskHyf4IvCVRu/nuGfneV+eW0IviYgRpe/oHHoeV7oO2EzSR0tltWM+JwIfLNXfDTha0hZ106gdx3sbaTfQyTnmsbXdTXn93JZ0NlGj+Jv+LptotX7O6a1yk/XrT3XjbEL6zB7OLcA1NmCTAukg4EMRMTMPXwTsWd5fFxFBOkXyBEn3kk4hfQ6o/4dxC+k0vhn5QG657psl3SdpAekMhaWkg8RnKnX7fSepz6evNonzS6SzDXqIiCvyv6z68mbzPpyeu5qupMFB3RaOkrSk9Hhdi3FXiz0ifk7aJ/vrHNOtvNjVyokNYvsJ8AHSP7KflvbXzs8HC2vuzPO5ua7s76SN6XW1g3TZ1cA7arsHqn7P2TeAwyTtVirbEpgmaWHezbQX6fM+k9TcXyjpLtI/5OU01+O7joiFpMR0XUQ806DO+0nr0nzSRvPzpYOnvYqIJRFxQdXxW3iZpNsl3U3aYH6lduC+icuBfXlxV1Gj7361f/r5ezoOeKOkByTNJZ3ddRZwDPCz0rjPkJLj2xvNPG+Yx5I+u3GkXU13SfoD6UykT9XvJqzT6Hd5Wt06OiqXN10/I52U0Jtm6xfAD3LZXaTfybgK02vJ3VyYmVlhILcUzMysjpOCmZkVnBTMzKzgpGBmZgUnBTMzKzgpmPVC0n9IWiDpjnyq4WslndroHPgGdSuNZ7au8CmpZi3k6zDOI/W6uULSdqQeKX9H6qGy5Xnm+eraXsczW1e4pWDWWqMeUN9F6tnzN7WOzyR9XdK83KL4fC77eIPxjpY0R9Jtkn6k1DMsks6tXZwkqf7KerOOcUvBrIW80f4tqTuFXwM/jIjr61sAkoZGxOO5i4xZwMcj4o7yeLmV8VNSr7rPSPoMqdfOr5K6O9gzIkLSNhHxRIcX1QxwS8GspT70UPluSbeR7t2wN6krgnoH5/KbcrcUE0g3iXmS1K3GxZLeSam/JbNO27j3UcwGttxP/WxgtqQ7SRvzQu4H6XTgwIj4m6Tvku4qV0/AzIjo0XunpINIPX6OJ/WCeeTaXAazqtxSMGuhRQ+VTwG1brG3Jt0X+e+SdiDd+6CmPN7NwCGSXp6nvYWkV+RdVC/NHQaemudh1hVuKZi1tiXwFaU7ca0i3VhpIqkHz2slLYuIIyTdTurv/35W7yN/at14HyB1F127gcuZpMRxtdId0ETfbvdotlb5QLOZmRW8+8jMzApOCmZmVnBSMDOzgpOCmZkVnBTMzKzgpGBmZgUnBTMzK/x/POH5yEqQ+5EAAAAASUVORK5CYII=\n",
      "text/plain": [
       "<Figure size 432x288 with 1 Axes>"
      ]
     },
     "metadata": {
      "needs_background": "light"
     },
     "output_type": "display_data"
    }
   ],
   "source": [
    "# look at overall data distribution\n",
    "len_brch = len(firedf['State'])\n",
    "plt.hist(firedf['State'], bins=10)\n",
    "plt.xlabel('States')\n",
    "plt.ylabel('? frequency of what ?')\n",
    "plt.show()\n",
    "# looks very abnormal"
   ]
  },
  {
   "cell_type": "code",
   "execution_count": 20,
=======
   "execution_count": 12,
>>>>>>> EM_branch1
   "metadata": {},
   "outputs": [
    {
     "data": {
      "text/html": [
       "<div>\n",
       "<style scoped>\n",
       "    .dataframe tbody tr th:only-of-type {\n",
       "        vertical-align: middle;\n",
       "    }\n",
       "\n",
       "    .dataframe tbody tr th {\n",
       "        vertical-align: top;\n",
       "    }\n",
       "\n",
       "    .dataframe thead th {\n",
       "        text-align: right;\n",
       "    }\n",
       "</style>\n",
       "<table border=\"1\" class=\"dataframe\">\n",
       "  <thead>\n",
       "    <tr style=\"text-align: right;\">\n",
       "      <th></th>\n",
       "      <th>Year</th>\n",
       "    </tr>\n",
       "  </thead>\n",
       "  <tbody>\n",
       "    <tr>\n",
       "      <th>count</th>\n",
       "      <td>866.000000</td>\n",
       "    </tr>\n",
       "    <tr>\n",
       "      <th>mean</th>\n",
       "      <td>2010.090069</td>\n",
       "    </tr>\n",
       "    <tr>\n",
       "      <th>std</th>\n",
       "      <td>1.833211</td>\n",
       "    </tr>\n",
       "    <tr>\n",
       "      <th>min</th>\n",
       "      <td>2008.000000</td>\n",
       "    </tr>\n",
       "    <tr>\n",
       "      <th>25%</th>\n",
       "      <td>2008.000000</td>\n",
       "    </tr>\n",
       "    <tr>\n",
       "      <th>50%</th>\n",
       "      <td>2011.000000</td>\n",
       "    </tr>\n",
       "    <tr>\n",
       "      <th>75%</th>\n",
       "      <td>2011.000000</td>\n",
       "    </tr>\n",
       "    <tr>\n",
       "      <th>max</th>\n",
       "      <td>2014.000000</td>\n",
       "    </tr>\n",
       "  </tbody>\n",
       "</table>\n",
       "</div>"
      ],
      "text/plain": [
       "              Year\n",
       "count   866.000000\n",
       "mean   2010.090069\n",
       "std       1.833211\n",
       "min    2008.000000\n",
       "25%    2008.000000\n",
       "50%    2011.000000\n",
       "75%    2011.000000\n",
       "max    2014.000000"
      ]
     },
<<<<<<< HEAD
     "execution_count": 20,
=======
     "execution_count": 12,
>>>>>>> EM_branch1
     "metadata": {},
     "output_type": "execute_result"
    }
   ],
   "source": [
    "firedf.describe()"
   ]
  },
  {
   "cell_type": "code",
<<<<<<< HEAD
   "execution_count": 21,
=======
   "execution_count": 13,
>>>>>>> EM_branch1
   "metadata": {},
   "outputs": [
    {
     "data": {
      "text/html": [
       "<div>\n",
       "<style scoped>\n",
       "    .dataframe tbody tr th:only-of-type {\n",
       "        vertical-align: middle;\n",
       "    }\n",
       "\n",
       "    .dataframe tbody tr th {\n",
       "        vertical-align: top;\n",
       "    }\n",
       "\n",
       "    .dataframe thead th {\n",
       "        text-align: right;\n",
       "    }\n",
       "</style>\n",
       "<table border=\"1\" class=\"dataframe\">\n",
       "  <thead>\n",
       "    <tr style=\"text-align: right;\">\n",
       "      <th></th>\n",
       "      <th>Year</th>\n",
       "      <th>Fire Count</th>\n",
       "    </tr>\n",
       "  </thead>\n",
       "  <tbody>\n",
       "    <tr>\n",
       "      <th>3</th>\n",
       "      <td>2011</td>\n",
       "      <td>333</td>\n",
       "    </tr>\n",
       "    <tr>\n",
       "      <th>0</th>\n",
       "      <td>2008</td>\n",
       "      <td>308</td>\n",
       "    </tr>\n",
       "    <tr>\n",
       "      <th>4</th>\n",
       "      <td>2012</td>\n",
       "      <td>69</td>\n",
       "    </tr>\n",
       "    <tr>\n",
       "      <th>1</th>\n",
       "      <td>2009</td>\n",
       "      <td>59</td>\n",
       "    </tr>\n",
       "    <tr>\n",
       "      <th>6</th>\n",
       "      <td>2014</td>\n",
       "      <td>42</td>\n",
       "    </tr>\n",
       "  </tbody>\n",
       "</table>\n",
       "</div>"
      ],
      "text/plain": [
       "   Year  Fire Count\n",
       "3  2011         333\n",
       "0  2008         308\n",
       "4  2012          69\n",
       "1  2009          59\n",
       "6  2014          42"
      ]
     },
<<<<<<< HEAD
     "execution_count": 21,
=======
     "execution_count": 13,
>>>>>>> EM_branch1
     "metadata": {},
     "output_type": "execute_result"
    }
   ],
   "source": [
    "# DF of breach counts by YR\n",
    "firedf['Year'].sort_values(ascending=False)\n",
    "yr_fire_count = pd.DataFrame(firedf.groupby(['Year'])['Fire ID'].count())                              \n",
    "yr_fire_count = yr_fire_count.rename(columns={'Fire ID': 'Fire Count'}) \n",
    "yr_fire_count.reset_index().sort_values('Fire Count',ascending=False).head()"
   ]
  },
  {
   "cell_type": "markdown",
   "metadata": {},
   "source": [
    "### Find the State with the most & least wildfires"
   ]
  },
  {
   "cell_type": "code",
<<<<<<< HEAD
   "execution_count": 22,
=======
   "execution_count": 14,
   "metadata": {},
   "outputs": [],
   "source": [
    "# group data and count wildfire occurances\n",
    "# identify nominal states that we want to group together\n",
    "change_states = ['UT','NV','ID','GA','WY','NC','NE','FL','SD','KS','VA','SC']\n",
    "# change nominal states to 'other'\n",
    "firedf['State'] = firedf['State'].replace({'UT': 'Other', 'NV': 'Other', 'ID': 'Other', 'GA': 'Other','WY': 'Other','NC': 'Other','NE': 'Other','FL': 'Other','SD': 'Other','KS': 'Other','VA': 'Other','SC': 'Other'})"
   ]
  },
  {
   "cell_type": "code",
   "execution_count": 15,
>>>>>>> EM_branch1
   "metadata": {},
   "outputs": [
    {
     "data": {
      "text/plain": [
       "<bound method DataFrame.reindex of        Fire ID\n",
       "State         \n",
       "TX         533\n",
       "CA          91\n",
       "OK          55\n",
       "Other       54\n",
       "WA          38\n",
       "NM          26\n",
       "CO          26\n",
       "OR          16\n",
       "AZ          14\n",
       "MT          13>"
      ]
     },
<<<<<<< HEAD
     "execution_count": 22,
=======
     "execution_count": 15,
>>>>>>> EM_branch1
     "metadata": {},
     "output_type": "execute_result"
    }
   ],
   "source": [
    "# sort values so that the max is at the top and min is last\n",
    "st_fire_count = pd.DataFrame(firedf.groupby(['State'])['Fire ID'].count().sort_values(ascending=False))\n",
    "# use describe to identify min/max values for boolean then convert to int\n",
    "st_fire_max = int(st_fire_count.describe().max()) \n",
    "st_fire_min = int(st_fire_count.describe().min())\n",
    "st_fire_count.describe()\n",
    "\n",
    "#isolate the min State\n",
    "st_fire_count[st_fire_count['Fire ID']==st_fire_min]\n",
    "# isolate the max State\n",
    "st_fire_count[st_fire_count['Fire ID']==st_fire_max]\n",
    "st_fire_count.reindex\n",
    "\n"
   ]
  },
  {
   "cell_type": "markdown",
   "metadata": {},
   "source": [
    "## BARCHART OF StateS & BRAECH COUNT"
   ]
  },
  {
   "cell_type": "markdown",
   "metadata": {},
   "source": [
    "### Look for trends over the years"
   ]
  },
  {
   "cell_type": "code",
<<<<<<< HEAD
   "execution_count": 23,
=======
   "execution_count": 16,
>>>>>>> EM_branch1
   "metadata": {},
   "outputs": [
    {
     "data": {
      "text/html": [
       "<div>\n",
       "<style scoped>\n",
       "    .dataframe tbody tr th:only-of-type {\n",
       "        vertical-align: middle;\n",
       "    }\n",
       "\n",
       "    .dataframe tbody tr th {\n",
       "        vertical-align: top;\n",
       "    }\n",
       "\n",
       "    .dataframe thead th {\n",
       "        text-align: right;\n",
       "    }\n",
       "</style>\n",
       "<table border=\"1\" class=\"dataframe\">\n",
       "  <thead>\n",
       "    <tr style=\"text-align: right;\">\n",
       "      <th></th>\n",
       "      <th>Year</th>\n",
       "      <th>Fire Count</th>\n",
       "    </tr>\n",
       "  </thead>\n",
       "  <tbody>\n",
       "    <tr>\n",
       "      <th>3</th>\n",
       "      <td>2011</td>\n",
       "      <td>333</td>\n",
       "    </tr>\n",
       "    <tr>\n",
       "      <th>0</th>\n",
       "      <td>2008</td>\n",
       "      <td>308</td>\n",
       "    </tr>\n",
       "    <tr>\n",
       "      <th>4</th>\n",
       "      <td>2012</td>\n",
       "      <td>69</td>\n",
       "    </tr>\n",
       "    <tr>\n",
       "      <th>1</th>\n",
       "      <td>2009</td>\n",
       "      <td>59</td>\n",
       "    </tr>\n",
       "    <tr>\n",
       "      <th>6</th>\n",
       "      <td>2014</td>\n",
       "      <td>42</td>\n",
       "    </tr>\n",
       "  </tbody>\n",
       "</table>\n",
       "</div>"
      ],
      "text/plain": [
       "   Year  Fire Count\n",
       "3  2011         333\n",
       "0  2008         308\n",
       "4  2012          69\n",
       "1  2009          59\n",
       "6  2014          42"
      ]
     },
<<<<<<< HEAD
     "execution_count": 23,
=======
     "execution_count": 16,
>>>>>>> EM_branch1
     "metadata": {},
     "output_type": "execute_result"
    }
   ],
   "source": [
    "# DF of breach counts by YR\n",
    "firedf['Year'].sort_values(ascending=False)\n",
    "yr_fire_count = pd.DataFrame(firedf.groupby(['Year'])['Fire ID'].count())                              \n",
    "yr_fire_count = yr_fire_count.rename(columns={'Fire ID': 'Fire Count'}) \n",
    "yr_fire_count.reset_index().sort_values('Fire Count',ascending=False).head()"
   ]
  },
  {
   "cell_type": "markdown",
   "metadata": {},
   "source": [
    "# BARCHART CHART HERE Year AND BREACH COUNT"
   ]
  },
  {
   "cell_type": "markdown",
   "metadata": {},
   "source": [
    "----\n",
    "## Isolate data to most occurances of data breaches"
   ]
  },
  {
   "cell_type": "code",
<<<<<<< HEAD
   "execution_count": 24,
=======
   "execution_count": 17,
>>>>>>> EM_branch1
   "metadata": {},
   "outputs": [],
   "source": [
    "# pull only the data points that are in tX & CA\n",
    "tx_fires = firedf.loc[(firedf['State']=='TX')]\n",
    "ca_fires = firedf.loc[(firedf['State']=='CA')]"
   ]
  },
  {
   "cell_type": "markdown",
   "metadata": {},
   "source": [
    "# BOX PLOT HERE All States over all Years"
   ]
  },
  {
   "cell_type": "markdown",
   "metadata": {},
   "source": [
    "----\n",
    "# COMBINED ANALYSIS\n",
    "----"
   ]
  },
  {
   "cell_type": "markdown",
   "metadata": {},
   "source": [
    "## State fires each Year v State breaches each Year"
   ]
  },
  {
   "cell_type": "code",
<<<<<<< HEAD
   "execution_count": 47,
   "metadata": {},
   "outputs": [
    {
     "ename": "TypeError",
     "evalue": "merge() got an unexpected keyword argument 'axis'",
     "output_type": "error",
     "traceback": [
      "\u001b[1;31m---------------------------------------------------------------------------\u001b[0m",
      "\u001b[1;31mTypeError\u001b[0m                                 Traceback (most recent call last)",
      "\u001b[1;32m<ipython-input-47-9562efed1cf6>\u001b[0m in \u001b[0;36m<module>\u001b[1;34m\u001b[0m\n\u001b[0;32m      4\u001b[0m \u001b[1;33m\u001b[0m\u001b[0m\n\u001b[0;32m      5\u001b[0m \u001b[1;31m# inner merge for common data point in both data sets\u001b[0m\u001b[1;33m\u001b[0m\u001b[1;33m\u001b[0m\u001b[1;33m\u001b[0m\u001b[0m\n\u001b[1;32m----> 6\u001b[1;33m \u001b[0mcommon_data\u001b[0m \u001b[1;33m=\u001b[0m \u001b[0mcyber_data\u001b[0m\u001b[1;33m.\u001b[0m\u001b[0mmerge\u001b[0m\u001b[1;33m(\u001b[0m\u001b[0mfiredf\u001b[0m\u001b[1;33m,\u001b[0m \u001b[0mon\u001b[0m\u001b[1;33m=\u001b[0m\u001b[1;33m[\u001b[0m\u001b[1;34m'Full Date'\u001b[0m\u001b[1;33m,\u001b[0m\u001b[1;34m'State'\u001b[0m\u001b[1;33m,\u001b[0m\u001b[1;34m'Month'\u001b[0m\u001b[1;33m,\u001b[0m \u001b[1;34m'Year'\u001b[0m\u001b[1;33m]\u001b[0m\u001b[1;33m,\u001b[0m \u001b[0maxis\u001b[0m\u001b[1;33m=\u001b[0m\u001b[1;36m1\u001b[0m\u001b[1;33m)\u001b[0m\u001b[1;33m\u001b[0m\u001b[1;33m\u001b[0m\u001b[0m\n\u001b[0m\u001b[0;32m      7\u001b[0m \u001b[0mcommon_data\u001b[0m\u001b[1;33m.\u001b[0m\u001b[0mhead\u001b[0m\u001b[1;33m(\u001b[0m\u001b[1;36m3\u001b[0m\u001b[1;33m)\u001b[0m\u001b[1;33m\u001b[0m\u001b[1;33m\u001b[0m\u001b[0m\n",
      "\u001b[1;31mTypeError\u001b[0m: merge() got an unexpected keyword argument 'axis'"
     ]
=======
   "execution_count": 18,
   "metadata": {},
   "outputs": [
    {
     "data": {
      "text/html": [
       "<div>\n",
       "<style scoped>\n",
       "    .dataframe tbody tr th:only-of-type {\n",
       "        vertical-align: middle;\n",
       "    }\n",
       "\n",
       "    .dataframe tbody tr th {\n",
       "        vertical-align: top;\n",
       "    }\n",
       "\n",
       "    .dataframe thead th {\n",
       "        text-align: right;\n",
       "    }\n",
       "</style>\n",
       "<table border=\"1\" class=\"dataframe\">\n",
       "  <thead>\n",
       "    <tr style=\"text-align: right;\">\n",
       "      <th></th>\n",
       "      <th>Unnamed: 0</th>\n",
       "      <th>Breach ID</th>\n",
       "      <th>State</th>\n",
       "      <th>Year</th>\n",
       "      <th>Full Date</th>\n",
       "      <th>Month</th>\n",
       "      <th>Fire ID</th>\n",
       "      <th>Type</th>\n",
       "    </tr>\n",
       "  </thead>\n",
       "  <tbody>\n",
       "    <tr>\n",
       "      <th>0</th>\n",
       "      <td>768</td>\n",
       "      <td>829</td>\n",
       "      <td>CA</td>\n",
       "      <td>2013</td>\n",
       "      <td>2013-09-09</td>\n",
       "      <td>Sep</td>\n",
       "      <td>5f7b2c3131a8c6681cfffbbd</td>\n",
       "      <td>Fire</td>\n",
       "    </tr>\n",
       "    <tr>\n",
       "      <th>1</th>\n",
       "      <td>719</td>\n",
       "      <td>785</td>\n",
       "      <td>CO</td>\n",
       "      <td>2013</td>\n",
       "      <td>2013-06-11</td>\n",
       "      <td>Jun</td>\n",
       "      <td>5f7b2c3131a8c6681cfffb56</td>\n",
       "      <td>Fire</td>\n",
       "    </tr>\n",
       "    <tr>\n",
       "      <th>2</th>\n",
       "      <td>719</td>\n",
       "      <td>785</td>\n",
       "      <td>CO</td>\n",
       "      <td>2013</td>\n",
       "      <td>2013-06-11</td>\n",
       "      <td>Jun</td>\n",
       "      <td>5f7b2c2531a8c6681cff40b0</td>\n",
       "      <td>Fire</td>\n",
       "    </tr>\n",
       "  </tbody>\n",
       "</table>\n",
       "</div>"
      ],
      "text/plain": [
       "   Unnamed: 0  Breach ID State  Year   Full Date Month  \\\n",
       "0         768        829    CA  2013  2013-09-09   Sep   \n",
       "1         719        785    CO  2013  2013-06-11   Jun   \n",
       "2         719        785    CO  2013  2013-06-11   Jun   \n",
       "\n",
       "                    Fire ID  Type  \n",
       "0  5f7b2c3131a8c6681cfffbbd  Fire  \n",
       "1  5f7b2c3131a8c6681cfffb56  Fire  \n",
       "2  5f7b2c2531a8c6681cff40b0  Fire  "
      ]
     },
     "execution_count": 18,
     "metadata": {},
     "output_type": "execute_result"
>>>>>>> EM_branch1
    }
   ],
   "source": [
    "# define the x & y labels\n",
    "xax_label = list(cyber_data['State'])\n",
    "yax_label = list(np.arange(2008,2015,1))\n",
    "\n",
    "# inner merge for common data point in both data sets\n",
    "common_data = cyber_data.merge(firedf, on=['Full Date','State','Month', 'Year'])\n",
    "common_data.head(3)"
   ]
  },
  {
   "cell_type": "code",
<<<<<<< HEAD
   "execution_count": 46,
   "metadata": {},
   "outputs": [
    {
     "ename": "KeyError",
     "evalue": "'State'",
     "output_type": "error",
     "traceback": [
      "\u001b[1;31m---------------------------------------------------------------------------\u001b[0m",
      "\u001b[1;31mKeyError\u001b[0m                                  Traceback (most recent call last)",
      "\u001b[1;32m~\\anaconda3\\lib\\site-packages\\pandas\\core\\indexes\\base.py\u001b[0m in \u001b[0;36mget_loc\u001b[1;34m(self, key, method, tolerance)\u001b[0m\n\u001b[0;32m   2894\u001b[0m             \u001b[1;32mtry\u001b[0m\u001b[1;33m:\u001b[0m\u001b[1;33m\u001b[0m\u001b[1;33m\u001b[0m\u001b[0m\n\u001b[1;32m-> 2895\u001b[1;33m                 \u001b[1;32mreturn\u001b[0m \u001b[0mself\u001b[0m\u001b[1;33m.\u001b[0m\u001b[0m_engine\u001b[0m\u001b[1;33m.\u001b[0m\u001b[0mget_loc\u001b[0m\u001b[1;33m(\u001b[0m\u001b[0mcasted_key\u001b[0m\u001b[1;33m)\u001b[0m\u001b[1;33m\u001b[0m\u001b[1;33m\u001b[0m\u001b[0m\n\u001b[0m\u001b[0;32m   2896\u001b[0m             \u001b[1;32mexcept\u001b[0m \u001b[0mKeyError\u001b[0m \u001b[1;32mas\u001b[0m \u001b[0merr\u001b[0m\u001b[1;33m:\u001b[0m\u001b[1;33m\u001b[0m\u001b[1;33m\u001b[0m\u001b[0m\n",
      "\u001b[1;32mpandas\\_libs\\index.pyx\u001b[0m in \u001b[0;36mpandas._libs.index.IndexEngine.get_loc\u001b[1;34m()\u001b[0m\n",
      "\u001b[1;32mpandas\\_libs\\index.pyx\u001b[0m in \u001b[0;36mpandas._libs.index.IndexEngine.get_loc\u001b[1;34m()\u001b[0m\n",
      "\u001b[1;32mpandas\\_libs\\hashtable_class_helper.pxi\u001b[0m in \u001b[0;36mpandas._libs.hashtable.PyObjectHashTable.get_item\u001b[1;34m()\u001b[0m\n",
      "\u001b[1;32mpandas\\_libs\\hashtable_class_helper.pxi\u001b[0m in \u001b[0;36mpandas._libs.hashtable.PyObjectHashTable.get_item\u001b[1;34m()\u001b[0m\n",
      "\u001b[1;31mKeyError\u001b[0m: 'State'",
      "\nThe above exception was the direct cause of the following exception:\n",
      "\u001b[1;31mKeyError\u001b[0m                                  Traceback (most recent call last)",
      "\u001b[1;32m<ipython-input-46-582a155bafe8>\u001b[0m in \u001b[0;36m<module>\u001b[1;34m\u001b[0m\n\u001b[0;32m      3\u001b[0m \u001b[0max1\u001b[0m \u001b[1;33m=\u001b[0m \u001b[0mfig\u001b[0m\u001b[1;33m.\u001b[0m\u001b[0madd_subplot\u001b[0m\u001b[1;33m(\u001b[0m\u001b[1;33m)\u001b[0m\u001b[1;33m\u001b[0m\u001b[1;33m\u001b[0m\u001b[0m\n\u001b[0;32m      4\u001b[0m \u001b[1;33m\u001b[0m\u001b[0m\n\u001b[1;32m----> 5\u001b[1;33m \u001b[0max1\u001b[0m\u001b[1;33m.\u001b[0m\u001b[0mscatter\u001b[0m\u001b[1;33m(\u001b[0m\u001b[0mfiredf\u001b[0m\u001b[1;33m[\u001b[0m\u001b[1;34m'State'\u001b[0m\u001b[1;33m]\u001b[0m\u001b[1;33m,\u001b[0m \u001b[0mfiredf\u001b[0m\u001b[1;33m[\u001b[0m\u001b[1;34m'Full Date'\u001b[0m\u001b[1;33m]\u001b[0m\u001b[1;33m,\u001b[0m\u001b[0mcolor\u001b[0m\u001b[1;33m=\u001b[0m\u001b[1;34m'#035afc'\u001b[0m\u001b[1;33m,\u001b[0m\u001b[0mmarker\u001b[0m\u001b[1;33m=\u001b[0m\u001b[1;34m'^'\u001b[0m\u001b[1;33m)\u001b[0m\u001b[1;33m\u001b[0m\u001b[1;33m\u001b[0m\u001b[0m\n\u001b[0m\u001b[0;32m      6\u001b[0m \u001b[0max1\u001b[0m\u001b[1;33m.\u001b[0m\u001b[0mscatter\u001b[0m\u001b[1;33m(\u001b[0m\u001b[0mcyber_data\u001b[0m\u001b[1;33m[\u001b[0m\u001b[1;34m'State'\u001b[0m\u001b[1;33m]\u001b[0m\u001b[1;33m,\u001b[0m \u001b[0mcyber_data\u001b[0m\u001b[1;33m[\u001b[0m\u001b[1;34m'Full Date'\u001b[0m\u001b[1;33m]\u001b[0m\u001b[1;33m,\u001b[0m\u001b[0mcolor\u001b[0m\u001b[1;33m=\u001b[0m\u001b[1;34m'red'\u001b[0m\u001b[1;33m,\u001b[0m\u001b[0mmarker\u001b[0m\u001b[1;33m=\u001b[0m\u001b[1;34m'o'\u001b[0m\u001b[1;33m)\u001b[0m\u001b[1;33m\u001b[0m\u001b[1;33m\u001b[0m\u001b[0m\n\u001b[0;32m      7\u001b[0m \u001b[0max1\u001b[0m\u001b[1;33m.\u001b[0m\u001b[0mscatter\u001b[0m\u001b[1;33m(\u001b[0m\u001b[0mcommon_data\u001b[0m\u001b[1;33m[\u001b[0m\u001b[1;34m'State'\u001b[0m\u001b[1;33m]\u001b[0m\u001b[1;33m,\u001b[0m\u001b[0mcommon_data\u001b[0m\u001b[1;33m[\u001b[0m\u001b[1;34m'Full Date'\u001b[0m\u001b[1;33m]\u001b[0m\u001b[1;33m,\u001b[0m \u001b[0mcolor\u001b[0m\u001b[1;33m=\u001b[0m\u001b[1;34m'purple'\u001b[0m\u001b[1;33m,\u001b[0m\u001b[0mmarker\u001b[0m\u001b[1;33m=\u001b[0m\u001b[1;34m'x'\u001b[0m\u001b[1;33m)\u001b[0m\u001b[1;33m\u001b[0m\u001b[1;33m\u001b[0m\u001b[0m\n",
      "\u001b[1;32m~\\anaconda3\\lib\\site-packages\\pandas\\core\\frame.py\u001b[0m in \u001b[0;36m__getitem__\u001b[1;34m(self, key)\u001b[0m\n\u001b[0;32m   2900\u001b[0m             \u001b[1;32mif\u001b[0m \u001b[0mself\u001b[0m\u001b[1;33m.\u001b[0m\u001b[0mcolumns\u001b[0m\u001b[1;33m.\u001b[0m\u001b[0mnlevels\u001b[0m \u001b[1;33m>\u001b[0m \u001b[1;36m1\u001b[0m\u001b[1;33m:\u001b[0m\u001b[1;33m\u001b[0m\u001b[1;33m\u001b[0m\u001b[0m\n\u001b[0;32m   2901\u001b[0m                 \u001b[1;32mreturn\u001b[0m \u001b[0mself\u001b[0m\u001b[1;33m.\u001b[0m\u001b[0m_getitem_multilevel\u001b[0m\u001b[1;33m(\u001b[0m\u001b[0mkey\u001b[0m\u001b[1;33m)\u001b[0m\u001b[1;33m\u001b[0m\u001b[1;33m\u001b[0m\u001b[0m\n\u001b[1;32m-> 2902\u001b[1;33m             \u001b[0mindexer\u001b[0m \u001b[1;33m=\u001b[0m \u001b[0mself\u001b[0m\u001b[1;33m.\u001b[0m\u001b[0mcolumns\u001b[0m\u001b[1;33m.\u001b[0m\u001b[0mget_loc\u001b[0m\u001b[1;33m(\u001b[0m\u001b[0mkey\u001b[0m\u001b[1;33m)\u001b[0m\u001b[1;33m\u001b[0m\u001b[1;33m\u001b[0m\u001b[0m\n\u001b[0m\u001b[0;32m   2903\u001b[0m             \u001b[1;32mif\u001b[0m \u001b[0mis_integer\u001b[0m\u001b[1;33m(\u001b[0m\u001b[0mindexer\u001b[0m\u001b[1;33m)\u001b[0m\u001b[1;33m:\u001b[0m\u001b[1;33m\u001b[0m\u001b[1;33m\u001b[0m\u001b[0m\n\u001b[0;32m   2904\u001b[0m                 \u001b[0mindexer\u001b[0m \u001b[1;33m=\u001b[0m \u001b[1;33m[\u001b[0m\u001b[0mindexer\u001b[0m\u001b[1;33m]\u001b[0m\u001b[1;33m\u001b[0m\u001b[1;33m\u001b[0m\u001b[0m\n",
      "\u001b[1;32m~\\anaconda3\\lib\\site-packages\\pandas\\core\\indexes\\base.py\u001b[0m in \u001b[0;36mget_loc\u001b[1;34m(self, key, method, tolerance)\u001b[0m\n\u001b[0;32m   2895\u001b[0m                 \u001b[1;32mreturn\u001b[0m \u001b[0mself\u001b[0m\u001b[1;33m.\u001b[0m\u001b[0m_engine\u001b[0m\u001b[1;33m.\u001b[0m\u001b[0mget_loc\u001b[0m\u001b[1;33m(\u001b[0m\u001b[0mcasted_key\u001b[0m\u001b[1;33m)\u001b[0m\u001b[1;33m\u001b[0m\u001b[1;33m\u001b[0m\u001b[0m\n\u001b[0;32m   2896\u001b[0m             \u001b[1;32mexcept\u001b[0m \u001b[0mKeyError\u001b[0m \u001b[1;32mas\u001b[0m \u001b[0merr\u001b[0m\u001b[1;33m:\u001b[0m\u001b[1;33m\u001b[0m\u001b[1;33m\u001b[0m\u001b[0m\n\u001b[1;32m-> 2897\u001b[1;33m                 \u001b[1;32mraise\u001b[0m \u001b[0mKeyError\u001b[0m\u001b[1;33m(\u001b[0m\u001b[0mkey\u001b[0m\u001b[1;33m)\u001b[0m \u001b[1;32mfrom\u001b[0m \u001b[0merr\u001b[0m\u001b[1;33m\u001b[0m\u001b[1;33m\u001b[0m\u001b[0m\n\u001b[0m\u001b[0;32m   2898\u001b[0m \u001b[1;33m\u001b[0m\u001b[0m\n\u001b[0;32m   2899\u001b[0m         \u001b[1;32mif\u001b[0m \u001b[0mtolerance\u001b[0m \u001b[1;32mis\u001b[0m \u001b[1;32mnot\u001b[0m \u001b[1;32mNone\u001b[0m\u001b[1;33m:\u001b[0m\u001b[1;33m\u001b[0m\u001b[1;33m\u001b[0m\u001b[0m\n",
      "\u001b[1;31mKeyError\u001b[0m: 'State'"
     ]
    },
    {
     "data": {
      "image/png": "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\n",
=======
   "execution_count": 77,
   "metadata": {},
   "outputs": [
    {
     "data": {
      "text/plain": [
       "4.792894790647048e-53"
      ]
     },
     "execution_count": 77,
     "metadata": {},
     "output_type": "execute_result"
    }
   ],
   "source": [
    "all_data = cyber_data.merge(firedf, on=('State','Year','Month'),how='outer', suffixes=('_Breach', '_Fire'))\n",
    "breachcount = all_data.groupby(['State','Year'])['Breach ID'].count()\n",
    "firecount =  all_data.groupby(['State','Year'])['Fire ID'].count()\n",
    "combo = pd.DataFrame({'Breaches':breachcount,'Fires':firecount})\n",
    "\n",
    "(slp, intcp, rvalue, pval, std) = sts.linregress(combo['Breaches'],combo['Fires'])\n",
    "pval"
   ]
  },
  {
   "cell_type": "code",
   "execution_count": 35,
   "metadata": {},
   "outputs": [
    {
     "data": {
      "text/plain": [
       "<matplotlib.collections.PathCollection at 0x289ec66b340>"
      ]
     },
     "execution_count": 35,
     "metadata": {},
     "output_type": "execute_result"
    },
    {
     "data": {
      "image/png": "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\n",
>>>>>>> EM_branch1
      "text/plain": [
       "<Figure size 432x288 with 1 Axes>"
      ]
     },
     "metadata": {
      "needs_background": "light"
     },
     "output_type": "display_data"
    }
   ],
   "source": [
    "#plt.scatter([firedf['State'],cyber_data['State']], [firedf['Full Date'],cyber_data['Full Full Date']],color='#46bdc6',marker='^')\n",
    "fig = plt.figure()\n",
    "ax1 = fig.add_subplot()\n",
    "\n",
<<<<<<< HEAD
    "ax1.scatter(firedf['State'], firedf['Full Date'],color='#035afc',marker='^')\n",
    "ax1.scatter(cyber_data['State'], cyber_data['Full Date'],color='red',marker='o')\n",
    "ax1.scatter(common_data['State'],common_data['Full Date'], color='purple',marker='x')\n",
    "plt.savefig(\"Images/commondata.png\")\n"
=======
    "ax1.scatter(firedf['State'], firedf['Full Date'],color='red',marker='^')\n",
    "ax1.scatter(cyber_data['State'], cyber_data['Full Date'],color='grey',marker='o')\n",
    "ax1.scatter(common_data['State'],common_data['Full Date'], color='purple',marker='x')"
>>>>>>> EM_branch1
   ]
  },
  {
   "cell_type": "markdown",
   "metadata": {},
   "source": [
    "## TX Fires v. TX Breaches\n",
    "* Scatter Plot"
   ]
  },
  {
   "cell_type": "code",
<<<<<<< HEAD
   "execution_count": null,
=======
   "execution_count": 21,
>>>>>>> EM_branch1
   "metadata": {},
   "outputs": [],
   "source": [
    "#isolate common TX data between breaches and fires\n",
    "tx_common_data = common_data[common_data['State']=='TX']\n",
    "#gather texas data for easy plotting\n",
    "tx_fire_xax = tx_fires['Year']\n",
    "tx_fire_yax = tx_fires['Month']\n",
    "tx_breach_xax = tx_breaches['Year']\n",
    "tx_breach_yax = tx_breaches['Month']\n",
    "tx_common_xax = tx_common_data['Year']\n",
    "tx_common_yax = tx_common_data['Month']"
   ]
  },
  {
   "cell_type": "markdown",
   "metadata": {},
   "source": [
    "## CA Fires v. CA Breaches\n",
    "* Scatter Plot"
   ]
  },
  {
   "cell_type": "code",
<<<<<<< HEAD
   "execution_count": null,
=======
   "execution_count": 22,
>>>>>>> EM_branch1
   "metadata": {},
   "outputs": [],
   "source": [
    "#isolate common CA data between breaches and fires\n",
    "ca_common_data = common_data[common_data['State']=='CA']\n",
    "#gather califonia data for easy plotting\n",
    "ca_fire_xax = ca_fires['Year']\n",
    "ca_fire_yax = ca_fires['Month']\n",
    "ca_breach_xax = ca_breaches['Year']\n",
    "ca_breach_yax = ca_breaches['Month']\n",
    "ca_common_xax = ca_common_data['Year']\n",
    "ca_common_yax = ca_common_data['Month']"
   ]
  },
  {
   "cell_type": "markdown",
   "metadata": {},
   "source": [
    "## YR Fires v. YR Breaches\n",
    "* Line chart w/ both data sets"
   ]
  },
  {
   "cell_type": "code",
<<<<<<< HEAD
   "execution_count": null,
   "metadata": {},
   "outputs": [],
=======
   "execution_count": 23,
   "metadata": {},
   "outputs": [
    {
     "data": {
      "text/html": [
       "<div>\n",
       "<style scoped>\n",
       "    .dataframe tbody tr th:only-of-type {\n",
       "        vertical-align: middle;\n",
       "    }\n",
       "\n",
       "    .dataframe tbody tr th {\n",
       "        vertical-align: top;\n",
       "    }\n",
       "\n",
       "    .dataframe thead th {\n",
       "        text-align: right;\n",
       "    }\n",
       "</style>\n",
       "<table border=\"1\" class=\"dataframe\">\n",
       "  <thead>\n",
       "    <tr style=\"text-align: right;\">\n",
       "      <th></th>\n",
       "      <th>Fire Count</th>\n",
       "    </tr>\n",
       "    <tr>\n",
       "      <th>Year</th>\n",
       "      <th></th>\n",
       "    </tr>\n",
       "  </thead>\n",
       "  <tbody>\n",
       "    <tr>\n",
       "      <th>2008</th>\n",
       "      <td>308</td>\n",
       "    </tr>\n",
       "    <tr>\n",
       "      <th>2009</th>\n",
       "      <td>59</td>\n",
       "    </tr>\n",
       "    <tr>\n",
       "      <th>2010</th>\n",
       "      <td>17</td>\n",
       "    </tr>\n",
       "    <tr>\n",
       "      <th>2011</th>\n",
       "      <td>333</td>\n",
       "    </tr>\n",
       "    <tr>\n",
       "      <th>2012</th>\n",
       "      <td>69</td>\n",
       "    </tr>\n",
       "    <tr>\n",
       "      <th>2013</th>\n",
       "      <td>38</td>\n",
       "    </tr>\n",
       "    <tr>\n",
       "      <th>2014</th>\n",
       "      <td>42</td>\n",
       "    </tr>\n",
       "  </tbody>\n",
       "</table>\n",
       "</div>"
      ],
      "text/plain": [
       "      Fire Count\n",
       "Year            \n",
       "2008         308\n",
       "2009          59\n",
       "2010          17\n",
       "2011         333\n",
       "2012          69\n",
       "2013          38\n",
       "2014          42"
      ]
     },
     "execution_count": 23,
     "metadata": {},
     "output_type": "execute_result"
    }
   ],
>>>>>>> EM_branch1
   "source": [
    "yr_breach_count\n",
    "yr_fire_count"
   ]
  }
 ],
 "metadata": {
  "kernelspec": {
   "display_name": "Python 3",
   "language": "python",
   "name": "python3"
  },
  "language_info": {
   "codemirror_mode": {
    "name": "ipython",
    "version": 3
   },
   "file_extension": ".py",
   "mimetype": "text/x-python",
   "name": "python",
   "nbconvert_exporter": "python",
   "pygments_lexer": "ipython3",
   "version": "3.8.5"
  }
 },
 "nbformat": 4,
 "nbformat_minor": 4
}
