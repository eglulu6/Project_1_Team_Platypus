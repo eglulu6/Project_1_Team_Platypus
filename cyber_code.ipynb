{
 "cells": [
  {
   "cell_type": "code",
<<<<<<< HEAD
   "execution_count": 20,
=======
   "execution_count": 1,
>>>>>>> 3865ea5 (updating to new version for cyber data)
   "metadata": {},
   "outputs": [],
   "source": [
    "# Dependencies and Setup\n",
    "import pandas as pd\n",
    "import numpy as np\n",
    "import pprint as pprint\n",
    "import requests\n",
    "import json\n"
   ]
  },
  {
   "cell_type": "code",
<<<<<<< HEAD
   "execution_count": 21,
=======
   "execution_count": 4,
>>>>>>> 3865ea5 (updating to new version for cyber data)
   "metadata": {},
   "outputs": [
    {
     "data": {
      "text/html": [
       "<div>\n",
       "<style scoped>\n",
       "    .dataframe tbody tr th:only-of-type {\n",
       "        vertical-align: middle;\n",
       "    }\n",
       "\n",
       "    .dataframe tbody tr th {\n",
       "        vertical-align: top;\n",
       "    }\n",
       "\n",
       "    .dataframe thead th {\n",
       "        text-align: right;\n",
       "    }\n",
       "</style>\n",
       "<table border=\"1\" class=\"dataframe\">\n",
       "  <thead>\n",
       "    <tr style=\"text-align: right;\">\n",
       "      <th></th>\n",
       "      <th>Unnamed: 0</th>\n",
       "      <th>Number</th>\n",
       "      <th>Name_of_Covered_Entity</th>\n",
       "      <th>State</th>\n",
       "      <th>Business_Associate_Involved</th>\n",
       "      <th>Individuals_Affected</th>\n",
       "      <th>Date_of_Breach</th>\n",
       "      <th>Type_of_Breach</th>\n",
       "      <th>Location_of_Breached_Information</th>\n",
       "      <th>Date_Posted_or_Updated</th>\n",
       "      <th>Summary</th>\n",
       "      <th>breach_start</th>\n",
       "      <th>breach_end</th>\n",
       "      <th>year</th>\n",
       "    </tr>\n",
       "  </thead>\n",
       "  <tbody>\n",
       "    <tr>\n",
       "      <th>0</th>\n",
       "      <td>141</td>\n",
       "      <td>140</td>\n",
       "      <td>UNCG Speech and Hearing Center</td>\n",
       "      <td>NC</td>\n",
       "      <td>NaN</td>\n",
       "      <td>2300</td>\n",
       "      <td>1/1/1997</td>\n",
       "      <td>Hacking/IT Incident</td>\n",
       "      <td>Desktop Computer</td>\n",
       "      <td>1/23/2014</td>\n",
       "      <td>NaN</td>\n",
       "      <td>1/1/1997</td>\n",
       "      <td>NaN</td>\n",
       "      <td>1997</td>\n",
       "    </tr>\n",
       "    <tr>\n",
       "      <th>1</th>\n",
       "      <td>1030</td>\n",
       "      <td>1029</td>\n",
       "      <td>UMass Memorial Medical Center</td>\n",
       "      <td>MA</td>\n",
       "      <td>NaN</td>\n",
       "      <td>2387</td>\n",
       "      <td>5/6/2002</td>\n",
       "      <td>Unauthorized Access/Disclosure</td>\n",
       "      <td>Electronic Medical Record, Paper</td>\n",
       "      <td>5/27/2014</td>\n",
       "      <td>NaN</td>\n",
       "      <td>5/6/2002</td>\n",
       "      <td>NaN</td>\n",
       "      <td>2002</td>\n",
       "    </tr>\n",
       "    <tr>\n",
       "      <th>2</th>\n",
       "      <td>212</td>\n",
       "      <td>211</td>\n",
       "      <td>Riverside Mercy Hospital and Ohio/Mercy Diagno...</td>\n",
       "      <td>OH</td>\n",
       "      <td>NaN</td>\n",
       "      <td>1000</td>\n",
       "      <td>3/29/2003</td>\n",
       "      <td>Improper Disposal</td>\n",
       "      <td>Paper</td>\n",
       "      <td>1/23/2014</td>\n",
       "      <td>NaN</td>\n",
       "      <td>3/29/2003</td>\n",
       "      <td>NaN</td>\n",
       "      <td>2003</td>\n",
       "    </tr>\n",
       "    <tr>\n",
       "      <th>3</th>\n",
       "      <td>272</td>\n",
       "      <td>271</td>\n",
       "      <td>SW General Inc</td>\n",
       "      <td>AZ</td>\n",
       "      <td>NaN</td>\n",
       "      <td>566</td>\n",
       "      <td>5/1/2004</td>\n",
       "      <td>Theft</td>\n",
       "      <td>Paper</td>\n",
       "      <td>1/23/2014</td>\n",
       "      <td>NaN</td>\n",
       "      <td>5/1/2004</td>\n",
       "      <td>NaN</td>\n",
       "      <td>2004</td>\n",
       "    </tr>\n",
       "    <tr>\n",
       "      <th>4</th>\n",
       "      <td>223</td>\n",
       "      <td>222</td>\n",
       "      <td>OhioHealth Corporation dba Grant Medical Center</td>\n",
       "      <td>OH</td>\n",
       "      <td>NaN</td>\n",
       "      <td>501</td>\n",
       "      <td>1/1/2008</td>\n",
       "      <td>Theft</td>\n",
       "      <td>Laptop, Desktop Computer</td>\n",
       "      <td>1/23/2014</td>\n",
       "      <td>NaN</td>\n",
       "      <td>1/1/2008</td>\n",
       "      <td>NaN</td>\n",
       "      <td>2008</td>\n",
       "    </tr>\n",
       "  </tbody>\n",
       "</table>\n",
       "</div>"
      ],
      "text/plain": [
       "   Unnamed: 0  Number                             Name_of_Covered_Entity  \\\n",
       "0         141     140                     UNCG Speech and Hearing Center   \n",
       "1        1030    1029                      UMass Memorial Medical Center   \n",
       "2         212     211  Riverside Mercy Hospital and Ohio/Mercy Diagno...   \n",
       "3         272     271                                     SW General Inc   \n",
       "4         223     222    OhioHealth Corporation dba Grant Medical Center   \n",
       "\n",
       "  State Business_Associate_Involved  Individuals_Affected Date_of_Breach  \\\n",
       "0    NC                         NaN                  2300       1/1/1997   \n",
       "1    MA                         NaN                  2387       5/6/2002   \n",
       "2    OH                         NaN                  1000      3/29/2003   \n",
       "3    AZ                         NaN                   566       5/1/2004   \n",
       "4    OH                         NaN                   501       1/1/2008   \n",
       "\n",
       "                   Type_of_Breach  Location_of_Breached_Information  \\\n",
       "0             Hacking/IT Incident                  Desktop Computer   \n",
       "1  Unauthorized Access/Disclosure  Electronic Medical Record, Paper   \n",
       "2               Improper Disposal                             Paper   \n",
       "3                           Theft                             Paper   \n",
       "4                           Theft          Laptop, Desktop Computer   \n",
       "\n",
       "  Date_Posted_or_Updated Summary breach_start breach_end  year  \n",
       "0              1/23/2014     NaN     1/1/1997        NaN  1997  \n",
       "1              5/27/2014     NaN     5/6/2002        NaN  2002  \n",
       "2              1/23/2014     NaN    3/29/2003        NaN  2003  \n",
       "3              1/23/2014     NaN     5/1/2004        NaN  2004  \n",
       "4              1/23/2014     NaN     1/1/2008        NaN  2008  "
      ]
     },
<<<<<<< HEAD
     "execution_count": 21,
=======
     "execution_count": 4,
>>>>>>> 3865ea5 (updating to new version for cyber data)
     "metadata": {},
     "output_type": "execute_result"
    }
   ],
   "source": [
    "# Load cyber security breach data set into Pandas\n",
    "cyber_data = pd.read_csv(\"source_data/cybersecurity_data.csv\")\n",
    "cyber_data.head()"
   ]
  },
  {
   "cell_type": "code",
<<<<<<< HEAD
   "execution_count": 22,
=======
   "execution_count": 5,
>>>>>>> 3865ea5 (updating to new version for cyber data)
   "metadata": {},
   "outputs": [
    {
     "data": {
      "text/plain": [
       "1055"
      ]
     },
<<<<<<< HEAD
     "execution_count": 22,
=======
     "execution_count": 5,
>>>>>>> 3865ea5 (updating to new version for cyber data)
     "metadata": {},
     "output_type": "execute_result"
    }
   ],
   "source": [
    "# Count the number of rows of data in data set \n",
    "len(cyber_data)"
   ]
  },
  {
   "cell_type": "code",
<<<<<<< HEAD
   "execution_count": 23,
=======
   "execution_count": 6,
>>>>>>> 3865ea5 (updating to new version for cyber data)
   "metadata": {},
   "outputs": [
    {
     "data": {
      "text/html": [
       "<div>\n",
       "<style scoped>\n",
       "    .dataframe tbody tr th:only-of-type {\n",
       "        vertical-align: middle;\n",
       "    }\n",
       "\n",
       "    .dataframe tbody tr th {\n",
       "        vertical-align: top;\n",
       "    }\n",
       "\n",
       "    .dataframe thead th {\n",
       "        text-align: right;\n",
       "    }\n",
       "</style>\n",
       "<table border=\"1\" class=\"dataframe\">\n",
       "  <thead>\n",
       "    <tr style=\"text-align: right;\">\n",
       "      <th></th>\n",
       "      <th>Number</th>\n",
       "      <th>State</th>\n",
       "      <th>year</th>\n",
       "      <th>Date_of_Breach</th>\n",
       "    </tr>\n",
       "  </thead>\n",
       "  <tbody>\n",
       "    <tr>\n",
       "      <th>0</th>\n",
       "      <td>140</td>\n",
       "      <td>NC</td>\n",
       "      <td>1997</td>\n",
       "      <td>1/1/1997</td>\n",
       "    </tr>\n",
       "    <tr>\n",
       "      <th>1</th>\n",
       "      <td>1029</td>\n",
       "      <td>MA</td>\n",
       "      <td>2002</td>\n",
       "      <td>5/6/2002</td>\n",
       "    </tr>\n",
       "    <tr>\n",
       "      <th>2</th>\n",
       "      <td>211</td>\n",
       "      <td>OH</td>\n",
       "      <td>2003</td>\n",
       "      <td>3/29/2003</td>\n",
       "    </tr>\n",
       "    <tr>\n",
       "      <th>3</th>\n",
       "      <td>271</td>\n",
       "      <td>AZ</td>\n",
       "      <td>2004</td>\n",
       "      <td>5/1/2004</td>\n",
       "    </tr>\n",
       "    <tr>\n",
       "      <th>4</th>\n",
       "      <td>222</td>\n",
       "      <td>OH</td>\n",
       "      <td>2008</td>\n",
       "      <td>1/1/2008</td>\n",
       "    </tr>\n",
       "  </tbody>\n",
       "</table>\n",
       "</div>"
      ],
      "text/plain": [
       "   Number State  year Date_of_Breach\n",
       "0     140    NC  1997       1/1/1997\n",
       "1    1029    MA  2002       5/6/2002\n",
       "2     211    OH  2003      3/29/2003\n",
       "3     271    AZ  2004       5/1/2004\n",
       "4     222    OH  2008       1/1/2008"
      ]
     },
<<<<<<< HEAD
     "execution_count": 23,
=======
     "execution_count": 6,
>>>>>>> 3865ea5 (updating to new version for cyber data)
     "metadata": {},
     "output_type": "execute_result"
    }
   ],
   "source": [
    "# Extract the relevent columns from the inital data set\n",
    "cyber_columns = cyber_data[[\"Number\", \"State\", \"year\", \"Date_of_Breach\"]]\n",
    "cyber_columns.head()"
   ]
  },
  {
   "cell_type": "code",
<<<<<<< HEAD
   "execution_count": 24,
=======
   "execution_count": 7,
>>>>>>> 3865ea5 (updating to new version for cyber data)
   "metadata": {},
   "outputs": [
    {
     "data": {
      "text/html": [
       "<div>\n",
       "<style scoped>\n",
       "    .dataframe tbody tr th:only-of-type {\n",
       "        vertical-align: middle;\n",
       "    }\n",
       "\n",
       "    .dataframe tbody tr th {\n",
       "        vertical-align: top;\n",
       "    }\n",
       "\n",
       "    .dataframe thead th {\n",
       "        text-align: right;\n",
       "    }\n",
       "</style>\n",
       "<table border=\"1\" class=\"dataframe\">\n",
       "  <thead>\n",
       "    <tr style=\"text-align: right;\">\n",
       "      <th></th>\n",
       "      <th>Breach ID</th>\n",
       "      <th>State</th>\n",
       "      <th>Year</th>\n",
       "      <th>Full Date</th>\n",
       "    </tr>\n",
       "  </thead>\n",
       "  <tbody>\n",
       "    <tr>\n",
       "      <th>0</th>\n",
       "      <td>140</td>\n",
       "      <td>NC</td>\n",
       "      <td>1997</td>\n",
       "      <td>1/1/1997</td>\n",
       "    </tr>\n",
       "    <tr>\n",
       "      <th>1</th>\n",
       "      <td>1029</td>\n",
       "      <td>MA</td>\n",
       "      <td>2002</td>\n",
       "      <td>5/6/2002</td>\n",
       "    </tr>\n",
       "    <tr>\n",
       "      <th>2</th>\n",
       "      <td>211</td>\n",
       "      <td>OH</td>\n",
       "      <td>2003</td>\n",
       "      <td>3/29/2003</td>\n",
       "    </tr>\n",
       "    <tr>\n",
       "      <th>3</th>\n",
       "      <td>271</td>\n",
       "      <td>AZ</td>\n",
       "      <td>2004</td>\n",
       "      <td>5/1/2004</td>\n",
       "    </tr>\n",
       "    <tr>\n",
       "      <th>4</th>\n",
       "      <td>222</td>\n",
       "      <td>OH</td>\n",
       "      <td>2008</td>\n",
       "      <td>1/1/2008</td>\n",
       "    </tr>\n",
       "  </tbody>\n",
       "</table>\n",
       "</div>"
      ],
      "text/plain": [
       "   Breach ID State  Year  Full Date\n",
       "0        140    NC  1997   1/1/1997\n",
       "1       1029    MA  2002   5/6/2002\n",
       "2        211    OH  2003  3/29/2003\n",
       "3        271    AZ  2004   5/1/2004\n",
       "4        222    OH  2008   1/1/2008"
      ]
     },
<<<<<<< HEAD
     "execution_count": 24,
=======
     "execution_count": 7,
>>>>>>> 3865ea5 (updating to new version for cyber data)
     "metadata": {},
     "output_type": "execute_result"
    }
   ],
   "source": [
    "# Rename columns to better describe the data set\n",
    "cyber_columns_renamed = cyber_columns.rename(columns={\"Number\": \"Breach ID\", \"year\": \"Year\",\"Date_of_Breach\": \"Full Date\"})\n",
    "cyber_columns_renamed.head()"
   ]
  },
  {
   "cell_type": "code",
<<<<<<< HEAD
   "execution_count": 25,
=======
   "execution_count": 11,
>>>>>>> 3865ea5 (updating to new version for cyber data)
   "metadata": {},
   "outputs": [
    {
     "data": {
      "text/html": [
       "<div>\n",
       "<style scoped>\n",
       "    .dataframe tbody tr th:only-of-type {\n",
       "        vertical-align: middle;\n",
       "    }\n",
       "\n",
       "    .dataframe tbody tr th {\n",
       "        vertical-align: top;\n",
       "    }\n",
       "\n",
       "    .dataframe thead th {\n",
       "        text-align: right;\n",
       "    }\n",
       "</style>\n",
       "<table border=\"1\" class=\"dataframe\">\n",
       "  <thead>\n",
       "    <tr style=\"text-align: right;\">\n",
       "      <th></th>\n",
       "      <th>Breach ID</th>\n",
       "      <th>Year</th>\n",
       "      <th>Full Date</th>\n",
       "    </tr>\n",
       "  </thead>\n",
       "  <tbody>\n",
       "    <tr>\n",
<<<<<<< HEAD
       "      <th>0</th>\n",
       "      <td>140</td>\n",
       "      <td>NC</td>\n",
       "      <td>1997</td>\n",
       "      <td>1/1/1997</td>\n",
       "    </tr>\n",
       "    <tr>\n",
       "      <th>1</th>\n",
       "      <td>1029</td>\n",
       "      <td>MA</td>\n",
       "      <td>2002</td>\n",
       "      <td>5/6/2002</td>\n",
       "    </tr>\n",
       "    <tr>\n",
       "      <th>2</th>\n",
       "      <td>211</td>\n",
       "      <td>OH</td>\n",
       "      <td>2003</td>\n",
       "      <td>3/29/2003</td>\n",
       "    </tr>\n",
       "    <tr>\n",
       "      <th>3</th>\n",
       "      <td>271</td>\n",
       "      <td>AZ</td>\n",
       "      <td>2004</td>\n",
       "      <td>5/1/2004</td>\n",
       "    </tr>\n",
       "    <tr>\n",
       "      <th>4</th>\n",
       "      <td>222</td>\n",
       "      <td>OH</td>\n",
       "      <td>2008</td>\n",
       "      <td>1/1/2008</td>\n",
=======
       "      <th>count</th>\n",
       "      <td>1018.000000</td>\n",
       "      <td>1018.000000</td>\n",
       "    </tr>\n",
       "    <tr>\n",
       "      <th>mean</th>\n",
       "      <td>527.172888</td>\n",
       "      <td>2011.454813</td>\n",
       "    </tr>\n",
       "    <tr>\n",
       "      <th>std</th>\n",
       "      <td>303.984328</td>\n",
       "      <td>1.587321</td>\n",
       "    </tr>\n",
       "    <tr>\n",
       "      <th>min</th>\n",
       "      <td>0.000000</td>\n",
       "      <td>1997.000000</td>\n",
       "    </tr>\n",
       "    <tr>\n",
       "      <th>25%</th>\n",
       "      <td>263.250000</td>\n",
       "      <td>2010.000000</td>\n",
       "    </tr>\n",
       "    <tr>\n",
       "      <th>50%</th>\n",
       "      <td>532.500000</td>\n",
       "      <td>2012.000000</td>\n",
       "    </tr>\n",
       "    <tr>\n",
       "      <th>75%</th>\n",
       "      <td>787.750000</td>\n",
       "      <td>2013.000000</td>\n",
       "    </tr>\n",
       "    <tr>\n",
       "      <th>max</th>\n",
       "      <td>1054.000000</td>\n",
       "      <td>2014.000000</td>\n",
>>>>>>> 3865ea5 (updating to new version for cyber data)
       "    </tr>\n",
       "  </tbody>\n",
       "</table>\n",
       "</div>"
      ],
      "text/plain": [
<<<<<<< HEAD
       "   Breach ID State  Year  Full Date\n",
       "0        140    NC  1997   1/1/1997\n",
       "1       1029    MA  2002   5/6/2002\n",
       "2        211    OH  2003  3/29/2003\n",
       "3        271    AZ  2004   5/1/2004\n",
       "4        222    OH  2008   1/1/2008"
      ]
     },
     "execution_count": 25,
=======
       "         Breach ID         Year\n",
       "count  1018.000000  1018.000000\n",
       "mean    527.172888  2011.454813\n",
       "std     303.984328     1.587321\n",
       "min       0.000000  1997.000000\n",
       "25%     263.250000  2010.000000\n",
       "50%     532.500000  2012.000000\n",
       "75%     787.750000  2013.000000\n",
       "max    1054.000000  2014.000000"
      ]
     },
     "execution_count": 11,
>>>>>>> 3865ea5 (updating to new version for cyber data)
     "metadata": {},
     "output_type": "execute_result"
    }
   ],
   "source": [
    "# Remove rows that contain data from states outside the continental US (Alaska, Hawaii, and Puerto Rico)\n",
    "# Note this data set includes DC, need to find out if wildfire data contains DC or not, kept it in cyber dataframe for now\n",
    "\n",
    "cyber_data_clean = cyber_columns_renamed.loc[ (cyber_columns_renamed[\"State\"] != \"AK\") & (cyber_columns_renamed[\"State\"] != \"HI\") & (cyber_columns_renamed[\"State\"] != \"PR\") ]\n",
    "cyber_data_clean.describe()"
   ]
  },
  {
   "cell_type": "code",
<<<<<<< HEAD
   "execution_count": 26,
=======
   "execution_count": 9,
>>>>>>> 3865ea5 (updating to new version for cyber data)
   "metadata": {},
   "outputs": [
    {
     "data": {
      "text/plain": [
       "1018"
      ]
     },
<<<<<<< HEAD
     "execution_count": 26,
=======
     "execution_count": 9,
>>>>>>> 3865ea5 (updating to new version for cyber data)
     "metadata": {},
     "output_type": "execute_result"
    }
   ],
   "source": [
    "# Count number of rows of cleaned data to make sure irrelevant rows were removed\n",
    "len(cyber_data_clean)"
   ]
  },
  {
   "cell_type": "code",
<<<<<<< HEAD
   "execution_count": 27,
=======
   "execution_count": 10,
>>>>>>> 3865ea5 (updating to new version for cyber data)
   "metadata": {},
   "outputs": [],
   "source": [
    "# Write the cleaned data to a new CSV file called 'cyber_data_clean.csv'\n",
    "cyber_data_clean.to_csv(\"source_data/cyber_data_clean.csv\")"
   ]
  },
  {
   "cell_type": "code",
   "execution_count": null,
   "metadata": {},
   "outputs": [],
   "source": []
  },
  {
   "cell_type": "code",
   "execution_count": null,
   "metadata": {},
   "outputs": [],
   "source": []
  }
 ],
 "metadata": {
  "kernelspec": {
   "display_name": "Python 3",
   "language": "python",
   "name": "python3"
  },
  "language_info": {
   "codemirror_mode": {
    "name": "ipython",
    "version": 3
   },
   "file_extension": ".py",
   "mimetype": "text/x-python",
   "name": "python",
   "nbconvert_exporter": "python",
   "pygments_lexer": "ipython3",
   "version": "3.8.3"
  }
 },
 "nbformat": 4,
 "nbformat_minor": 4
}
