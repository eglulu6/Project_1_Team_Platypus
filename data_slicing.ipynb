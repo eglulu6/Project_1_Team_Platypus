{
 "cells": [
  {
   "cell_type": "code",
   "execution_count": 1,
   "metadata": {},
   "outputs": [],
   "source": [
    "# dependancies and setup\n",
    "# Dependencies and Setup\n",
    "import matplotlib.pyplot as plt\n",
    "import pandas as pd\n",
    "import scipy.stats as sts\n",
    "import numpy as np\n",
    "import Full Datetime\n",
    "import calendar"
   ]
  },
  {
   "cell_type": "markdown",
   "metadata": {},
   "source": [
    "---\n",
    "# Breach Data\n",
    "---"
   ]
  },
  {
   "cell_type": "markdown",
   "metadata": {},
   "source": [
    "### Pull and format data for analysis"
   ]
  },
  {
   "cell_type": "code",
   "execution_count": 2,
   "metadata": {},
   "outputs": [
    {
     "data": {
      "text/html": [
       "<div>\n",
       "<style scoped>\n",
       "    .dataframe tbody tr th:only-of-type {\n",
       "        vertical-align: middle;\n",
       "    }\n",
       "\n",
       "    .dataframe tbody tr th {\n",
       "        vertical-align: top;\n",
       "    }\n",
       "\n",
       "    .dataframe thead th {\n",
       "        text-align: right;\n",
       "    }\n",
       "</style>\n",
       "<table border=\"1\" class=\"dataframe\">\n",
       "  <thead>\n",
       "    <tr style=\"text-align: right;\">\n",
       "      <th></th>\n",
       "      <th>Unnamed: 0</th>\n",
       "      <th>Breach ID</th>\n",
       "      <th>State</th>\n",
       "      <th>Year</th>\n",
       "      <th>Full Date</th>\n",
       "    </tr>\n",
       "  </thead>\n",
       "  <tbody>\n",
       "    <tr>\n",
       "      <th>0</th>\n",
       "      <td>1054</td>\n",
       "      <td>725</td>\n",
       "      <td>TX</td>\n",
       "      <td>2012</td>\n",
       "      <td>2012-12-27</td>\n",
       "    </tr>\n",
       "    <tr>\n",
       "      <th>1</th>\n",
       "      <td>1053</td>\n",
       "      <td>438</td>\n",
       "      <td>CA</td>\n",
       "      <td>2011</td>\n",
       "      <td>2011-12-22</td>\n",
       "    </tr>\n",
       "    <tr>\n",
       "      <th>2</th>\n",
       "      <td>1052</td>\n",
       "      <td>818</td>\n",
       "      <td>MO</td>\n",
       "      <td>2009</td>\n",
       "      <td>2009-12-21</td>\n",
       "    </tr>\n",
       "    <tr>\n",
       "      <th>3</th>\n",
       "      <td>1050</td>\n",
       "      <td>676</td>\n",
       "      <td>MA</td>\n",
       "      <td>2012</td>\n",
       "      <td>2012-12-15</td>\n",
       "    </tr>\n",
       "    <tr>\n",
       "      <th>4</th>\n",
       "      <td>1049</td>\n",
       "      <td>638</td>\n",
       "      <td>CA</td>\n",
       "      <td>2012</td>\n",
       "      <td>2012-12-10</td>\n",
       "    </tr>\n",
       "  </tbody>\n",
       "</table>\n",
       "</div>"
      ],
      "text/plain": [
       "   Unnamed: 0  Breach ID State  Year   Full Date\n",
       "0        1054        725    TX  2012  2012-12-27\n",
       "1        1053        438    CA  2011  2011-12-22\n",
       "2        1052        818    MO  2009  2009-12-21\n",
       "3        1050        676    MA  2012  2012-12-15\n",
       "4        1049        638    CA  2012  2012-12-10"
      ]
     },
     "execution_count": 2,
     "metadata": {},
     "output_type": "execute_result"
    }
   ],
   "source": [
    "# import csv\n",
    "cyber_data = pd.read_csv('source_data/cyber_data_clean.csv')\n",
    "cyber_data.head()"
   ]
  },
  {
   "cell_type": "code",
   "execution_count": 3,
   "metadata": {},
   "outputs": [
    {
     "data": {
      "text/html": [
       "<div>\n",
       "<style scoped>\n",
       "    .dataframe tbody tr th:only-of-type {\n",
       "        vertical-align: middle;\n",
       "    }\n",
       "\n",
       "    .dataframe tbody tr th {\n",
       "        vertical-align: top;\n",
       "    }\n",
       "\n",
       "    .dataframe thead th {\n",
       "        text-align: right;\n",
       "    }\n",
       "</style>\n",
       "<table border=\"1\" class=\"dataframe\">\n",
       "  <thead>\n",
       "    <tr style=\"text-align: right;\">\n",
       "      <th></th>\n",
       "      <th>Breach ID</th>\n",
       "      <th>State</th>\n",
       "      <th>Year</th>\n",
       "      <th>Full Date</th>\n",
       "      <th>Month</th>\n",
       "    </tr>\n",
       "  </thead>\n",
       "  <tbody>\n",
       "    <tr>\n",
       "      <th>0</th>\n",
       "      <td>725</td>\n",
       "      <td>TX</td>\n",
       "      <td>2012</td>\n",
       "      <td>2012-12-27</td>\n",
       "      <td>Dec</td>\n",
       "    </tr>\n",
       "    <tr>\n",
       "      <th>1</th>\n",
       "      <td>438</td>\n",
       "      <td>CA</td>\n",
       "      <td>2011</td>\n",
       "      <td>2011-12-22</td>\n",
       "      <td>Dec</td>\n",
       "    </tr>\n",
       "    <tr>\n",
       "      <th>2</th>\n",
       "      <td>818</td>\n",
       "      <td>MO</td>\n",
       "      <td>2009</td>\n",
       "      <td>2009-12-21</td>\n",
       "      <td>Dec</td>\n",
       "    </tr>\n",
       "    <tr>\n",
       "      <th>3</th>\n",
       "      <td>676</td>\n",
       "      <td>MA</td>\n",
       "      <td>2012</td>\n",
       "      <td>2012-12-15</td>\n",
       "      <td>Dec</td>\n",
       "    </tr>\n",
       "    <tr>\n",
       "      <th>4</th>\n",
       "      <td>638</td>\n",
       "      <td>CA</td>\n",
       "      <td>2012</td>\n",
       "      <td>2012-12-10</td>\n",
       "      <td>Dec</td>\n",
       "    </tr>\n",
       "  </tbody>\n",
       "</table>\n",
       "</div>"
      ],
      "text/plain": [
       "   Breach ID State  Year   Full Date Month\n",
       "0        725    TX  2012  2012-12-27   Dec\n",
       "1        438    CA  2011  2011-12-22   Dec\n",
       "2        818    MO  2009  2009-12-21   Dec\n",
       "3        676    MA  2012  2012-12-15   Dec\n",
       "4        638    CA  2012  2012-12-10   Dec"
      ]
     },
     "execution_count": 3,
     "metadata": {},
     "output_type": "execute_result"
    }
   ],
   "source": [
    "# drop unneeded column\n",
    "cyber_data = cyber_data.drop(['Unnamed: 0'], axis=1)\n",
    "\n",
    "# add month column\n",
    "cyber_data['Month'] = pd.Full DatetimeIndex(cyber_data['Full Full Date']).month\n",
    "cyber_data['Month'] = cyber_data['Month'].apply(lambda x: calendar.month_abbr[x])\n",
    "cyber_data.head()"
   ]
  },
  {
   "cell_type": "markdown",
   "metadata": {},
   "source": [
    "---\n",
    "### Get a sense of the data by running inital analysis"
   ]
  },
  {
   "cell_type": "code",
   "execution_count": 4,
   "metadata": {},
   "outputs": [
    {
     "data": {
      "image/png": "[encoded data removed]",
      "text/plain": [
       "<Figure size 1080x1080 with 1 Axes>"
      ]
     },
     "metadata": {
      "needs_background": "light"
     },
     "output_type": "display_data"
    }
   ],
   "source": [
    "# look at overall data distribution\n",
    "len_brch = len(cyber_data['State'])\n",
    "plt.figure(figsize=(15,15))\n",
    "plt.hist(cyber_data['State'], bins=10, edgecolor='black')\n",
    "plt.xticks(rotation=90, size=15)\n",
    "plt.xlabel('State', size=15)\n",
    "plt.ylabel('? Frequency of what ?', size=15)\n",
    "plt.show()\n",
    "# looks very abnormal"
   ]
  },
  {
   "cell_type": "code",
   "execution_count": 5,
   "metadata": {},
   "outputs": [
    {
     "data": {
      "text/html": [
       "<div>\n",
       "<style scoped>\n",
       "    .dataframe tbody tr th:only-of-type {\n",
       "        vertical-align: middle;\n",
       "    }\n",
       "\n",
       "    .dataframe tbody tr th {\n",
       "        vertical-align: top;\n",
       "    }\n",
       "\n",
       "    .dataframe thead th {\n",
       "        text-align: right;\n",
       "    }\n",
       "</style>\n",
       "<table border=\"1\" class=\"dataframe\">\n",
       "  <thead>\n",
       "    <tr style=\"text-align: right;\">\n",
       "      <th></th>\n",
       "      <th>Breach ID</th>\n",
       "      <th>Year</th>\n",
       "    </tr>\n",
       "  </thead>\n",
       "  <tbody>\n",
       "    <tr>\n",
       "      <th>count</th>\n",
       "      <td>1018.000000</td>\n",
       "      <td>1018.000000</td>\n",
       "    </tr>\n",
       "    <tr>\n",
       "      <th>mean</th>\n",
       "      <td>527.172888</td>\n",
       "      <td>2011.454813</td>\n",
       "    </tr>\n",
       "    <tr>\n",
       "      <th>std</th>\n",
       "      <td>303.984328</td>\n",
       "      <td>1.587321</td>\n",
       "    </tr>\n",
       "    <tr>\n",
       "      <th>min</th>\n",
       "      <td>0.000000</td>\n",
       "      <td>1997.000000</td>\n",
       "    </tr>\n",
       "    <tr>\n",
       "      <th>25%</th>\n",
       "      <td>263.250000</td>\n",
       "      <td>2010.000000</td>\n",
       "    </tr>\n",
       "    <tr>\n",
       "      <th>50%</th>\n",
       "      <td>532.500000</td>\n",
       "      <td>2012.000000</td>\n",
       "    </tr>\n",
       "    <tr>\n",
       "      <th>75%</th>\n",
       "      <td>787.750000</td>\n",
       "      <td>2013.000000</td>\n",
       "    </tr>\n",
       "    <tr>\n",
       "      <th>max</th>\n",
       "      <td>1054.000000</td>\n",
       "      <td>2014.000000</td>\n",
       "    </tr>\n",
       "  </tbody>\n",
       "</table>\n",
       "</div>"
      ],
      "text/plain": [
       "         Breach ID         Year\n",
       "count  1018.000000  1018.000000\n",
       "mean    527.172888  2011.454813\n",
       "std     303.984328     1.587321\n",
       "min       0.000000  1997.000000\n",
       "25%     263.250000  2010.000000\n",
       "50%     532.500000  2012.000000\n",
       "75%     787.750000  2013.000000\n",
       "max    1054.000000  2014.000000"
      ]
     },
     "execution_count": 5,
     "metadata": {},
     "output_type": "execute_result"
    }
   ],
   "source": [
    "cyber_data.describe()"
   ]
  },
  {
   "cell_type": "markdown",
   "metadata": {},
   "source": [
    "### Find the States with the most and least data breaches"
   ]
  },
  {
   "cell_type": "code",
   "execution_count": 6,
   "metadata": {},
   "outputs": [
    {
     "data": {
      "text/html": [
       "<div>\n",
       "<style scoped>\n",
       "    .dataframe tbody tr th:only-of-type {\n",
       "        vertical-align: middle;\n",
       "    }\n",
       "\n",
       "    .dataframe tbody tr th {\n",
       "        vertical-align: top;\n",
       "    }\n",
       "\n",
       "    .dataframe thead th {\n",
       "        text-align: right;\n",
       "    }\n",
       "</style>\n",
       "<table border=\"1\" class=\"dataframe\">\n",
       "  <thead>\n",
       "    <tr style=\"text-align: right;\">\n",
       "      <th></th>\n",
       "      <th>Breach ID</th>\n",
       "    </tr>\n",
       "    <tr>\n",
       "      <th>State</th>\n",
       "      <th></th>\n",
       "    </tr>\n",
       "  </thead>\n",
       "  <tbody>\n",
       "    <tr>\n",
       "      <th>CA</th>\n",
       "      <td>113</td>\n",
       "    </tr>\n",
       "  </tbody>\n",
       "</table>\n",
       "</div>"
      ],
      "text/plain": [
       "       Breach ID\n",
       "State           \n",
       "CA           113"
      ]
     },
     "execution_count": 6,
     "metadata": {},
     "output_type": "execute_result"
    }
   ],
   "source": [
    "# group data and count breach occurances\n",
    "# sort values so that the max is at the top and min is last\n",
    "top_breach_States = pd.DataFrame(cyber_data.groupby(['State'])['Breach ID'].count().sort_values(ascending=False))\n",
    "\n",
    "# use describe to identify min/max values for boolean then convert to int\n",
    "st_breach_max = int(top_breach_States.describe().max()) \n",
    "st_breach_min = int(top_breach_States.describe().min())\n",
    "\n",
    "#isolate the min State\n",
    "top_breach_States[top_breach_States['Breach ID']==st_breach_min]\n",
    "# isolate the max State\n",
    "top_breach_States[top_breach_States['Breach ID']==st_breach_max]"
   ]
  },
  {
   "cell_type": "markdown",
   "metadata": {},
   "source": [
    "## BARCHART OF StateS & BRAECH COUNT"
   ]
  },
  {
   "cell_type": "markdown",
   "metadata": {},
   "source": [
    "### Look for trends over the Years"
   ]
  },
  {
   "cell_type": "code",
   "execution_count": 7,
   "metadata": {},
   "outputs": [
    {
     "data": {
      "text/html": [
       "<div>\n",
       "<style scoped>\n",
       "    .dataframe tbody tr th:only-of-type {\n",
       "        vertical-align: middle;\n",
       "    }\n",
       "\n",
       "    .dataframe tbody tr th {\n",
       "        vertical-align: top;\n",
       "    }\n",
       "\n",
       "    .dataframe thead th {\n",
       "        text-align: right;\n",
       "    }\n",
       "</style>\n",
       "<table border=\"1\" class=\"dataframe\">\n",
       "  <thead>\n",
       "    <tr style=\"text-align: right;\">\n",
       "      <th></th>\n",
       "      <th>Breach Count</th>\n",
       "    </tr>\n",
       "    <tr>\n",
       "      <th>Year</th>\n",
       "      <th></th>\n",
       "    </tr>\n",
       "  </thead>\n",
       "  <tbody>\n",
       "    <tr>\n",
       "      <th>2008</th>\n",
       "      <td>11</td>\n",
       "    </tr>\n",
       "    <tr>\n",
       "      <th>2009</th>\n",
       "      <td>55</td>\n",
       "    </tr>\n",
       "    <tr>\n",
       "      <th>2010</th>\n",
       "      <td>203</td>\n",
       "    </tr>\n",
       "    <tr>\n",
       "      <th>2011</th>\n",
       "      <td>221</td>\n",
       "    </tr>\n",
       "    <tr>\n",
       "      <th>2012</th>\n",
       "      <td>219</td>\n",
       "    </tr>\n",
       "    <tr>\n",
       "      <th>2013</th>\n",
       "      <td>244</td>\n",
       "    </tr>\n",
       "    <tr>\n",
       "      <th>2014</th>\n",
       "      <td>56</td>\n",
       "    </tr>\n",
       "  </tbody>\n",
       "</table>\n",
       "</div>"
      ],
      "text/plain": [
       "      Breach Count\n",
       "Year              \n",
       "2008            11\n",
       "2009            55\n",
       "2010           203\n",
       "2011           221\n",
       "2012           219\n",
       "2013           244\n",
       "2014            56"
      ]
     },
     "execution_count": 7,
     "metadata": {},
     "output_type": "execute_result"
    }
   ],
   "source": [
    "# DF of breach counts by YR \n",
    "# remove Years with very little data\n",
    "cyber_data = cyber_data[cyber_data['Year']>2007]\n",
    "yr_breach_count = pd.DataFrame(cyber_data.groupby(['Year'])['Breach ID'].count())                              \n",
    "yr_breach_count = yr_breach_count.rename(columns={'Breach ID': 'Breach Count'}) \n",
    "yr_breach_count.reset_index().sort_values('Breach Count',ascending=True).head()\n",
    "yr_breach_count"
   ]
  },
  {
   "cell_type": "markdown",
   "metadata": {},
   "source": [
    "# BARCHART CHART HERE Year AND BREACH COUNT"
   ]
  },
  {
   "cell_type": "markdown",
   "metadata": {},
   "source": [
    "---"
   ]
  },
  {
   "cell_type": "markdown",
   "metadata": {},
   "source": [
    "## Isolate data to most occurances of data breaches"
   ]
  },
  {
   "cell_type": "code",
   "execution_count": 8,
   "metadata": {},
   "outputs": [],
   "source": [
    "# pull only the data points that are in tX & CA\n",
    "tx_breaches = cyber_data.loc[(cyber_data['State']=='TX')]\n",
    "ca_breaches = cyber_data.loc[(cyber_data['State']=='CA')]"
   ]
  },
  {
   "cell_type": "markdown",
   "metadata": {},
   "source": [
    "## Look at all breaches for all Years over the dataset "
   ]
  },
  {
   "cell_type": "markdown",
   "metadata": {},
   "source": [
    "----\n",
    "# **Fire Data** "
   ]
  },
  {
   "cell_type": "markdown",
   "metadata": {},
   "source": [
    "---\n",
    "### Pull and format data for analysis"
   ]
  },
  {
   "cell_type": "code",
   "execution_count": 37,
   "metadata": {},
   "outputs": [
    {
     "data": {
      "text/html": [
       "<div>\n",
       "<style scoped>\n",
       "    .dataframe tbody tr th:only-of-type {\n",
       "        vertical-align: middle;\n",
       "    }\n",
       "\n",
       "    .dataframe tbody tr th {\n",
       "        vertical-align: top;\n",
       "    }\n",
       "\n",
       "    .dataframe thead th {\n",
       "        text-align: right;\n",
       "    }\n",
       "</style>\n",
       "<table border=\"1\" class=\"dataframe\">\n",
       "  <thead>\n",
       "    <tr style=\"text-align: right;\">\n",
       "      <th></th>\n",
       "      <th>Unnamed: 0</th>\n",
       "      <th>dis_id</th>\n",
       "      <th>date</th>\n",
       "      <th>state</th>\n",
       "      <th>type</th>\n",
       "    </tr>\n",
       "  </thead>\n",
       "  <tbody>\n",
       "    <tr>\n",
       "      <th>0</th>\n",
       "      <td>1743</td>\n",
       "      <td>5f7b2c0831a8c6681cfd7421</td>\n",
       "      <td>2008-02-08</td>\n",
       "      <td>TX</td>\n",
       "      <td>Fire</td>\n",
       "    </tr>\n",
       "    <tr>\n",
       "      <th>1</th>\n",
       "      <td>1744</td>\n",
       "      <td>5f7b2c0831a8c6681cfd7423</td>\n",
       "      <td>2008-02-13</td>\n",
       "      <td>TX</td>\n",
       "      <td>Fire</td>\n",
       "    </tr>\n",
       "    <tr>\n",
       "      <th>2</th>\n",
       "      <td>1745</td>\n",
       "      <td>5f7b2c0831a8c6681cfd7426</td>\n",
       "      <td>2008-02-23</td>\n",
       "      <td>TX</td>\n",
       "      <td>Fire</td>\n",
       "    </tr>\n",
       "    <tr>\n",
       "      <th>3</th>\n",
       "      <td>1746</td>\n",
       "      <td>5f7b2c0831a8c6681cfd742a</td>\n",
       "      <td>2008-02-25</td>\n",
       "      <td>TX</td>\n",
       "      <td>Fire</td>\n",
       "    </tr>\n",
       "    <tr>\n",
       "      <th>4</th>\n",
       "      <td>1747</td>\n",
       "      <td>5f7b2c0831a8c6681cfd742e</td>\n",
       "      <td>2008-02-25</td>\n",
       "      <td>OK</td>\n",
       "      <td>Fire</td>\n",
       "    </tr>\n",
       "  </tbody>\n",
       "</table>\n",
       "</div>"
      ],
      "text/plain": [
       "   Unnamed: 0                    dis_id        date state  type\n",
       "0        1743  5f7b2c0831a8c6681cfd7421  2008-02-08    TX  Fire\n",
       "1        1744  5f7b2c0831a8c6681cfd7423  2008-02-13    TX  Fire\n",
       "2        1745  5f7b2c0831a8c6681cfd7426  2008-02-23    TX  Fire\n",
       "3        1746  5f7b2c0831a8c6681cfd742a  2008-02-25    TX  Fire\n",
       "4        1747  5f7b2c0831a8c6681cfd742e  2008-02-25    OK  Fire"
      ]
     },
     "execution_count": 37,
     "metadata": {},
     "output_type": "execute_result"
    }
   ],
   "source": [
    "# pull in fire data from API results\n",
    "firedf = pd.read_csv('source_data/disaster_data.csv')\n",
    "firedf.head()"
   ]
  },
  {
   "cell_type": "code",
   "execution_count": 38,
   "metadata": {},
   "outputs": [],
   "source": [
    "# add month and yr columns\n",
    "firedf['Month'] = pd.DatetimeIndex(firedf['date']).month\n",
    "firedf['Year'] = pd.DatetimeIndex(firedf['date']).year\n",
    "# change month # to month name\n",
    "firedf['Month'] = firedf['Month'].apply(lambda x: calendar.month_abbr[x])\n",
    "# drop unnamed column\n",
    "del firedf['Unnamed: 0']"
   ]
  },
  {
   "cell_type": "code",
   "execution_count": 39,
   "metadata": {},
   "outputs": [
    {
     "data": {
      "text/html": [
       "<div>\n",
       "<style scoped>\n",
       "    .dataframe tbody tr th:only-of-type {\n",
       "        vertical-align: middle;\n",
       "    }\n",
       "\n",
       "    .dataframe tbody tr th {\n",
       "        vertical-align: top;\n",
       "    }\n",
       "\n",
       "    .dataframe thead th {\n",
       "        text-align: right;\n",
       "    }\n",
       "</style>\n",
       "<table border=\"1\" class=\"dataframe\">\n",
       "  <thead>\n",
       "    <tr style=\"text-align: right;\">\n",
       "      <th></th>\n",
       "      <th>Fire ID</th>\n",
       "      <th>Full Date</th>\n",
       "      <th>State</th>\n",
       "      <th>Type</th>\n",
       "      <th>Month</th>\n",
       "      <th>Year</th>\n",
       "    </tr>\n",
       "  </thead>\n",
       "  <tbody>\n",
       "    <tr>\n",
       "      <th>0</th>\n",
       "      <td>5f7b2c0831a8c6681cfd7421</td>\n",
       "      <td>2008-02-08</td>\n",
       "      <td>TX</td>\n",
       "      <td>Fire</td>\n",
       "      <td>Feb</td>\n",
       "      <td>2008</td>\n",
       "    </tr>\n",
       "    <tr>\n",
       "      <th>1</th>\n",
       "      <td>5f7b2c0831a8c6681cfd7423</td>\n",
       "      <td>2008-02-13</td>\n",
       "      <td>TX</td>\n",
       "      <td>Fire</td>\n",
       "      <td>Feb</td>\n",
       "      <td>2008</td>\n",
       "    </tr>\n",
       "    <tr>\n",
       "      <th>2</th>\n",
       "      <td>5f7b2c0831a8c6681cfd7426</td>\n",
       "      <td>2008-02-23</td>\n",
       "      <td>TX</td>\n",
       "      <td>Fire</td>\n",
       "      <td>Feb</td>\n",
       "      <td>2008</td>\n",
       "    </tr>\n",
       "    <tr>\n",
       "      <th>3</th>\n",
       "      <td>5f7b2c0831a8c6681cfd742a</td>\n",
       "      <td>2008-02-25</td>\n",
       "      <td>TX</td>\n",
       "      <td>Fire</td>\n",
       "      <td>Feb</td>\n",
       "      <td>2008</td>\n",
       "    </tr>\n",
       "    <tr>\n",
       "      <th>4</th>\n",
       "      <td>5f7b2c0831a8c6681cfd742e</td>\n",
       "      <td>2008-02-25</td>\n",
       "      <td>OK</td>\n",
       "      <td>Fire</td>\n",
       "      <td>Feb</td>\n",
       "      <td>2008</td>\n",
       "    </tr>\n",
       "    <tr>\n",
       "      <th>...</th>\n",
       "      <td>...</td>\n",
       "      <td>...</td>\n",
       "      <td>...</td>\n",
       "      <td>...</td>\n",
       "      <td>...</td>\n",
       "      <td>...</td>\n",
       "    </tr>\n",
       "    <tr>\n",
       "      <th>861</th>\n",
       "      <td>5f7b2c3231a8c6681cfffc55</td>\n",
       "      <td>2014-09-13</td>\n",
       "      <td>CA</td>\n",
       "      <td>Fire</td>\n",
       "      <td>Sep</td>\n",
       "      <td>2014</td>\n",
       "    </tr>\n",
       "    <tr>\n",
       "      <th>862</th>\n",
       "      <td>5f7b2c3231a8c6681cfffc49</td>\n",
       "      <td>2014-09-14</td>\n",
       "      <td>CA</td>\n",
       "      <td>Fire</td>\n",
       "      <td>Sep</td>\n",
       "      <td>2014</td>\n",
       "    </tr>\n",
       "    <tr>\n",
       "      <th>863</th>\n",
       "      <td>5f7b2c3231a8c6681cfffc4b</td>\n",
       "      <td>2014-09-15</td>\n",
       "      <td>CA</td>\n",
       "      <td>Fire</td>\n",
       "      <td>Sep</td>\n",
       "      <td>2014</td>\n",
       "    </tr>\n",
       "    <tr>\n",
       "      <th>864</th>\n",
       "      <td>5f7b2c3231a8c6681cfffc4e</td>\n",
       "      <td>2014-09-15</td>\n",
       "      <td>OR</td>\n",
       "      <td>Fire</td>\n",
       "      <td>Sep</td>\n",
       "      <td>2014</td>\n",
       "    </tr>\n",
       "    <tr>\n",
       "      <th>865</th>\n",
       "      <td>5f7b2c3231a8c6681cfffca3</td>\n",
       "      <td>2014-10-08</td>\n",
       "      <td>CA</td>\n",
       "      <td>Fire</td>\n",
       "      <td>Oct</td>\n",
       "      <td>2014</td>\n",
       "    </tr>\n",
       "  </tbody>\n",
       "</table>\n",
       "<p>866 rows × 6 columns</p>\n",
       "</div>"
      ],
      "text/plain": [
       "                      Fire ID   Full Date State  Type Month  Year\n",
       "0    5f7b2c0831a8c6681cfd7421  2008-02-08    TX  Fire   Feb  2008\n",
       "1    5f7b2c0831a8c6681cfd7423  2008-02-13    TX  Fire   Feb  2008\n",
       "2    5f7b2c0831a8c6681cfd7426  2008-02-23    TX  Fire   Feb  2008\n",
       "3    5f7b2c0831a8c6681cfd742a  2008-02-25    TX  Fire   Feb  2008\n",
       "4    5f7b2c0831a8c6681cfd742e  2008-02-25    OK  Fire   Feb  2008\n",
       "..                        ...         ...   ...   ...   ...   ...\n",
       "861  5f7b2c3231a8c6681cfffc55  2014-09-13    CA  Fire   Sep  2014\n",
       "862  5f7b2c3231a8c6681cfffc49  2014-09-14    CA  Fire   Sep  2014\n",
       "863  5f7b2c3231a8c6681cfffc4b  2014-09-15    CA  Fire   Sep  2014\n",
       "864  5f7b2c3231a8c6681cfffc4e  2014-09-15    OR  Fire   Sep  2014\n",
       "865  5f7b2c3231a8c6681cfffca3  2014-10-08    CA  Fire   Oct  2014\n",
       "\n",
       "[866 rows x 6 columns]"
      ]
     },
     "execution_count": 39,
     "metadata": {},
     "output_type": "execute_result"
    }
   ],
   "source": [
    "# Change all column names to match data_df headers\n",
    "firedf = firedf.rename(columns={'dis_id':'Fire ID', 'date':'Full Date', 'state':'State', 'type':'Type'})\n",
    "firedf"
   ]
  },
  {
   "cell_type": "markdown",
   "metadata": {},
   "source": [
    "---\n",
    "### Get a sense of the data by running inital analysis"
   ]
  },
  {
   "cell_type": "code",
   "execution_count": 40,
   "metadata": {},
   "outputs": [
    {
     "data": {
      "image/png": "[encoded data removed]",
      "text/plain": [
       "<Figure size 432x288 with 1 Axes>"
      ]
     },
     "metadata": {
      "needs_background": "light"
     },
     "output_type": "display_data"
    }
   ],
   "source": [
    "# look at overall data distribution\n",
    "len_brch = len(firedf['State'])\n",
    "plt.hist(firedf['State'], bins=10)\n",
    "plt.xlabel('States')\n",
    "plt.ylabel('? frequency of what ?')\n",
    "plt.show()\n",
    "# looks very abnormal"
   ]
  },
  {
   "cell_type": "code",
   "execution_count": 41,
   "metadata": {},
   "outputs": [
    {
     "data": {
      "text/html": [
       "<div>\n",
       "<style scoped>\n",
       "    .dataframe tbody tr th:only-of-type {\n",
       "        vertical-align: middle;\n",
       "    }\n",
       "\n",
       "    .dataframe tbody tr th {\n",
       "        vertical-align: top;\n",
       "    }\n",
       "\n",
       "    .dataframe thead th {\n",
       "        text-align: right;\n",
       "    }\n",
       "</style>\n",
       "<table border=\"1\" class=\"dataframe\">\n",
       "  <thead>\n",
       "    <tr style=\"text-align: right;\">\n",
       "      <th></th>\n",
       "      <th>Year</th>\n",
       "    </tr>\n",
       "  </thead>\n",
       "  <tbody>\n",
       "    <tr>\n",
       "      <th>count</th>\n",
       "      <td>866.000000</td>\n",
       "    </tr>\n",
       "    <tr>\n",
       "      <th>mean</th>\n",
       "      <td>2010.090069</td>\n",
       "    </tr>\n",
       "    <tr>\n",
       "      <th>std</th>\n",
       "      <td>1.833211</td>\n",
       "    </tr>\n",
       "    <tr>\n",
       "      <th>min</th>\n",
       "      <td>2008.000000</td>\n",
       "    </tr>\n",
       "    <tr>\n",
       "      <th>25%</th>\n",
       "      <td>2008.000000</td>\n",
       "    </tr>\n",
       "    <tr>\n",
       "      <th>50%</th>\n",
       "      <td>2011.000000</td>\n",
       "    </tr>\n",
       "    <tr>\n",
       "      <th>75%</th>\n",
       "      <td>2011.000000</td>\n",
       "    </tr>\n",
       "    <tr>\n",
       "      <th>max</th>\n",
       "      <td>2014.000000</td>\n",
       "    </tr>\n",
       "  </tbody>\n",
       "</table>\n",
       "</div>"
      ],
      "text/plain": [
       "              Year\n",
       "count   866.000000\n",
       "mean   2010.090069\n",
       "std       1.833211\n",
       "min    2008.000000\n",
       "25%    2008.000000\n",
       "50%    2011.000000\n",
       "75%    2011.000000\n",
       "max    2014.000000"
      ]
     },
     "execution_count": 41,
     "metadata": {},
     "output_type": "execute_result"
    }
   ],
   "source": [
    "firedf.describe()"
   ]
  },
  {
   "cell_type": "code",
   "execution_count": 42,
   "metadata": {},
   "outputs": [
    {
     "data": {
      "text/html": [
       "<div>\n",
       "<style scoped>\n",
       "    .dataframe tbody tr th:only-of-type {\n",
       "        vertical-align: middle;\n",
       "    }\n",
       "\n",
       "    .dataframe tbody tr th {\n",
       "        vertical-align: top;\n",
       "    }\n",
       "\n",
       "    .dataframe thead th {\n",
       "        text-align: right;\n",
       "    }\n",
       "</style>\n",
       "<table border=\"1\" class=\"dataframe\">\n",
       "  <thead>\n",
       "    <tr style=\"text-align: right;\">\n",
       "      <th></th>\n",
       "      <th>Year</th>\n",
       "      <th>Fire Count</th>\n",
       "    </tr>\n",
       "  </thead>\n",
       "  <tbody>\n",
       "    <tr>\n",
       "      <th>3</th>\n",
       "      <td>2011</td>\n",
       "      <td>333</td>\n",
       "    </tr>\n",
       "    <tr>\n",
       "      <th>0</th>\n",
       "      <td>2008</td>\n",
       "      <td>308</td>\n",
       "    </tr>\n",
       "    <tr>\n",
       "      <th>4</th>\n",
       "      <td>2012</td>\n",
       "      <td>69</td>\n",
       "    </tr>\n",
       "    <tr>\n",
       "      <th>1</th>\n",
       "      <td>2009</td>\n",
       "      <td>59</td>\n",
       "    </tr>\n",
       "    <tr>\n",
       "      <th>6</th>\n",
       "      <td>2014</td>\n",
       "      <td>42</td>\n",
       "    </tr>\n",
       "  </tbody>\n",
       "</table>\n",
       "</div>"
      ],
      "text/plain": [
       "   Year  Fire Count\n",
       "3  2011         333\n",
       "0  2008         308\n",
       "4  2012          69\n",
       "1  2009          59\n",
       "6  2014          42"
      ]
     },
     "execution_count": 42,
     "metadata": {},
     "output_type": "execute_result"
    }
   ],
   "source": [
    "# DF of breach counts by YR\n",
    "firedf['Year'].sort_values(ascending=False)\n",
    "yr_fire_count = pd.DataFrame(firedf.groupby(['Year'])['Fire ID'].count())                              \n",
    "yr_fire_count = yr_fire_count.rename(columns={'Fire ID': 'Fire Count'}) \n",
    "yr_fire_count.reset_index().sort_values('Fire Count',ascending=False).head()"
   ]
  },
  {
   "cell_type": "markdown",
   "metadata": {},
   "source": [
    "### Find the State with the most & least wildfires"
   ]
  },
  {
   "cell_type": "code",
   "execution_count": 43,
   "metadata": {},
   "outputs": [
    {
     "data": {
      "text/html": [
       "<div>\n",
       "<style scoped>\n",
       "    .dataframe tbody tr th:only-of-type {\n",
       "        vertical-align: middle;\n",
       "    }\n",
       "\n",
       "    .dataframe tbody tr th {\n",
       "        vertical-align: top;\n",
       "    }\n",
       "\n",
       "    .dataframe thead th {\n",
       "        text-align: right;\n",
       "    }\n",
       "</style>\n",
       "<table border=\"1\" class=\"dataframe\">\n",
       "  <thead>\n",
       "    <tr style=\"text-align: right;\">\n",
       "      <th></th>\n",
       "      <th>Fire ID</th>\n",
       "    </tr>\n",
       "    <tr>\n",
       "      <th>State</th>\n",
       "      <th></th>\n",
       "    </tr>\n",
       "  </thead>\n",
       "  <tbody>\n",
       "    <tr>\n",
       "      <th>TX</th>\n",
       "      <td>533</td>\n",
       "    </tr>\n",
       "  </tbody>\n",
       "</table>\n",
       "</div>"
      ],
      "text/plain": [
       "       Fire ID\n",
       "State         \n",
       "TX         533"
      ]
     },
     "execution_count": 43,
     "metadata": {},
     "output_type": "execute_result"
    }
   ],
   "source": [
    "# group data and count wildfire occurances\n",
    "# sort values so that the max is at the top and min is last\n",
    "st_fire_count = pd.DataFrame(firedf.groupby(['State'])['Fire ID'].count().sort_values(ascending=False))\n",
    "# use describe to identify min/max values for boolean then convert to int\n",
    "st_fire_max = int(st_fire_count.describe().max()) \n",
    "st_fire_min = int(st_fire_count.describe().min())\n",
    "st_fire_count.describe()\n",
    "\n",
    "#isolate the min State\n",
    "st_fire_count[st_fire_count['Fire ID']==st_fire_min]\n",
    "# isolate the max State\n",
    "st_fire_count[st_fire_count['Fire ID']==st_fire_max]"
   ]
  },
  {
   "cell_type": "markdown",
   "metadata": {},
   "source": [
    "## BARCHART OF StateS & BRAECH COUNT"
   ]
  },
  {
   "cell_type": "markdown",
   "metadata": {},
   "source": [
    "### Look for trends over the years"
   ]
  },
  {
   "cell_type": "code",
   "execution_count": 44,
   "metadata": {},
   "outputs": [
    {
     "data": {
      "text/html": [
       "<div>\n",
       "<style scoped>\n",
       "    .dataframe tbody tr th:only-of-type {\n",
       "        vertical-align: middle;\n",
       "    }\n",
       "\n",
       "    .dataframe tbody tr th {\n",
       "        vertical-align: top;\n",
       "    }\n",
       "\n",
       "    .dataframe thead th {\n",
       "        text-align: right;\n",
       "    }\n",
       "</style>\n",
       "<table border=\"1\" class=\"dataframe\">\n",
       "  <thead>\n",
       "    <tr style=\"text-align: right;\">\n",
       "      <th></th>\n",
       "      <th>Year</th>\n",
       "      <th>Fire Count</th>\n",
       "    </tr>\n",
       "  </thead>\n",
       "  <tbody>\n",
       "    <tr>\n",
       "      <th>3</th>\n",
       "      <td>2011</td>\n",
       "      <td>333</td>\n",
       "    </tr>\n",
       "    <tr>\n",
       "      <th>0</th>\n",
       "      <td>2008</td>\n",
       "      <td>308</td>\n",
       "    </tr>\n",
       "    <tr>\n",
       "      <th>4</th>\n",
       "      <td>2012</td>\n",
       "      <td>69</td>\n",
       "    </tr>\n",
       "    <tr>\n",
       "      <th>1</th>\n",
       "      <td>2009</td>\n",
       "      <td>59</td>\n",
       "    </tr>\n",
       "    <tr>\n",
       "      <th>6</th>\n",
       "      <td>2014</td>\n",
       "      <td>42</td>\n",
       "    </tr>\n",
       "  </tbody>\n",
       "</table>\n",
       "</div>"
      ],
      "text/plain": [
       "   Year  Fire Count\n",
       "3  2011         333\n",
       "0  2008         308\n",
       "4  2012          69\n",
       "1  2009          59\n",
       "6  2014          42"
      ]
     },
     "execution_count": 44,
     "metadata": {},
     "output_type": "execute_result"
    }
   ],
   "source": [
    "# DF of breach counts by YR\n",
    "firedf['Year'].sort_values(ascending=False)\n",
    "yr_fire_count = pd.DataFrame(firedf.groupby(['Year'])['Fire ID'].count())                              \n",
    "yr_fire_count = yr_fire_count.rename(columns={'Fire ID': 'Fire Count'}) \n",
    "yr_fire_count.reset_index().sort_values('Fire Count',ascending=False).head()"
   ]
  },
  {
   "cell_type": "markdown",
   "metadata": {},
   "source": [
    "# BARCHART CHART HERE Year AND BREACH COUNT"
   ]
  },
  {
   "cell_type": "markdown",
   "metadata": {},
   "source": [
    "----\n",
    "## Isolate data to most occurances of data breaches"
   ]
  },
  {
   "cell_type": "code",
   "execution_count": 45,
   "metadata": {},
   "outputs": [],
   "source": [
    "# pull only the data points that are in tX & CA\n",
    "tx_fires = firedf.loc[(firedf['State']=='TX')]\n",
    "ca_fires = firedf.loc[(firedf['State']=='CA')]"
   ]
  },
  {
   "cell_type": "markdown",
   "metadata": {},
   "source": [
    "# BOX PLOT HERE All States over all Years"
   ]
  },
  {
   "cell_type": "markdown",
   "metadata": {},
   "source": [
    "----\n",
    "# COMBINED ANALYSIS\n",
    "----"
   ]
  },
  {
   "cell_type": "markdown",
   "metadata": {},
   "source": [
    "## State fires each Year v State breaches each Year"
   ]
  },
  {
   "cell_type": "code",
   "execution_count": 68,
   "metadata": {},
   "outputs": [
    {
     "data": {
      "text/html": [
       "<div>\n",
       "<style scoped>\n",
       "    .dataframe tbody tr th:only-of-type {\n",
       "        vertical-align: middle;\n",
       "    }\n",
       "\n",
       "    .dataframe tbody tr th {\n",
       "        vertical-align: top;\n",
       "    }\n",
       "\n",
       "    .dataframe thead th {\n",
       "        text-align: right;\n",
       "    }\n",
       "</style>\n",
       "<table border=\"1\" class=\"dataframe\">\n",
       "  <thead>\n",
       "    <tr style=\"text-align: right;\">\n",
       "      <th></th>\n",
       "      <th>Breach ID</th>\n",
       "      <th>State</th>\n",
       "      <th>Year</th>\n",
       "      <th>Full Date</th>\n",
       "      <th>Month</th>\n",
       "      <th>Fire ID</th>\n",
       "      <th>Type</th>\n",
       "    </tr>\n",
       "  </thead>\n",
       "  <tbody>\n",
       "    <tr>\n",
       "      <th>0</th>\n",
       "      <td>829</td>\n",
       "      <td>CA</td>\n",
       "      <td>2013</td>\n",
       "      <td>2013-09-09</td>\n",
       "      <td>Sep</td>\n",
       "      <td>5f7b2c3131a8c6681cfffbbd</td>\n",
       "      <td>Fire</td>\n",
       "    </tr>\n",
       "    <tr>\n",
       "      <th>1</th>\n",
       "      <td>785</td>\n",
       "      <td>CO</td>\n",
       "      <td>2013</td>\n",
       "      <td>2013-06-11</td>\n",
       "      <td>Jun</td>\n",
       "      <td>5f7b2c3131a8c6681cfffb56</td>\n",
       "      <td>Fire</td>\n",
       "    </tr>\n",
       "    <tr>\n",
       "      <th>2</th>\n",
       "      <td>785</td>\n",
       "      <td>CO</td>\n",
       "      <td>2013</td>\n",
       "      <td>2013-06-11</td>\n",
       "      <td>Jun</td>\n",
       "      <td>5f7b2c2531a8c6681cff40b0</td>\n",
       "      <td>Fire</td>\n",
       "    </tr>\n",
       "  </tbody>\n",
       "</table>\n",
       "</div>"
      ],
      "text/plain": [
       "   Breach ID State  Year   Full Date Month                   Fire ID  Type\n",
       "0        829    CA  2013  2013-09-09   Sep  5f7b2c3131a8c6681cfffbbd  Fire\n",
       "1        785    CO  2013  2013-06-11   Jun  5f7b2c3131a8c6681cfffb56  Fire\n",
       "2        785    CO  2013  2013-06-11   Jun  5f7b2c2531a8c6681cff40b0  Fire"
      ]
     },
     "execution_count": 68,
     "metadata": {},
     "output_type": "execute_result"
    }
   ],
   "source": [
    "# define the x & y labels\n",
    "xax_label = list(cyber_data['State'])\n",
    "yax_label = list(np.arange(2008,2015,1))\n",
    "\n",
    "# inner merge for common data point in both data sets\n",
    "common_data = cyber_data.merge(firedf, on=['Full Date','State','Month', 'Year'])\n",
    "common_data.head(3)"
   ]
  },
  {
   "cell_type": "code",
   "execution_count": 69,
   "metadata": {},
   "outputs": [
    {
     "data": {
      "text/plain": [
       "<matplotlib.collections.PathCollection at 0x1b277cdd640>"
      ]
     },
     "execution_count": 69,
     "metadata": {},
     "output_type": "execute_result"
    },
    {
     "data": {
      "image/png": "[encoded data removed]",
      "text/plain": [
       "<Figure size 432x288 with 1 Axes>"
      ]
     },
     "metadata": {
      "needs_background": "light"
     },
     "output_type": "display_data"
    }
   ],
   "source": [
    "\n",
    "#plt.scatter([firedf['State'],cyber_data['State']], [firedf['Full Date'],cyber_data['Full Full Date']],color='#46bdc6',marker='^')\n",
    "fig = plt.figure()\n",
    "ax1 = fig.add_subplot()\n",
    "\n",
    "ax1.scatter(firedf['State'], firedf['Full Date'],color='#035afc',marker='^')\n",
    "ax1.scatter(cyber_data['State'], cyber_data['Full Date'],color='red',marker='o')\n",
    "ax1.scatter(common_data['State'],common_data['Full Date'], color='purple',marker='x')"
   ]
  },
  {
   "cell_type": "markdown",
   "metadata": {},
   "source": [
    "## TX Fires v. TX Breaches\n",
    "* Scatter Plot"
   ]
  },
  {
   "cell_type": "code",
   "execution_count": 72,
   "metadata": {},
   "outputs": [],
   "source": [
    "#isolate common TX data between breaches and fires\n",
    "tx_common_data = common_data[common_data['State']=='TX']\n",
    "#gather texas data for easy plotting\n",
    "tx_fire_xax = tx_fires['Year']\n",
    "tx_fire_yax = tx_fires['Month']\n",
    "tx_breach_xax = tx_breaches['Year']\n",
    "tx_breach_yax = tx_breaches['Month']\n",
    "tx_common_xax = tx_common_data['Year']\n",
    "tx_common_yax = tx_common_data['Month']"
   ]
  },
  {
   "cell_type": "markdown",
   "metadata": {},
   "source": [
    "## CA Fires v. CA Breaches\n",
    "* Scatter Plot"
   ]
  },
  {
   "cell_type": "code",
   "execution_count": 73,
   "metadata": {},
   "outputs": [],
   "source": [
    "#isolate common CA data between breaches and fires\n",
    "ca_common_data = common_data[common_data['State']=='CA']\n",
    "#gather califonia data for easy plotting\n",
    "ca_fire_xax = ca_fires['Year']\n",
    "ca_fire_yax = ca_fires['Month']\n",
    "ca_breach_xax = ca_breaches['Year']\n",
    "ca_breach_yax = ca_breaches['Month']\n",
    "ca_common_xax = ca_common_data['Year']\n",
    "ca_common_yax = ca_common_data['Month']"
   ]
  },
  {
   "cell_type": "markdown",
   "metadata": {},
   "source": [
    "## YR Fires v. YR Breaches\n",
    "* Line chart w/ both data sets"
   ]
  },
  {
   "cell_type": "code",
   "execution_count": 50,
   "metadata": {},
   "outputs": [
    {
     "data": {
      "text/html": [
       "<div>\n",
       "<style scoped>\n",
       "    .dataframe tbody tr th:only-of-type {\n",
       "        vertical-align: middle;\n",
       "    }\n",
       "\n",
       "    .dataframe tbody tr th {\n",
       "        vertical-align: top;\n",
       "    }\n",
       "\n",
       "    .dataframe thead th {\n",
       "        text-align: right;\n",
       "    }\n",
       "</style>\n",
       "<table border=\"1\" class=\"dataframe\">\n",
       "  <thead>\n",
       "    <tr style=\"text-align: right;\">\n",
       "      <th></th>\n",
       "      <th>Fire Count</th>\n",
       "    </tr>\n",
       "    <tr>\n",
       "      <th>Year</th>\n",
       "      <th></th>\n",
       "    </tr>\n",
       "  </thead>\n",
       "  <tbody>\n",
       "    <tr>\n",
       "      <th>2008</th>\n",
       "      <td>308</td>\n",
       "    </tr>\n",
       "    <tr>\n",
       "      <th>2009</th>\n",
       "      <td>59</td>\n",
       "    </tr>\n",
       "    <tr>\n",
       "      <th>2010</th>\n",
       "      <td>17</td>\n",
       "    </tr>\n",
       "    <tr>\n",
       "      <th>2011</th>\n",
       "      <td>333</td>\n",
       "    </tr>\n",
       "    <tr>\n",
       "      <th>2012</th>\n",
       "      <td>69</td>\n",
       "    </tr>\n",
       "    <tr>\n",
       "      <th>2013</th>\n",
       "      <td>38</td>\n",
       "    </tr>\n",
       "    <tr>\n",
       "      <th>2014</th>\n",
       "      <td>42</td>\n",
       "    </tr>\n",
       "  </tbody>\n",
       "</table>\n",
       "</div>"
      ],
      "text/plain": [
       "      Fire Count\n",
       "Year            \n",
       "2008         308\n",
       "2009          59\n",
       "2010          17\n",
       "2011         333\n",
       "2012          69\n",
       "2013          38\n",
       "2014          42"
      ]
     },
     "execution_count": 50,
     "metadata": {},
     "output_type": "execute_result"
    }
   ],
   "source": [
    "yr_breach_count\n",
    "yr_fire_count"
   ]
  },
  {
   "cell_type": "code",
   "execution_count": null,
   "metadata": {},
   "outputs": [],
   "source": []
  }
 ],
 "metadata": {
  "kernelspec": {
   "display_name": "Python 3",
   "language": "python",
   "name": "python3"
  },
  "language_info": {
   "codemirror_mode": {
    "name": "ipython",
    "version": 3
   },
   "file_extension": ".py",
   "mimetype": "text/x-python",
   "name": "python",
   "nbconvert_exporter": "python",
   "pygments_lexer": "ipython3",
   "version": "3.8.5"
  }
 },
 "nbformat": 4,
 "nbformat_minor": 4
}
