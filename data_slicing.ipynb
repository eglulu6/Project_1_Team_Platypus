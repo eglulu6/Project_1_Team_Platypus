{
 "cells": [
  {
   "cell_type": "code",
   "execution_count": 1,
   "metadata": {},
   "outputs": [],
   "source": [
    "# dependancies and setup\n",
    "# Dependencies and Setup\n",
    "import matplotlib.pyplot as plt\n",
    "import pandas as pd\n",
    "import scipy.stats as sts\n",
    "import numpy as np\n",
    "import datetime\n",
    "import calendar"
   ]
  },
  {
   "cell_type": "markdown",
   "metadata": {},
   "source": [
    "---\n",
    "# Breach Data\n",
    "---"
   ]
  },
  {
   "cell_type": "markdown",
   "metadata": {},
   "source": [
    "### Pull and format data for analysis"
   ]
  },
  {
   "cell_type": "code",
   "execution_count": 2,
   "metadata": {},
   "outputs": [
    {
     "data": {
      "text/html": [
       "<div>\n",
       "<style scoped>\n",
       "    .dataframe tbody tr th:only-of-type {\n",
       "        vertical-align: middle;\n",
       "    }\n",
       "\n",
       "    .dataframe tbody tr th {\n",
       "        vertical-align: top;\n",
       "    }\n",
       "\n",
       "    .dataframe thead th {\n",
       "        text-align: right;\n",
       "    }\n",
       "</style>\n",
       "<table border=\"1\" class=\"dataframe\">\n",
       "  <thead>\n",
       "    <tr style=\"text-align: right;\">\n",
       "      <th></th>\n",
       "      <th>Unnamed: 0</th>\n",
       "      <th>Breach ID</th>\n",
       "      <th>State</th>\n",
       "      <th>Year</th>\n",
       "      <th>Full Date</th>\n",
       "    </tr>\n",
       "  </thead>\n",
       "  <tbody>\n",
       "    <tr>\n",
       "      <th>0</th>\n",
       "      <td>1054</td>\n",
       "      <td>725</td>\n",
       "      <td>TX</td>\n",
       "      <td>2012</td>\n",
       "      <td>2012-12-27</td>\n",
       "    </tr>\n",
       "    <tr>\n",
       "      <th>1</th>\n",
       "      <td>1053</td>\n",
       "      <td>438</td>\n",
       "      <td>CA</td>\n",
       "      <td>2011</td>\n",
       "      <td>2011-12-22</td>\n",
       "    </tr>\n",
       "    <tr>\n",
       "      <th>2</th>\n",
       "      <td>1052</td>\n",
       "      <td>818</td>\n",
       "      <td>MO</td>\n",
       "      <td>2009</td>\n",
       "      <td>2009-12-21</td>\n",
       "    </tr>\n",
       "    <tr>\n",
       "      <th>3</th>\n",
       "      <td>1050</td>\n",
       "      <td>676</td>\n",
       "      <td>MA</td>\n",
       "      <td>2012</td>\n",
       "      <td>2012-12-15</td>\n",
       "    </tr>\n",
       "    <tr>\n",
       "      <th>4</th>\n",
       "      <td>1049</td>\n",
       "      <td>638</td>\n",
       "      <td>CA</td>\n",
       "      <td>2012</td>\n",
       "      <td>2012-12-10</td>\n",
       "    </tr>\n",
       "  </tbody>\n",
       "</table>\n",
       "</div>"
      ],
      "text/plain": [
       "   Unnamed: 0  Breach ID State  Year   Full Date\n",
       "0        1054        725    TX  2012  2012-12-27\n",
       "1        1053        438    CA  2011  2011-12-22\n",
       "2        1052        818    MO  2009  2009-12-21\n",
       "3        1050        676    MA  2012  2012-12-15\n",
       "4        1049        638    CA  2012  2012-12-10"
      ]
     },
     "execution_count": 2,
     "metadata": {},
     "output_type": "execute_result"
    }
   ],
   "source": [
    "# import csv\n",
    "cyber_data = pd.read_csv('source_data/cyber_data_clean.csv')\n",
    "cyber_data.head()"
   ]
  },
  {
   "cell_type": "code",
   "execution_count": 3,
   "metadata": {},
   "outputs": [
    {
     "data": {
      "text/html": [
       "<div>\n",
       "<style scoped>\n",
       "    .dataframe tbody tr th:only-of-type {\n",
       "        vertical-align: middle;\n",
       "    }\n",
       "\n",
       "    .dataframe tbody tr th {\n",
       "        vertical-align: top;\n",
       "    }\n",
       "\n",
       "    .dataframe thead th {\n",
       "        text-align: right;\n",
       "    }\n",
       "</style>\n",
       "<table border=\"1\" class=\"dataframe\">\n",
       "  <thead>\n",
       "    <tr style=\"text-align: right;\">\n",
       "      <th></th>\n",
       "      <th>Breach ID</th>\n",
       "      <th>State</th>\n",
       "      <th>Year</th>\n",
       "      <th>Full Date</th>\n",
       "      <th>Month</th>\n",
       "    </tr>\n",
       "  </thead>\n",
       "  <tbody>\n",
       "    <tr>\n",
       "      <th>0</th>\n",
       "      <td>725</td>\n",
       "      <td>TX</td>\n",
       "      <td>2012</td>\n",
       "      <td>2012-12-27</td>\n",
       "      <td>Dec</td>\n",
       "    </tr>\n",
       "    <tr>\n",
       "      <th>1</th>\n",
       "      <td>438</td>\n",
       "      <td>CA</td>\n",
       "      <td>2011</td>\n",
       "      <td>2011-12-22</td>\n",
       "      <td>Dec</td>\n",
       "    </tr>\n",
       "    <tr>\n",
       "      <th>2</th>\n",
       "      <td>818</td>\n",
       "      <td>MO</td>\n",
       "      <td>2009</td>\n",
       "      <td>2009-12-21</td>\n",
       "      <td>Dec</td>\n",
       "    </tr>\n",
       "    <tr>\n",
       "      <th>3</th>\n",
       "      <td>676</td>\n",
       "      <td>MA</td>\n",
       "      <td>2012</td>\n",
       "      <td>2012-12-15</td>\n",
       "      <td>Dec</td>\n",
       "    </tr>\n",
       "    <tr>\n",
       "      <th>4</th>\n",
       "      <td>638</td>\n",
       "      <td>CA</td>\n",
       "      <td>2012</td>\n",
       "      <td>2012-12-10</td>\n",
       "      <td>Dec</td>\n",
       "    </tr>\n",
       "  </tbody>\n",
       "</table>\n",
       "</div>"
      ],
      "text/plain": [
       "   Breach ID State  Year   Full Date Month\n",
       "0        725    TX  2012  2012-12-27   Dec\n",
       "1        438    CA  2011  2011-12-22   Dec\n",
       "2        818    MO  2009  2009-12-21   Dec\n",
       "3        676    MA  2012  2012-12-15   Dec\n",
       "4        638    CA  2012  2012-12-10   Dec"
      ]
     },
     "execution_count": 3,
     "metadata": {},
     "output_type": "execute_result"
    }
   ],
   "source": [
    "# drop unneeded column\n",
    "cyber_data = cyber_data.drop(['Unnamed: 0'], axis=1)\n",
    "\n",
    "# add month column\n",
    "cyber_data['Month'] = pd.DatetimeIndex(cyber_data['Full Date']).month\n",
    "cyber_data['Month'] = cyber_data['Month'].apply(lambda x: calendar.month_abbr[x])\n",
    "cyber_data.head()"
   ]
  },
  {
   "cell_type": "markdown",
   "metadata": {},
   "source": [
    "---\n",
    "### Get a sense of the data by running inital analysis"
   ]
  },
  {
   "cell_type": "code",
   "execution_count": 38,
   "metadata": {},
   "outputs": [
    {
     "data": {
      "image/png": "[encoded data removed]",
      "text/plain": [
       "<Figure size 1080x1080 with 1 Axes>"
      ]
     },
     "metadata": {
      "needs_background": "light"
     },
     "output_type": "display_data"
    }
   ],
   "source": [
    "# look at overall data distribution\n",
    "len_brch = len(cyber_data['State'])\n",
    "plt.figure(figsize=(15,15))\n",
    "plt.hist(cyber_data['State'], bins=10, edgecolor='black')\n",
    "plt.xticks(rotation=90, size=15)\n",
    "plt.xlabel('State', size=15)\n",
    "plt.ylabel('? Frequency of what ?', size=15)\n",
    "plt.show()\n",
    "# looks very abnormal"
   ]
  },
  {
   "cell_type": "code",
   "execution_count": 39,
   "metadata": {},
   "outputs": [
    {
     "data": {
      "text/html": [
       "<div>\n",
       "<style scoped>\n",
       "    .dataframe tbody tr th:only-of-type {\n",
       "        vertical-align: middle;\n",
       "    }\n",
       "\n",
       "    .dataframe tbody tr th {\n",
       "        vertical-align: top;\n",
       "    }\n",
       "\n",
       "    .dataframe thead th {\n",
       "        text-align: right;\n",
       "    }\n",
       "</style>\n",
       "<table border=\"1\" class=\"dataframe\">\n",
       "  <thead>\n",
       "    <tr style=\"text-align: right;\">\n",
       "      <th></th>\n",
       "      <th>Breach ID</th>\n",
       "      <th>Year</th>\n",
       "    </tr>\n",
       "  </thead>\n",
       "  <tbody>\n",
       "    <tr>\n",
       "      <th>count</th>\n",
       "      <td>1018.000000</td>\n",
       "      <td>1018.000000</td>\n",
       "    </tr>\n",
       "    <tr>\n",
       "      <th>mean</th>\n",
       "      <td>527.172888</td>\n",
       "      <td>2011.454813</td>\n",
       "    </tr>\n",
       "    <tr>\n",
       "      <th>std</th>\n",
       "      <td>303.984328</td>\n",
       "      <td>1.587321</td>\n",
       "    </tr>\n",
       "    <tr>\n",
       "      <th>min</th>\n",
       "      <td>0.000000</td>\n",
       "      <td>1997.000000</td>\n",
       "    </tr>\n",
       "    <tr>\n",
       "      <th>25%</th>\n",
       "      <td>263.250000</td>\n",
       "      <td>2010.000000</td>\n",
       "    </tr>\n",
       "    <tr>\n",
       "      <th>50%</th>\n",
       "      <td>532.500000</td>\n",
       "      <td>2012.000000</td>\n",
       "    </tr>\n",
       "    <tr>\n",
       "      <th>75%</th>\n",
       "      <td>787.750000</td>\n",
       "      <td>2013.000000</td>\n",
       "    </tr>\n",
       "    <tr>\n",
       "      <th>max</th>\n",
       "      <td>1054.000000</td>\n",
       "      <td>2014.000000</td>\n",
       "    </tr>\n",
       "  </tbody>\n",
       "</table>\n",
       "</div>"
      ],
      "text/plain": [
       "         Breach ID         Year\n",
       "count  1018.000000  1018.000000\n",
       "mean    527.172888  2011.454813\n",
       "std     303.984328     1.587321\n",
       "min       0.000000  1997.000000\n",
       "25%     263.250000  2010.000000\n",
       "50%     532.500000  2012.000000\n",
       "75%     787.750000  2013.000000\n",
       "max    1054.000000  2014.000000"
      ]
     },
     "execution_count": 39,
     "metadata": {},
     "output_type": "execute_result"
    }
   ],
   "source": [
    "cyber_data.describe()"
   ]
  },
  {
   "cell_type": "markdown",
   "metadata": {},
   "source": [
    "### Find the states with the most and least data breaches"
   ]
  },
  {
   "cell_type": "code",
   "execution_count": null,
   "metadata": {},
   "outputs": [],
   "source": [
    "# group data and count breach occurances\n",
    "# sort values so that the max is at the top and min is last\n",
    "top_breach_states = pd.DataFrame(cyber_data.groupby(['State'])['Breach ID'].count().sort_values(ascending=False))\n",
    "\n",
    "# use describe to identify min/max values for boolean then convert to int\n",
    "st_breach_max = int(top_breach_states.describe().max()) \n",
    "st_breach_min = int(top_breach_states.describe().min())\n",
    "\n",
    "#isolate the min state\n",
    "top_breach_states[top_breach_states['Breach ID']==st_breach_min]\n",
    "# isolate the max state\n",
    "top_breach_states[top_breach_states['Breach ID']==st_breach_max]"
   ]
  },
  {
   "cell_type": "markdown",
   "metadata": {},
   "source": [
    "## BARCHART OF STATES & BRAECH COUNT"
   ]
  },
  {
   "cell_type": "markdown",
   "metadata": {},
   "source": [
    "### Look for trends over the years"
   ]
  },
  {
   "cell_type": "code",
   "execution_count": 51,
   "metadata": {},
   "outputs": [
    {
     "data": {
      "text/html": [
       "<div>\n",
       "<style scoped>\n",
       "    .dataframe tbody tr th:only-of-type {\n",
       "        vertical-align: middle;\n",
       "    }\n",
       "\n",
       "    .dataframe tbody tr th {\n",
       "        vertical-align: top;\n",
       "    }\n",
       "\n",
       "    .dataframe thead th {\n",
       "        text-align: right;\n",
       "    }\n",
       "</style>\n",
       "<table border=\"1\" class=\"dataframe\">\n",
       "  <thead>\n",
       "    <tr style=\"text-align: right;\">\n",
       "      <th></th>\n",
       "      <th>Year</th>\n",
       "      <th>Month</th>\n",
       "      <th>Breach Count</th>\n",
       "    </tr>\n",
       "  </thead>\n",
       "  <tbody>\n",
       "    <tr>\n",
       "      <th>66</th>\n",
       "      <td>2013</td>\n",
       "      <td>Mar</td>\n",
       "      <td>25</td>\n",
       "    </tr>\n",
       "    <tr>\n",
       "      <th>55</th>\n",
       "      <td>2012</td>\n",
       "      <td>May</td>\n",
       "      <td>24</td>\n",
       "    </tr>\n",
       "    <tr>\n",
       "      <th>46</th>\n",
       "      <td>2011</td>\n",
       "      <td>Sep</td>\n",
       "      <td>24</td>\n",
       "    </tr>\n",
       "    <tr>\n",
       "      <th>69</th>\n",
       "      <td>2013</td>\n",
       "      <td>Oct</td>\n",
       "      <td>24</td>\n",
       "    </tr>\n",
       "    <tr>\n",
       "      <th>57</th>\n",
       "      <td>2012</td>\n",
       "      <td>Oct</td>\n",
       "      <td>24</td>\n",
       "    </tr>\n",
       "  </tbody>\n",
       "</table>\n",
       "</div>"
      ],
      "text/plain": [
       "    Year Month  Breach Count\n",
       "66  2013   Mar            25\n",
       "55  2012   May            24\n",
       "46  2011   Sep            24\n",
       "69  2013   Oct            24\n",
       "57  2012   Oct            24"
      ]
     },
     "execution_count": 51,
     "metadata": {},
     "output_type": "execute_result"
    }
   ],
   "source": [
    "# group data by year & State to define datat for plot over time\n",
    "# state_yr_breach = cyber_data.groupby(['Year','State'])['Breach ID'].count().sort_values()\n",
    "# state_yr_breach = pd.DataFrame(state_yr_breach.reset_index())\n",
    "# state_yr_breach.columns = ['Year', 'State', 'Breach Count']\n",
    "# state_yr_breach.head()\n",
    "\n",
    "# DF of breach counts by YR\n",
    "cyber_data['Year'].sort_values(ascending=False)\n",
    "yr_breach_count = pd.DataFrame(cyber_data.groupby(['Year','Month'])['Breach ID'].count())                              \n",
    "yr_breach_count = yr_breach_count.rename(columns={'Breach ID': 'Breach Count'}) \n",
    "yr_breach_count.reset_index().sort_values('Breach Count',ascending=False).head()"
   ]
  },
  {
   "cell_type": "markdown",
   "metadata": {},
   "source": [
    "# BARCHART CHART HERE YEAR AND BREACH COUNT"
   ]
  },
  {
   "cell_type": "code",
   "execution_count": 43,
   "metadata": {},
   "outputs": [],
   "source": [
    "# get quartiles of Breach count per year\n",
    "# (q1,q2,q3) = yr_breach_count['Breach Count'].quantile([.25, .5, .75])\n",
    "# find upper and lower bounds\n",
    "# mean =  yr_breach_count['Breach Count'].mean()\n",
    "# iqr = q3 - q1\n",
    "# low_bound = q1 - (1.5*iqr)\n",
    "# upr_bound = q3 + (1.5*iqr)"
   ]
  },
  {
   "cell_type": "markdown",
   "metadata": {},
   "source": [
    "---"
   ]
  },
  {
   "cell_type": "markdown",
   "metadata": {},
   "source": [
    "## Isolate data to most occurances of data breaches"
   ]
  },
  {
   "cell_type": "code",
   "execution_count": 45,
   "metadata": {},
   "outputs": [],
   "source": [
    "# pull only the data points that are in tX & CA\n",
    "tx_breaches = cyber_data.loc[(cyber_data['State']=='TX')]['Breach ID']\n",
    "ca_breaches = cyber_data.loc[(cyber_data['State']=='CA')]['Breach ID']"
   ]
  },
  {
   "cell_type": "markdown",
   "metadata": {},
   "source": [
    "# BOX PLOT HERE TX & CA "
   ]
  },
  {
   "cell_type": "markdown",
   "metadata": {},
   "source": [
    "----\n",
    "# **Fire Data** "
   ]
  },
  {
   "cell_type": "markdown",
   "metadata": {},
   "source": [
    "---\n",
    "### Pull and format data for analysis"
   ]
  },
  {
   "cell_type": "code",
   "execution_count": 24,
   "metadata": {},
   "outputs": [
    {
     "data": {
      "text/html": [
       "<div>\n",
       "<style scoped>\n",
       "    .dataframe tbody tr th:only-of-type {\n",
       "        vertical-align: middle;\n",
       "    }\n",
       "\n",
       "    .dataframe tbody tr th {\n",
       "        vertical-align: top;\n",
       "    }\n",
       "\n",
       "    .dataframe thead th {\n",
       "        text-align: right;\n",
       "    }\n",
       "</style>\n",
       "<table border=\"1\" class=\"dataframe\">\n",
       "  <thead>\n",
       "    <tr style=\"text-align: right;\">\n",
       "      <th></th>\n",
       "      <th>Unnamed: 0</th>\n",
       "      <th>dis_id</th>\n",
       "      <th>date</th>\n",
       "      <th>state</th>\n",
       "      <th>type</th>\n",
       "    </tr>\n",
       "  </thead>\n",
       "  <tbody>\n",
       "    <tr>\n",
       "      <th>0</th>\n",
       "      <td>1743</td>\n",
       "      <td>5f7b2c0831a8c6681cfd7421</td>\n",
       "      <td>2008-02-08</td>\n",
       "      <td>TX</td>\n",
       "      <td>Fire</td>\n",
       "    </tr>\n",
       "    <tr>\n",
       "      <th>1</th>\n",
       "      <td>1744</td>\n",
       "      <td>5f7b2c0831a8c6681cfd7423</td>\n",
       "      <td>2008-02-13</td>\n",
       "      <td>TX</td>\n",
       "      <td>Fire</td>\n",
       "    </tr>\n",
       "    <tr>\n",
       "      <th>2</th>\n",
       "      <td>1745</td>\n",
       "      <td>5f7b2c0831a8c6681cfd7426</td>\n",
       "      <td>2008-02-23</td>\n",
       "      <td>TX</td>\n",
       "      <td>Fire</td>\n",
       "    </tr>\n",
       "    <tr>\n",
       "      <th>3</th>\n",
       "      <td>1746</td>\n",
       "      <td>5f7b2c0831a8c6681cfd742a</td>\n",
       "      <td>2008-02-25</td>\n",
       "      <td>TX</td>\n",
       "      <td>Fire</td>\n",
       "    </tr>\n",
       "    <tr>\n",
       "      <th>4</th>\n",
       "      <td>1747</td>\n",
       "      <td>5f7b2c0831a8c6681cfd742e</td>\n",
       "      <td>2008-02-25</td>\n",
       "      <td>OK</td>\n",
       "      <td>Fire</td>\n",
       "    </tr>\n",
       "  </tbody>\n",
       "</table>\n",
       "</div>"
      ],
      "text/plain": [
       "   Unnamed: 0                    dis_id        date state  type\n",
       "0        1743  5f7b2c0831a8c6681cfd7421  2008-02-08    TX  Fire\n",
       "1        1744  5f7b2c0831a8c6681cfd7423  2008-02-13    TX  Fire\n",
       "2        1745  5f7b2c0831a8c6681cfd7426  2008-02-23    TX  Fire\n",
       "3        1746  5f7b2c0831a8c6681cfd742a  2008-02-25    TX  Fire\n",
       "4        1747  5f7b2c0831a8c6681cfd742e  2008-02-25    OK  Fire"
      ]
     },
     "execution_count": 24,
     "metadata": {},
     "output_type": "execute_result"
    }
   ],
   "source": [
    "# pull in fire data from API results\n",
    "firedf = pd.read_csv('source_data/disaster_data.csv')\n",
    "firedf.head()"
   ]
  },
  {
   "cell_type": "code",
   "execution_count": 25,
   "metadata": {},
   "outputs": [
    {
     "data": {
      "text/html": [
       "<div>\n",
       "<style scoped>\n",
       "    .dataframe tbody tr th:only-of-type {\n",
       "        vertical-align: middle;\n",
       "    }\n",
       "\n",
       "    .dataframe tbody tr th {\n",
       "        vertical-align: top;\n",
       "    }\n",
       "\n",
       "    .dataframe thead th {\n",
       "        text-align: right;\n",
       "    }\n",
       "</style>\n",
       "<table border=\"1\" class=\"dataframe\">\n",
       "  <thead>\n",
       "    <tr style=\"text-align: right;\">\n",
       "      <th></th>\n",
       "      <th>Unnamed: 0</th>\n",
       "      <th>dis_id</th>\n",
       "      <th>date</th>\n",
       "      <th>state</th>\n",
       "      <th>type</th>\n",
       "      <th>month</th>\n",
       "      <th>year</th>\n",
       "    </tr>\n",
       "  </thead>\n",
       "  <tbody>\n",
       "    <tr>\n",
       "      <th>0</th>\n",
       "      <td>1743</td>\n",
       "      <td>5f7b2c0831a8c6681cfd7421</td>\n",
       "      <td>2008-02-08</td>\n",
       "      <td>TX</td>\n",
       "      <td>Fire</td>\n",
       "      <td>2</td>\n",
       "      <td>2008</td>\n",
       "    </tr>\n",
       "    <tr>\n",
       "      <th>1</th>\n",
       "      <td>1744</td>\n",
       "      <td>5f7b2c0831a8c6681cfd7423</td>\n",
       "      <td>2008-02-13</td>\n",
       "      <td>TX</td>\n",
       "      <td>Fire</td>\n",
       "      <td>2</td>\n",
       "      <td>2008</td>\n",
       "    </tr>\n",
       "    <tr>\n",
       "      <th>2</th>\n",
       "      <td>1745</td>\n",
       "      <td>5f7b2c0831a8c6681cfd7426</td>\n",
       "      <td>2008-02-23</td>\n",
       "      <td>TX</td>\n",
       "      <td>Fire</td>\n",
       "      <td>2</td>\n",
       "      <td>2008</td>\n",
       "    </tr>\n",
       "    <tr>\n",
       "      <th>3</th>\n",
       "      <td>1746</td>\n",
       "      <td>5f7b2c0831a8c6681cfd742a</td>\n",
       "      <td>2008-02-25</td>\n",
       "      <td>TX</td>\n",
       "      <td>Fire</td>\n",
       "      <td>2</td>\n",
       "      <td>2008</td>\n",
       "    </tr>\n",
       "    <tr>\n",
       "      <th>4</th>\n",
       "      <td>1747</td>\n",
       "      <td>5f7b2c0831a8c6681cfd742e</td>\n",
       "      <td>2008-02-25</td>\n",
       "      <td>OK</td>\n",
       "      <td>Fire</td>\n",
       "      <td>2</td>\n",
       "      <td>2008</td>\n",
       "    </tr>\n",
       "  </tbody>\n",
       "</table>\n",
       "</div>"
      ],
      "text/plain": [
       "   Unnamed: 0                    dis_id        date state  type  month  year\n",
       "0        1743  5f7b2c0831a8c6681cfd7421  2008-02-08    TX  Fire      2  2008\n",
       "1        1744  5f7b2c0831a8c6681cfd7423  2008-02-13    TX  Fire      2  2008\n",
       "2        1745  5f7b2c0831a8c6681cfd7426  2008-02-23    TX  Fire      2  2008\n",
       "3        1746  5f7b2c0831a8c6681cfd742a  2008-02-25    TX  Fire      2  2008\n",
       "4        1747  5f7b2c0831a8c6681cfd742e  2008-02-25    OK  Fire      2  2008"
      ]
     },
     "execution_count": 25,
     "metadata": {},
     "output_type": "execute_result"
    }
   ],
   "source": [
    "# add month and yr columns\n",
    "firedf['month'] = pd.DatetimeIndex(firedf['date']).month\n",
    "firedf['year'] = pd.DatetimeIndex(firedf['date']).year\n",
    "firedf.head()"
   ]
  },
  {
   "cell_type": "code",
   "execution_count": 26,
   "metadata": {},
   "outputs": [
    {
     "data": {
      "text/html": [
       "<div>\n",
       "<style scoped>\n",
       "    .dataframe tbody tr th:only-of-type {\n",
       "        vertical-align: middle;\n",
       "    }\n",
       "\n",
       "    .dataframe tbody tr th {\n",
       "        vertical-align: top;\n",
       "    }\n",
       "\n",
       "    .dataframe thead th {\n",
       "        text-align: right;\n",
       "    }\n",
       "</style>\n",
       "<table border=\"1\" class=\"dataframe\">\n",
       "  <thead>\n",
       "    <tr style=\"text-align: right;\">\n",
       "      <th></th>\n",
       "      <th>Unnamed: 0</th>\n",
       "      <th>dis_id</th>\n",
       "      <th>date</th>\n",
       "      <th>state</th>\n",
       "      <th>type</th>\n",
       "      <th>month</th>\n",
       "      <th>year</th>\n",
       "    </tr>\n",
       "  </thead>\n",
       "  <tbody>\n",
       "    <tr>\n",
       "      <th>0</th>\n",
       "      <td>1743</td>\n",
       "      <td>5f7b2c0831a8c6681cfd7421</td>\n",
       "      <td>2008-02-08</td>\n",
       "      <td>TX</td>\n",
       "      <td>Fire</td>\n",
       "      <td>Feb</td>\n",
       "      <td>2008</td>\n",
       "    </tr>\n",
       "    <tr>\n",
       "      <th>1</th>\n",
       "      <td>1744</td>\n",
       "      <td>5f7b2c0831a8c6681cfd7423</td>\n",
       "      <td>2008-02-13</td>\n",
       "      <td>TX</td>\n",
       "      <td>Fire</td>\n",
       "      <td>Feb</td>\n",
       "      <td>2008</td>\n",
       "    </tr>\n",
       "    <tr>\n",
       "      <th>2</th>\n",
       "      <td>1745</td>\n",
       "      <td>5f7b2c0831a8c6681cfd7426</td>\n",
       "      <td>2008-02-23</td>\n",
       "      <td>TX</td>\n",
       "      <td>Fire</td>\n",
       "      <td>Feb</td>\n",
       "      <td>2008</td>\n",
       "    </tr>\n",
       "    <tr>\n",
       "      <th>3</th>\n",
       "      <td>1746</td>\n",
       "      <td>5f7b2c0831a8c6681cfd742a</td>\n",
       "      <td>2008-02-25</td>\n",
       "      <td>TX</td>\n",
       "      <td>Fire</td>\n",
       "      <td>Feb</td>\n",
       "      <td>2008</td>\n",
       "    </tr>\n",
       "    <tr>\n",
       "      <th>4</th>\n",
       "      <td>1747</td>\n",
       "      <td>5f7b2c0831a8c6681cfd742e</td>\n",
       "      <td>2008-02-25</td>\n",
       "      <td>OK</td>\n",
       "      <td>Fire</td>\n",
       "      <td>Feb</td>\n",
       "      <td>2008</td>\n",
       "    </tr>\n",
       "  </tbody>\n",
       "</table>\n",
       "</div>"
      ],
      "text/plain": [
       "   Unnamed: 0                    dis_id        date state  type month  year\n",
       "0        1743  5f7b2c0831a8c6681cfd7421  2008-02-08    TX  Fire   Feb  2008\n",
       "1        1744  5f7b2c0831a8c6681cfd7423  2008-02-13    TX  Fire   Feb  2008\n",
       "2        1745  5f7b2c0831a8c6681cfd7426  2008-02-23    TX  Fire   Feb  2008\n",
       "3        1746  5f7b2c0831a8c6681cfd742a  2008-02-25    TX  Fire   Feb  2008\n",
       "4        1747  5f7b2c0831a8c6681cfd742e  2008-02-25    OK  Fire   Feb  2008"
      ]
     },
     "execution_count": 26,
     "metadata": {},
     "output_type": "execute_result"
    }
   ],
   "source": [
    "# change month # to month name\n",
    "firedf['month'] = firedf['month'].apply(lambda x: calendar.month_abbr[x])\n",
    "firedf.head()"
   ]
  },
  {
   "cell_type": "markdown",
   "metadata": {},
   "source": [
    "---\n",
    "### Get a sense of the data by running inital analysis"
   ]
  },
  {
   "cell_type": "code",
   "execution_count": 37,
   "metadata": {},
   "outputs": [
    {
     "data": {
      "image/png": "[encoded data removed]",
      "text/plain": [
       "<Figure size 432x288 with 1 Axes>"
      ]
     },
     "metadata": {
      "needs_background": "light"
     },
     "output_type": "display_data"
    }
   ],
   "source": [
    "# look at overall data distribution\n",
    "len_brch = len(firedf['state'])\n",
    "plt.hist(firedf['state'], bins=10)\n",
    "plt.xlabel('States')\n",
    "plt.ylabel('? frequency of what ?')\n",
    "plt.show()\n",
    "# looks very abnormal"
   ]
  },
  {
   "cell_type": "code",
   "execution_count": 30,
   "metadata": {},
   "outputs": [
    {
     "data": {
      "text/html": [
       "<div>\n",
       "<style scoped>\n",
       "    .dataframe tbody tr th:only-of-type {\n",
       "        vertical-align: middle;\n",
       "    }\n",
       "\n",
       "    .dataframe tbody tr th {\n",
       "        vertical-align: top;\n",
       "    }\n",
       "\n",
       "    .dataframe thead th {\n",
       "        text-align: right;\n",
       "    }\n",
       "</style>\n",
       "<table border=\"1\" class=\"dataframe\">\n",
       "  <thead>\n",
       "    <tr style=\"text-align: right;\">\n",
       "      <th></th>\n",
       "      <th>Unnamed: 0</th>\n",
       "      <th>year</th>\n",
       "    </tr>\n",
       "  </thead>\n",
       "  <tbody>\n",
       "    <tr>\n",
       "      <th>count</th>\n",
       "      <td>866.000000</td>\n",
       "      <td>866.000000</td>\n",
       "    </tr>\n",
       "    <tr>\n",
       "      <th>mean</th>\n",
       "      <td>2175.500000</td>\n",
       "      <td>2010.090069</td>\n",
       "    </tr>\n",
       "    <tr>\n",
       "      <th>std</th>\n",
       "      <td>250.136962</td>\n",
       "      <td>1.833211</td>\n",
       "    </tr>\n",
       "    <tr>\n",
       "      <th>min</th>\n",
       "      <td>1743.000000</td>\n",
       "      <td>2008.000000</td>\n",
       "    </tr>\n",
       "    <tr>\n",
       "      <th>25%</th>\n",
       "      <td>1959.250000</td>\n",
       "      <td>2008.000000</td>\n",
       "    </tr>\n",
       "    <tr>\n",
       "      <th>50%</th>\n",
       "      <td>2175.500000</td>\n",
       "      <td>2011.000000</td>\n",
       "    </tr>\n",
       "    <tr>\n",
       "      <th>75%</th>\n",
       "      <td>2391.750000</td>\n",
       "      <td>2011.000000</td>\n",
       "    </tr>\n",
       "    <tr>\n",
       "      <th>max</th>\n",
       "      <td>2608.000000</td>\n",
       "      <td>2014.000000</td>\n",
       "    </tr>\n",
       "  </tbody>\n",
       "</table>\n",
       "</div>"
      ],
      "text/plain": [
       "        Unnamed: 0         year\n",
       "count   866.000000   866.000000\n",
       "mean   2175.500000  2010.090069\n",
       "std     250.136962     1.833211\n",
       "min    1743.000000  2008.000000\n",
       "25%    1959.250000  2008.000000\n",
       "50%    2175.500000  2011.000000\n",
       "75%    2391.750000  2011.000000\n",
       "max    2608.000000  2014.000000"
      ]
     },
     "execution_count": 30,
     "metadata": {},
     "output_type": "execute_result"
    }
   ],
   "source": [
    "firedf.describe()"
   ]
  },
  {
   "cell_type": "code",
   "execution_count": 48,
   "metadata": {},
   "outputs": [
    {
     "data": {
      "text/html": [
       "<div>\n",
       "<style scoped>\n",
       "    .dataframe tbody tr th:only-of-type {\n",
       "        vertical-align: middle;\n",
       "    }\n",
       "\n",
       "    .dataframe tbody tr th {\n",
       "        vertical-align: top;\n",
       "    }\n",
       "\n",
       "    .dataframe thead th {\n",
       "        text-align: right;\n",
       "    }\n",
       "</style>\n",
       "<table border=\"1\" class=\"dataframe\">\n",
       "  <thead>\n",
       "    <tr style=\"text-align: right;\">\n",
       "      <th></th>\n",
       "      <th>year</th>\n",
       "      <th>month</th>\n",
       "      <th>fire_count</th>\n",
       "    </tr>\n",
       "  </thead>\n",
       "  <tbody>\n",
       "    <tr>\n",
       "      <th>5</th>\n",
       "      <td>2008</td>\n",
       "      <td>Mar</td>\n",
       "      <td>240</td>\n",
       "    </tr>\n",
       "    <tr>\n",
       "      <th>24</th>\n",
       "      <td>2011</td>\n",
       "      <td>Apr</td>\n",
       "      <td>168</td>\n",
       "    </tr>\n",
       "    <tr>\n",
       "      <th>25</th>\n",
       "      <td>2011</td>\n",
       "      <td>Aug</td>\n",
       "      <td>80</td>\n",
       "    </tr>\n",
       "    <tr>\n",
       "      <th>28</th>\n",
       "      <td>2011</td>\n",
       "      <td>Jun</td>\n",
       "      <td>32</td>\n",
       "    </tr>\n",
       "    <tr>\n",
       "      <th>4</th>\n",
       "      <td>2008</td>\n",
       "      <td>Jun</td>\n",
       "      <td>32</td>\n",
       "    </tr>\n",
       "  </tbody>\n",
       "</table>\n",
       "</div>"
      ],
      "text/plain": [
       "    year month  fire_count\n",
       "5   2008   Mar         240\n",
       "24  2011   Apr         168\n",
       "25  2011   Aug          80\n",
       "28  2011   Jun          32\n",
       "4   2008   Jun          32"
      ]
     },
     "execution_count": 48,
     "metadata": {},
     "output_type": "execute_result"
    }
   ],
   "source": [
    "# DF of breach counts by YR\n",
    "firedf['year'].sort_values(ascending=False)\n",
    "yr_fire_count = pd.DataFrame(firedf.groupby(['year','month'])['dis_id'].count())                              \n",
    "yr_fire_count = yr_fire_count.rename(columns={'dis_id': 'fire_count'}) \n",
    "yr_fire_count.reset_index().sort_values( 'fire_count',ascending=False).head()"
   ]
  },
  {
   "cell_type": "markdown",
   "metadata": {},
   "source": [
    "### Find the state with the most & least wildfires"
   ]
  },
  {
   "cell_type": "code",
   "execution_count": 32,
   "metadata": {},
   "outputs": [],
   "source": [
    "# group data and count wildfire occurances\n",
    "# sort values so that the max is at the top and min is last\n",
    "st_fire_count = pd.DataFrame(firedf.groupby(['state'])['dis_id'].count().sort_values(ascending=False))\n",
    "# use describe to identify min/max values for boolean then convert to int\n",
    "st_fire_max = int(st_fire_count.describe().max()) \n",
    "st_fire_min = int(st_fire_count.describe().min())\n",
    "st_fire_count.describe()\n",
    "\n",
    "#isolate the min state\n",
    "st_fire_count[st_fire_count['dis_id']==st_fire_min]\n",
    "# isolate the max state\n",
    "st_fire_count[st_fire_count['dis_id']==st_fire_max]"
   ]
  },
  {
   "cell_type": "markdown",
   "metadata": {},
   "source": [
    "## BARCHART OF STATES & BRAECH COUNT"
   ]
  },
  {
   "cell_type": "markdown",
   "metadata": {},
   "source": [
    "### Look for trends over the years"
   ]
  },
  {
   "cell_type": "code",
   "execution_count": 53,
   "metadata": {},
   "outputs": [
    {
     "data": {
      "text/html": [
       "<div>\n",
       "<style scoped>\n",
       "    .dataframe tbody tr th:only-of-type {\n",
       "        vertical-align: middle;\n",
       "    }\n",
       "\n",
       "    .dataframe tbody tr th {\n",
       "        vertical-align: top;\n",
       "    }\n",
       "\n",
       "    .dataframe thead th {\n",
       "        text-align: right;\n",
       "    }\n",
       "</style>\n",
       "<table border=\"1\" class=\"dataframe\">\n",
       "  <thead>\n",
       "    <tr style=\"text-align: right;\">\n",
       "      <th></th>\n",
       "      <th>year</th>\n",
       "      <th>month</th>\n",
       "      <th>Fire Count</th>\n",
       "    </tr>\n",
       "  </thead>\n",
       "  <tbody>\n",
       "    <tr>\n",
       "      <th>5</th>\n",
       "      <td>2008</td>\n",
       "      <td>Mar</td>\n",
       "      <td>240</td>\n",
       "    </tr>\n",
       "    <tr>\n",
       "      <th>24</th>\n",
       "      <td>2011</td>\n",
       "      <td>Apr</td>\n",
       "      <td>168</td>\n",
       "    </tr>\n",
       "    <tr>\n",
       "      <th>25</th>\n",
       "      <td>2011</td>\n",
       "      <td>Aug</td>\n",
       "      <td>80</td>\n",
       "    </tr>\n",
       "    <tr>\n",
       "      <th>28</th>\n",
       "      <td>2011</td>\n",
       "      <td>Jun</td>\n",
       "      <td>32</td>\n",
       "    </tr>\n",
       "    <tr>\n",
       "      <th>4</th>\n",
       "      <td>2008</td>\n",
       "      <td>Jun</td>\n",
       "      <td>32</td>\n",
       "    </tr>\n",
       "  </tbody>\n",
       "</table>\n",
       "</div>"
      ],
      "text/plain": [
       "    year month  Fire Count\n",
       "5   2008   Mar         240\n",
       "24  2011   Apr         168\n",
       "25  2011   Aug          80\n",
       "28  2011   Jun          32\n",
       "4   2008   Jun          32"
      ]
     },
     "execution_count": 53,
     "metadata": {},
     "output_type": "execute_result"
    }
   ],
   "source": [
    "# group data by year & State to define datat for plot over time\n",
    "# state_yr_breach = cyber_data.groupby(['Year','State'])['Breach ID'].count().sort_values()\n",
    "# state_yr_breach = pd.DataFrame(state_yr_breach.reset_index())\n",
    "# state_yr_breach.columns = ['Year', 'State', 'Breach Count']\n",
    "# state_yr_breach.head()\n",
    "\n",
    "# DF of breach counts by YR\n",
    "firedf['year'].sort_values(ascending=False)\n",
    "yr_fire_count = pd.DataFrame(firedf.groupby(['year','month'])['dis_id'].count())                              \n",
    "yr_fire_count = yr_fire_count.rename(columns={'dis_id': 'Fire Count'}) \n",
    "yr_fire_count.reset_index().sort_values('Fire Count',ascending=False).head()"
   ]
  },
  {
   "cell_type": "markdown",
   "metadata": {},
   "source": [
    "# BARCHART CHART HERE YEAR AND BREACH COUNT"
   ]
  },
  {
   "cell_type": "code",
   "execution_count": null,
   "metadata": {},
   "outputs": [],
   "source": [
    "# get quartiles of Breach count per year\n",
    "# (q1,q2,q3) = yr_breach_count['Breach Count'].quantile([.25, .5, .75])\n",
    "# find upper and lower bounds\n",
    "# mean =  yr_breach_count['Breach Count'].mean()\n",
    "# iqr = q3 - q1\n",
    "# low_bound = q1 - (1.5*iqr)\n",
    "# upr_bound = q3 + (1.5*iqr)"
   ]
  },
  {
   "cell_type": "markdown",
   "metadata": {},
   "source": [
    "----\n",
    "## Isolate data to most occurances of data breaches"
   ]
  },
  {
   "cell_type": "code",
   "execution_count": 44,
   "metadata": {},
   "outputs": [],
   "source": [
    "# pull only the data points that are in tX & CA\n",
    "tx_fires = firedf.loc[(firedf['state']=='TX')]['dis_id']\n",
    "ca_fires = firedf.loc[(firedf['state']=='CA')]['dis_id']"
   ]
  },
  {
   "cell_type": "markdown",
   "metadata": {},
   "source": [
    "# BOX PLOT HERE TX & CA "
   ]
  },
  {
   "cell_type": "markdown",
   "metadata": {},
   "source": [
    "----\n",
    "# COMBINED ANALYSIS\n",
    "----"
   ]
  },
  {
   "cell_type": "markdown",
   "metadata": {},
   "source": [
    "## State fires v State breaches\n",
    "* Scatter Plot"
   ]
  },
  {
   "cell_type": "markdown",
   "metadata": {},
   "source": [
    "## TX Fires v. TX Breaches\n",
    "* Scatter Plot"
   ]
  },
  {
   "cell_type": "markdown",
   "metadata": {},
   "source": [
    "## CA Fires v. CA Breaches\n",
    "* Scatter Plot"
   ]
  },
  {
   "cell_type": "markdown",
   "metadata": {},
   "source": [
    "## YR Fires v. YR Breaches\n",
    "* Line chart w/ both data sets"
   ]
  },
  {
   "cell_type": "code",
   "execution_count": null,
   "metadata": {},
   "outputs": [],
   "source": []
  }
 ],
 "metadata": {
  "kernelspec": {
   "display_name": "Python 3",
   "language": "python",
   "name": "python3"
  },
  "language_info": {
   "codemirror_mode": {
    "name": "ipython",
    "version": 3
   },
   "file_extension": ".py",
   "mimetype": "text/x-python",
   "name": "python",
   "nbconvert_exporter": "python",
   "pygments_lexer": "ipython3",
   "version": "3.8.3"
  }
 },
 "nbformat": 4,
 "nbformat_minor": 4
}
